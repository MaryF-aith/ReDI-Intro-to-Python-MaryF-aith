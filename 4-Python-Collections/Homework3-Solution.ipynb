{
 "cells": [
  {
   "cell_type": "markdown",
   "id": "782dfb9f-b24b-4025-b7fa-9c2c880fd39d",
   "metadata": {},
   "source": [
    "## Homework 3\n",
    "\n",
    "Names of group are Deniz, Rachel, Olivia, Oksana, Milena, Amy, Usman, Anika\n"
   ]
  },
  {
   "cell_type": "markdown",
   "id": "c72929f4-b0da-4c3b-88b5-30ce48d4be44",
   "metadata": {},
   "source": [
    "### Task 1\n",
    "\n",
    "- Create a list with the first names of your breakout room group, and assign this to the variable `first_names`. Print the list.\n",
    "- Print out the value of the second name in `first_names`. (Hint: use the bracket notation asa with strings.)\n",
    "- Print the length of the list of names.\n",
    "- Create a slice of the list containing the first two names and print this slice."
   ]
  },
  {
   "cell_type": "code",
   "execution_count": 2,
   "id": "5bb122d3-946e-4970-a628-4706ea2defc1",
   "metadata": {
    "tags": []
   },
   "outputs": [
    {
     "name": "stdout",
     "output_type": "stream",
     "text": [
      "Deniz\n",
      "8\n",
      "['Deniz', 'Rachel']\n",
      "['Rachel', 'Olivia']\n"
     ]
    }
   ],
   "source": [
    "first_names=['Deniz', 'Rachel', 'Olivia', 'Oksana', 'Milena', 'Amy', 'Usman', 'Anika']\n",
    "print(first_names[0])\n",
    "print(len(first_names))\n",
    "print(first_names[:2])\n",
    "print(first_names[1:3])"
   ]
  },
  {
   "cell_type": "markdown",
   "id": "dd638add-88ac-4e7b-ab46-ba1150b37a5e",
   "metadata": {},
   "source": [
    "### Task 2 - Appending and removing elements from a list\n",
    "\n",
    "There are several methods that you can use with lists. The `.append()` method adds an item to a list, while the `.remove()` method removes an item from the list:\n",
    "\n",
    "```py\n",
    "fruits = ['apple','banana','orange']\n",
    "fruits.append('mango')\n",
    "# value of fruits is now: ['apple','banana','orange','mango']\n",
    "fruits.remove('banana')\n",
    "# value of fruits is now: ['apple','orange','mango']\n",
    "```\n",
    "\n",
    "- Using the list of your names (`first_names`), add one name and print the list.\n",
    "- Using the list of your names (`first_names`), remove one name and print the list."
   ]
  },
  {
   "cell_type": "code",
   "execution_count": 3,
   "id": "2b796072-536a-45dd-aa4b-7213bc0252e3",
   "metadata": {
    "tags": []
   },
   "outputs": [
    {
     "name": "stdout",
     "output_type": "stream",
     "text": [
      "['Deniz', 'Rachel', 'Olivia', 'Oksana', 'Milena', 'Amy', 'Usman', 'Anika', 'Felix']\n"
     ]
    }
   ],
   "source": [
    "first_names.append(\"Felix\")\n",
    "print(first_names)"
   ]
  },
  {
   "cell_type": "code",
   "execution_count": 5,
   "id": "e384be17-e7d4-4135-b5ef-06badb79e82d",
   "metadata": {
    "tags": []
   },
   "outputs": [
    {
     "name": "stdout",
     "output_type": "stream",
     "text": [
      "['Deniz', 'Rachel', 'Olivia', 'Oksana', 'Milena', 'Usman', 'Anika', 'Felix']\n"
     ]
    }
   ],
   "source": [
    "first_names.remove(\"Amy\")\n",
    "print(first_names)"
   ]
  },
  {
   "cell_type": "markdown",
   "id": "3fd37aa8-96a7-46a5-bd38-35d77311536f",
   "metadata": {},
   "source": [
    "### Task 3 - Dictionaries\n",
    "\n",
    "- Create a dictionary called `person` with the keys `first_name` amd `last_name` and give them some values. Print out the dictionary.\n",
    "- In the `person` dictionary, assign the `job` key to the value `programmer`, and print out the dictionary.\n",
    "- Access and print out the value of the `first_name` key in the `person` dictionary.\n",
    "- Print out the keys, values, and items in the `person` dictionary."
   ]
  },
  {
   "cell_type": "code",
   "execution_count": 6,
   "id": "998059af-7a3c-48b6-9257-eb785201f041",
   "metadata": {
    "tags": []
   },
   "outputs": [
    {
     "name": "stdout",
     "output_type": "stream",
     "text": [
      "{'first_name': 'Neslihan', 'last_name': 'Keskin'}\n",
      "{'first_name': 'Neslihan', 'last_name': 'Keskin', 'job': 'programmer'}\n",
      "Neslihan\n",
      "['first_name', 'last_name', 'job']\n",
      "['Neslihan', 'Keskin', 'programmer']\n",
      "[('first_name', 'Neslihan'), ('last_name', 'Keskin'), ('job', 'programmer')]\n"
     ]
    }
   ],
   "source": [
    "person= {\"first_name\" : \"Neslihan\", \"last_name\" : \"Keskin\"}\n",
    "print(person)\n",
    "person['job'] = 'programmer'\n",
    "print(person)\n",
    "print(person[\"first_name\"])\n",
    "print(list(person.keys()))\n",
    "print(list(person.values()))\n",
    "print(list(person.items()))"
   ]
  },
  {
   "cell_type": "markdown",
   "id": "fcf098b3-7dd0-4844-a094-710b8c906d75",
   "metadata": {},
   "source": [
    "\n",
    "### Task 4 - Booleans\n",
    "\n",
    "- Create a variable called `boolean_var` and set it to `False`.\n",
    "- Print the value of the opposite of `boolean_var` (using `not`)."
   ]
  },
  {
   "cell_type": "code",
   "execution_count": 7,
   "id": "3a312406-5737-4e25-8609-91ba0625eb88",
   "metadata": {
    "tags": []
   },
   "outputs": [
    {
     "name": "stdout",
     "output_type": "stream",
     "text": [
      "True\n"
     ]
    }
   ],
   "source": [
    "boolean_var=False\n",
    "print(not boolean_var)"
   ]
  },
  {
   "cell_type": "code",
   "execution_count": 1,
   "id": "6843840e-6599-4c91-bbd5-cfd6be3938f4",
   "metadata": {
    "tags": []
   },
   "outputs": [
    {
     "data": {
      "text/plain": [
       "bool"
      ]
     },
     "execution_count": 1,
     "metadata": {},
     "output_type": "execute_result"
    }
   ],
   "source": [
    "my_var=True\n",
    "type(my_var)"
   ]
  },
  {
   "cell_type": "code",
   "execution_count": 2,
   "id": "77749c41-3cd6-4f67-98eb-aea5647e7cfe",
   "metadata": {
    "tags": []
   },
   "outputs": [
    {
     "data": {
      "text/plain": [
       "bool"
      ]
     },
     "execution_count": 2,
     "metadata": {},
     "output_type": "execute_result"
    }
   ],
   "source": [
    "my_var_2=False\n",
    "type(my_var_2)"
   ]
  },
  {
   "cell_type": "code",
   "execution_count": 3,
   "id": "e731cfe8-f435-49c9-9299-751edac40806",
   "metadata": {
    "tags": []
   },
   "outputs": [
    {
     "name": "stdout",
     "output_type": "stream",
     "text": [
      "True\n"
     ]
    }
   ],
   "source": [
    "print(not my_var_2)"
   ]
  },
  {
   "cell_type": "code",
   "execution_count": 7,
   "id": "65a2a78a-028d-441a-ad20-92b269c7d321",
   "metadata": {
    "tags": []
   },
   "outputs": [
    {
     "data": {
      "text/plain": [
       "True"
      ]
     },
     "execution_count": 7,
     "metadata": {},
     "output_type": "execute_result"
    }
   ],
   "source": [
    "my_var_2 != my_var"
   ]
  },
  {
   "cell_type": "code",
   "execution_count": 8,
   "id": "d04c09f8-4694-4111-8ac7-691d74a6e00a",
   "metadata": {
    "tags": []
   },
   "outputs": [
    {
     "data": {
      "text/plain": [
       "False"
      ]
     },
     "execution_count": 8,
     "metadata": {},
     "output_type": "execute_result"
    }
   ],
   "source": [
    "my_var_2 == my_var"
   ]
  },
  {
   "cell_type": "markdown",
   "id": "0df25588-fd1c-4754-a6a2-f9263ff05489",
   "metadata": {},
   "source": [
    "### Task 5 - Tuples\n",
    "- Create a tuple called `first_names_tuple` with the same names from your list. Print the tuple. Validate the data_type.\n",
    "- Print the first item of your tuple.\n",
    "- Print the number of items in your tuple.\n",
    "- Print the last item of your tuple.\n",
    "- Use a range of indexes to print the second and third item in the tuple.\n",
    "- If the name \"Oksana\" is on your tuple print \"Yes, Oksana is in our group\"\n",
    "- Once a tuple is created, you cannot change its values. Tuples are unchangeable. But you can convert the tuple into a list, change the list, and convert the list back into a tuple. Change the first element of your tuple to \"Nesli\".\n",
    "- Since tuples are unchangable, they dont have append() method but you can add an item to tuple by converting to list and converting back to a tuple. Convert the tuple into a list, add \"Alex\", and convert it back into a tuple.\n",
    "- Create a new tuple with the value \"Ali\", and add that tuple to your `first_names_tuple`\n",
    "- Print the `first_names_tuple`\n",
    "- Create a tuple with the values \"apple\", \"banana\", \"cherry\", assign the value of the tuples to variable called a thier colors. Hint:Google it \"Unpacking Tuple\""
   ]
  },
  {
   "cell_type": "code",
   "execution_count": 17,
   "id": "63dc28ce-47fd-466e-bfe5-fd3c3553f466",
   "metadata": {
    "tags": []
   },
   "outputs": [
    {
     "name": "stdout",
     "output_type": "stream",
     "text": [
      "Deniz\n",
      "8\n",
      "Anika\n",
      "('Rachel', 'Olivia')\n",
      "Yes, Oksana is in our group\n",
      "('Nesli', 'Rachel', 'Olivia', 'Oksana', 'Milena', 'Amy', 'Usman', 'Anika')\n",
      "('Nesli', 'Rachel', 'Olivia', 'Oksana', 'Milena', 'Amy', 'Usman', 'Anika', 'Alex')\n",
      "('Nesli', 'Rachel', 'Olivia', 'Oksana', 'Milena', 'Amy', 'Usman', 'Anika', 'Alex', 'Ali')\n",
      "banana\n"
     ]
    }
   ],
   "source": [
    "first_names_tuple=('Deniz', 'Rachel', 'Olivia', 'Oksana', 'Milena', 'Amy', 'Usman', 'Anika')\n",
    "print(first_names_tuple[0])\n",
    "print(len(first_names_tuple))\n",
    "print(first_names_tuple[-1])\n",
    "print(first_names_tuple[1:3])\n",
    "if \"Oksana\" in first_names_tuple:\n",
    "    print(\"Yes, Oksana is in our group\")\n",
    "my_list=list(first_names_tuple)\n",
    "my_list[0]=\"Nesli\"\n",
    "first_names_tuple=tuple(my_list)\n",
    "print(first_names_tuple)\n",
    "my_list=list(first_names_tuple)\n",
    "my_list.append(\"Alex\")\n",
    "first_names_tuple=tuple(my_list)\n",
    "print(first_names_tuple)\n",
    "new_tuple=('Ali',)\n",
    "first_names_tuple+=new_tuple\n",
    "print(first_names_tuple)\n",
    "green,yellow,red=('apple','banana','grapes')\n",
    "print(yellow)"
   ]
  },
  {
   "cell_type": "markdown",
   "id": "96942b04-0f9e-4270-9fad-62fea54fa924",
   "metadata": {},
   "source": [
    "### Task 6 - Sets\n",
    "\n",
    "- Create a set called `first_names_set` with the same names from your list. Print the set. Validate data_type of the set.\n",
    "- If the name \"Oksana\" is on your set print \"Yes, Oksana is in our group\" \n",
    "- Use add method to add \"Nesli\" to the first_names_set\n",
    "- Add the elements of the random_names to your set random_names=[\"Alex\", \"Alice\" , \"Ali\"]\n",
    "- Use remove method to remove Alice from your first_names_set\n",
    "- - Print the `first_names_sets`"
   ]
  },
  {
   "cell_type": "code",
   "execution_count": 18,
   "id": "b03dc331-5192-466d-b55f-51a944a63df8",
   "metadata": {
    "tags": []
   },
   "outputs": [
    {
     "name": "stdout",
     "output_type": "stream",
     "text": [
      "<class 'set'>\n",
      "Yes, Oskana is in our group\n",
      "{'Usman', 'Oksana', 'Rachel', 'Anika', 'Olivia', 'Deniz', 'Nesli', 'Amy', 'Milena'}\n",
      "{'Usman', 'Oksana', 'Rachel', 'Anika', 'Olivia', 'Ali', 'Deniz', 'Alex', 'Nesli', 'Alice', 'Amy', 'Milena'}\n",
      "{'Usman', 'Oksana', 'Rachel', 'Anika', 'Olivia', 'Ali', 'Deniz', 'Alex', 'Nesli', 'Amy', 'Milena'}\n"
     ]
    }
   ],
   "source": [
    "first_names_set={'Deniz', 'Rachel', 'Olivia', 'Oksana', 'Milena', 'Amy', 'Usman', 'Anika'}\n",
    "print(type(first_names_set))\n",
    "if \"Oksana\" in first_names_set:\n",
    "    print(\"Yes, Oskana is in our group\")\n",
    "first_names_set.add(\"Nesli\")\n",
    "print(first_names_set)\n",
    "random_names=[\"Alex\", \"Alice\" , \"Ali\"]\n",
    "first_names_set.update(random_names)\n",
    "print(first_names_set)\n",
    "first_names_set.remove(\"Alice\")\n",
    "print(first_names_set)"
   ]
  },
  {
   "cell_type": "code",
   "execution_count": 11,
   "id": "aab17c08-a904-4b24-b6d2-dbf2224f4797",
   "metadata": {},
   "outputs": [
    {
     "name": "stdout",
     "output_type": "stream",
     "text": [
      "congratulations!\n"
     ]
    }
   ],
   "source": [
    "print(\"Congratulations!\")"
   ]
  }
 ],
 "metadata": {
  "kernelspec": {
   "display_name": "Python 3 (ipykernel)",
   "language": "python",
   "name": "python3"
  },
  "language_info": {
   "codemirror_mode": {
    "name": "ipython",
    "version": 3
   },
   "file_extension": ".py",
   "mimetype": "text/x-python",
   "name": "python",
   "nbconvert_exporter": "python",
   "pygments_lexer": "ipython3",
   "version": "3.11.3"
  },
  "vscode": {
   "interpreter": {
    "hash": "916dbcbb3f70747c44a77c7bcd40155683ae19c65e1c03b4aa3499c5328201f1"
   }
  }
 },
 "nbformat": 4,
 "nbformat_minor": 5
}
