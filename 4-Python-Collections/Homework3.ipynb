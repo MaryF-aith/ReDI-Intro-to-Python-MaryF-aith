{
 "cells": [
  {
   "cell_type": "markdown",
   "id": "782dfb9f-b24b-4025-b7fa-9c2c880fd39d",
   "metadata": {},
   "source": [
    "## Homework 3\n"
   ]
  },
  {
   "cell_type": "markdown",
   "id": "630b5790-cc56-46e9-8a7d-fa2a73829754",
   "metadata": {},
   "source": [
    "Names of group are Deniz, Rachel, Olivia, Oksana, Milena, Amy, Usman, Anika"
   ]
  },
  {
   "cell_type": "markdown",
   "id": "c72929f4-b0da-4c3b-88b5-30ce48d4be44",
   "metadata": {},
   "source": [
    "### Task 1\n",
    "\n",
    "- Create a list with the first names of your breakout room group, and assign this to the variable `first_names`. Print the list.\n",
    "- Print out the value of the second name in `first_names`. (Hint: use the bracket notation asa with strings.)\n",
    "- Print the length of the list of names.\n",
    "- Create a slice of the list containing the first two names and print this slice."
   ]
  },
  {
   "cell_type": "code",
   "execution_count": null,
   "id": "5bb122d3-946e-4970-a628-4706ea2defc1",
   "metadata": {},
   "outputs": [],
   "source": []
  },
  {
   "cell_type": "markdown",
   "id": "dd638add-88ac-4e7b-ab46-ba1150b37a5e",
   "metadata": {},
   "source": [
    "### Task 2 - Appending and removing elements from a list\n",
    "\n",
    "There are several methods that you can use with lists. The `.append()` method adds an item to a list, while the `.remove()` method removes an item from the list:\n",
    "\n",
    "```py\n",
    "fruits = ['apple','banana','orange']\n",
    "fruits.append('mango')\n",
    "# value of fruits is now: ['apple','banana','orange','mango']\n",
    "fruits.remove('banana')\n",
    "# value of fruits is now: ['apple','orange','mango']\n",
    "```\n",
    "\n",
    "- Using the list of your names (`first_names`), add one name and print the list.\n",
    "- Using the list of your names (`first_names`), remove one name and print the list."
   ]
  },
  {
   "cell_type": "code",
   "execution_count": null,
   "id": "2b796072-536a-45dd-aa4b-7213bc0252e3",
   "metadata": {},
   "outputs": [],
   "source": []
  },
  {
   "cell_type": "markdown",
   "id": "3fd37aa8-96a7-46a5-bd38-35d77311536f",
   "metadata": {},
   "source": [
    "### Task 3 - Dictionaries\n",
    "\n",
    "- Create a dictionary called `person` with the keys `first_name` amd `last_name` and give them some values. Print out the dictionary.\n",
    "- In the `person` dictionary, assign the `job` key to the value `programmer`, and print out the dictionary.\n",
    "- Access and print out the value of the `first_name` key in the `person` dictionary.\n",
    "- Print out the keys, values, and items in the `person` dictionary."
   ]
  },
  {
   "cell_type": "code",
   "execution_count": null,
   "id": "998059af-7a3c-48b6-9257-eb785201f041",
   "metadata": {},
   "outputs": [],
   "source": []
  },
  {
   "cell_type": "markdown",
   "id": "fcf098b3-7dd0-4844-a094-710b8c906d75",
   "metadata": {},
   "source": [
    "\n",
    "### Task 4 - Booleans\n",
    "\n",
    "- Create a variable called `boolean_var` and set it to `False`.\n",
    "- Print the value of the opposite of `boolean_var` (using `not`)."
   ]
  },
  {
   "cell_type": "code",
   "execution_count": null,
   "id": "3a312406-5737-4e25-8609-91ba0625eb88",
   "metadata": {},
   "outputs": [],
   "source": []
  },
  {
   "cell_type": "markdown",
   "id": "7ca1b3b5-a626-4cd0-a259-6201650e52d1",
   "metadata": {},
   "source": [
    "### Task 5 - Tuples\n",
    "- Create a tuple called `first_names_tuple` with the same names from your list. Print the tuple. Validate the data_type.\n",
    "- Print the first item of your tuple.\n",
    "- Print the number of items in your tuple.\n",
    "- Print the last item of your tuple.\n",
    "- Use a range of indexes to print the second and third item in the tuple.\n",
    "- If the name \"Oksana\" is on your tuple print \"Yes, Oksana is in our group\"\n",
    "- Once a tuple is created, you cannot change its values. Tuples are unchangeable. But you can convert the tuple into a list, change the list, and convert the list back into a tuple. Change the first element of your tuple to \"Nesli\".\n",
    "- Since tuples are unchangable, they dont have append() method but you can add an item to tuple by converting to list and converting back to a tuple. Convert the tuple into a list, add \"Alex\", and convert it back into a tuple.\n",
    "- Create a new tuple with the value \"Ali\", and add that tuple to your `first_names_tuple`\n",
    "- Print the `first_names_tuple`\n",
    "- Create a tuple with the values \"apple\", \"banana\", \"cherry\", assign the value of the tuples to variable called a thier colors. Hint:Google it \"Unpacking Tuple\""
   ]
  },
  {
   "cell_type": "markdown",
   "id": "9af809c3",
   "metadata": {},
   "source": []
  },
  {
   "cell_type": "markdown",
   "id": "aa56f8e9",
   "metadata": {},
   "source": [
    "### Task 6 - Sets\n",
    "\n",
    "- Create a set called `first_names_set` with the same names from your list. Print the set. Validate data_type of the set.\n",
    "- If the name \"Oksana\" is on your set print \"Yes, Oksana is in our group\" \n",
    "- Use add method to add \"Nesli\" to the first_names_set\n",
    "- Add the elements of the random_names to your set random_names=[\"Alex\", \"Alice\" , \"Ali\"]\n",
    "- Use remove method to remove Alice from your first_names_set\n",
    "- - Print the `first_names_sets`"
   ]
  },
  {
   "cell_type": "code",
   "execution_count": null,
   "id": "f742f709-cc09-447a-b43e-8ae3581dca3b",
   "metadata": {},
   "outputs": [],
   "source": []
  }
 ],
 "metadata": {
  "kernelspec": {
   "display_name": "Python 3 (ipykernel)",
   "language": "python",
   "name": "python3"
  },
  "language_info": {
   "codemirror_mode": {
    "name": "ipython",
    "version": 3
   },
   "file_extension": ".py",
   "mimetype": "text/x-python",
   "name": "python",
   "nbconvert_exporter": "python",
   "pygments_lexer": "ipython3",
   "version": "3.11.3"
  },
  "vscode": {
   "interpreter": {
    "hash": "916dbcbb3f70747c44a77c7bcd40155683ae19c65e1c03b4aa3499c5328201f1"
   }
  }
 },
 "nbformat": 4,
 "nbformat_minor": 5
}
