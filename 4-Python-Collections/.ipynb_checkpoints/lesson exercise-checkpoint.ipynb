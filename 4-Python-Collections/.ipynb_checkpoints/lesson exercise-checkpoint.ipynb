{
 "cells": [
  {
   "cell_type": "code",
   "execution_count": 2,
   "id": "e969c44b-70da-49c4-88b5-0341720e1326",
   "metadata": {
    "tags": []
   },
   "outputs": [
    {
     "data": {
      "text/plain": [
       "'i'"
      ]
     },
     "execution_count": 2,
     "metadata": {},
     "output_type": "execute_result"
    }
   ],
   "source": [
    "name=\"deniz\"\n",
    "name[3]"
   ]
  },
  {
   "cell_type": "code",
   "execution_count": 3,
   "id": "4372a727",
   "metadata": {
    "tags": []
   },
   "outputs": [
    {
     "name": "stdout",
     "output_type": "stream",
     "text": [
      "[25, 'Beth', True, 3.2, 'hello', 'Ivan', 34, False]\n"
     ]
    }
   ],
   "source": [
    "my_list= [25, \"Beth\", True, 3.2, \"hello\", \"Ivan\", 34, False]\n",
    "print(my_list)"
   ]
  },
  {
   "cell_type": "code",
   "execution_count": 4,
   "id": "b67278f0-a796-458a-94ee-4bd8b268fce1",
   "metadata": {
    "tags": []
   },
   "outputs": [
    {
     "name": "stdout",
     "output_type": "stream",
     "text": [
      "[25, 'Beth', True, 3.2, 'hello', 'Ivan', 34, False]\n"
     ]
    }
   ],
   "source": [
    "my_list= list((25, \"Beth\", True, 3.2, \"hello\", \"Ivan\", 34, False))\n",
    "print(my_list)"
   ]
  },
  {
   "cell_type": "code",
   "execution_count": 5,
   "id": "501414b5",
   "metadata": {
    "tags": []
   },
   "outputs": [
    {
     "data": {
      "text/plain": [
       "25"
      ]
     },
     "execution_count": 5,
     "metadata": {},
     "output_type": "execute_result"
    }
   ],
   "source": [
    "my_list[0]"
   ]
  },
  {
   "cell_type": "code",
   "execution_count": 6,
   "id": "cf8b9942",
   "metadata": {
    "tags": []
   },
   "outputs": [
    {
     "data": {
      "text/plain": [
       "True"
      ]
     },
     "execution_count": 6,
     "metadata": {},
     "output_type": "execute_result"
    }
   ],
   "source": [
    "my_list[2]"
   ]
  },
  {
   "cell_type": "code",
   "execution_count": 7,
   "id": "d7c0b617",
   "metadata": {
    "tags": []
   },
   "outputs": [
    {
     "data": {
      "text/plain": [
       "False"
      ]
     },
     "execution_count": 7,
     "metadata": {},
     "output_type": "execute_result"
    }
   ],
   "source": [
    "my_list[-1]"
   ]
  },
  {
   "cell_type": "code",
   "execution_count": 8,
   "id": "11d601b4",
   "metadata": {
    "tags": []
   },
   "outputs": [
    {
     "data": {
      "text/plain": [
       "34"
      ]
     },
     "execution_count": 8,
     "metadata": {},
     "output_type": "execute_result"
    }
   ],
   "source": [
    "my_list[-2]"
   ]
  },
  {
   "cell_type": "code",
   "execution_count": 9,
   "id": "02118494",
   "metadata": {
    "tags": []
   },
   "outputs": [
    {
     "name": "stdout",
     "output_type": "stream",
     "text": [
      "Beth\n"
     ]
    }
   ],
   "source": [
    "second_value=my_list[1]\n",
    "print(second_value)"
   ]
  },
  {
   "cell_type": "code",
   "execution_count": 10,
   "id": "e2dcdad5",
   "metadata": {
    "tags": []
   },
   "outputs": [
    {
     "data": {
      "text/plain": [
       "list"
      ]
     },
     "execution_count": 10,
     "metadata": {},
     "output_type": "execute_result"
    }
   ],
   "source": [
    "type(my_list)"
   ]
  },
  {
   "cell_type": "code",
   "execution_count": 11,
   "id": "81035ab6",
   "metadata": {
    "tags": []
   },
   "outputs": [
    {
     "data": {
      "text/plain": [
       "str"
      ]
     },
     "execution_count": 11,
     "metadata": {},
     "output_type": "execute_result"
    }
   ],
   "source": [
    "type(second_value)"
   ]
  },
  {
   "cell_type": "code",
   "execution_count": 12,
   "id": "d99ea305",
   "metadata": {
    "tags": []
   },
   "outputs": [],
   "source": [
    "second_value=\"Beth\""
   ]
  },
  {
   "cell_type": "code",
   "execution_count": 13,
   "id": "b9a6ec48",
   "metadata": {
    "tags": []
   },
   "outputs": [
    {
     "data": {
      "text/plain": [
       "8"
      ]
     },
     "execution_count": 13,
     "metadata": {},
     "output_type": "execute_result"
    }
   ],
   "source": [
    "len(my_list)"
   ]
  },
  {
   "cell_type": "code",
   "execution_count": 14,
   "id": "39f5f724",
   "metadata": {
    "tags": []
   },
   "outputs": [
    {
     "data": {
      "text/plain": [
       "False"
      ]
     },
     "execution_count": 14,
     "metadata": {},
     "output_type": "execute_result"
    }
   ],
   "source": [
    "my_list[-1]"
   ]
  },
  {
   "cell_type": "code",
   "execution_count": 15,
   "id": "cde6c482",
   "metadata": {
    "tags": []
   },
   "outputs": [
    {
     "ename": "IndexError",
     "evalue": "list index out of range",
     "output_type": "error",
     "traceback": [
      "\u001b[0;31m---------------------------------------------------------------------------\u001b[0m",
      "\u001b[0;31mIndexError\u001b[0m                                Traceback (most recent call last)",
      "Cell \u001b[0;32mIn[15], line 1\u001b[0m\n\u001b[0;32m----> 1\u001b[0m my_list[\u001b[38;5;241m9\u001b[39m]\n",
      "\u001b[0;31mIndexError\u001b[0m: list index out of range"
     ]
    }
   ],
   "source": [
    "my_list[9]"
   ]
  },
  {
   "cell_type": "code",
   "execution_count": 20,
   "id": "807da267-70db-401f-bfc6-643920f79be6",
   "metadata": {
    "tags": []
   },
   "outputs": [],
   "source": [
    "x = [\"banana\", \"cherry\", \"apple\"]"
   ]
  },
  {
   "cell_type": "code",
   "execution_count": 10,
   "id": "5033b632-f200-414e-8751-21d702d8bcc6",
   "metadata": {},
   "outputs": [
    {
     "data": {
      "text/plain": [
       "list"
      ]
     },
     "execution_count": 10,
     "metadata": {},
     "output_type": "execute_result"
    }
   ],
   "source": [
    "type(x)"
   ]
  },
  {
   "cell_type": "code",
   "execution_count": 3,
   "id": "8ac0422f-71ff-4ddd-8b15-404533df397f",
   "metadata": {},
   "outputs": [],
   "source": [
    "y= list((\"apple\", \"banana\", \"cherry\"))"
   ]
  },
  {
   "cell_type": "code",
   "execution_count": 4,
   "id": "99dd9c9e-ffe1-43de-aaad-d3028e56dfd1",
   "metadata": {},
   "outputs": [
    {
     "data": {
      "text/plain": [
       "list"
      ]
     },
     "execution_count": 4,
     "metadata": {},
     "output_type": "execute_result"
    }
   ],
   "source": [
    "type(y)"
   ]
  },
  {
   "cell_type": "code",
   "execution_count": 5,
   "id": "57de8f1b-9b92-47ae-ba33-1d33580e07ee",
   "metadata": {},
   "outputs": [
    {
     "name": "stdout",
     "output_type": "stream",
     "text": [
      "['apple', 'banana', 'cherry']\n"
     ]
    }
   ],
   "source": [
    "print(y)"
   ]
  },
  {
   "cell_type": "code",
   "execution_count": 21,
   "id": "8f673740-7098-443e-b831-d8c13cb126ca",
   "metadata": {
    "tags": []
   },
   "outputs": [
    {
     "data": {
      "text/plain": [
       "['apple', 'banana', 'cherry']"
      ]
     },
     "execution_count": 21,
     "metadata": {},
     "output_type": "execute_result"
    }
   ],
   "source": [
    "x.sort()\n",
    "x"
   ]
  },
  {
   "cell_type": "markdown",
   "id": "b43e7103-b5bc-4df5-816c-4a149b22aea7",
   "metadata": {},
   "source": [
    "### Sort"
   ]
  },
  {
   "cell_type": "code",
   "execution_count": 27,
   "id": "7aa9733e-054b-435b-828c-5f595987f488",
   "metadata": {
    "tags": []
   },
   "outputs": [
    {
     "data": {
      "text/plain": [
       "[-34, -5, 0, 3, 8, 67]"
      ]
     },
     "execution_count": 27,
     "metadata": {},
     "output_type": "execute_result"
    }
   ],
   "source": [
    "my_num=[-5, 67, 0, -34, 3, 8]\n",
    "my_num.sort()"
   ]
  },
  {
   "cell_type": "code",
   "execution_count": 31,
   "id": "a1dd3977-8333-48d7-a373-031dae3dda2e",
   "metadata": {
    "tags": []
   },
   "outputs": [
    {
     "data": {
      "text/plain": [
       "[-34, -5, 0, 3, 8, 67]"
      ]
     },
     "execution_count": 31,
     "metadata": {},
     "output_type": "execute_result"
    }
   ],
   "source": [
    "my_num"
   ]
  },
  {
   "cell_type": "code",
   "execution_count": 28,
   "id": "13313b62-aefc-49e7-8764-81a1551f7528",
   "metadata": {
    "tags": []
   },
   "outputs": [
    {
     "data": {
      "text/plain": [
       "[-5, 67, 0, -34, 3, 8]"
      ]
     },
     "execution_count": 28,
     "metadata": {},
     "output_type": "execute_result"
    }
   ],
   "source": [
    "my_num_2=[-5, 67, 0, -34, 3, 8]\n",
    "my_num_2"
   ]
  },
  {
   "cell_type": "code",
   "execution_count": 32,
   "id": "893d5cc6-d96c-4c85-9f30-b5f2b01a0f38",
   "metadata": {
    "tags": []
   },
   "outputs": [],
   "source": [
    "my_num_2=sorted(my_num_2)"
   ]
  },
  {
   "cell_type": "code",
   "execution_count": 33,
   "id": "b1b9ede8-8ac0-468e-9196-06350bd7ae70",
   "metadata": {
    "tags": []
   },
   "outputs": [
    {
     "data": {
      "text/plain": [
       "[-34, -5, 0, 3, 8, 67]"
      ]
     },
     "execution_count": 33,
     "metadata": {},
     "output_type": "execute_result"
    }
   ],
   "source": [
    "my_num_2"
   ]
  },
  {
   "cell_type": "code",
   "execution_count": 41,
   "id": "daac0291-5b2b-4395-a276-b12cb5d727f6",
   "metadata": {
    "tags": []
   },
   "outputs": [
    {
     "data": {
      "text/plain": [
       "[8, 3, -34, 0, 67, -5, 10, 10, 10, 10, 10]"
      ]
     },
     "execution_count": 41,
     "metadata": {},
     "output_type": "execute_result"
    }
   ],
   "source": [
    "my_num_2.append(10)\n",
    "my_num_2"
   ]
  },
  {
   "cell_type": "code",
   "execution_count": 42,
   "id": "4ecac75f-a566-400b-9c0a-f723c030b856",
   "metadata": {
    "tags": []
   },
   "outputs": [],
   "source": [
    "my_num_2.insert(5,2) #(index, value)"
   ]
  },
  {
   "cell_type": "code",
   "execution_count": 43,
   "id": "b294b656-9a58-46ff-ad2b-cab685bb5911",
   "metadata": {
    "tags": []
   },
   "outputs": [
    {
     "data": {
      "text/plain": [
       "[8, 3, -34, 0, 67, 2, -5, 10, 10, 10, 10, 10]"
      ]
     },
     "execution_count": 43,
     "metadata": {},
     "output_type": "execute_result"
    }
   ],
   "source": [
    "my_num_2"
   ]
  },
  {
   "cell_type": "code",
   "execution_count": 89,
   "id": "68168681-08b6-4ae3-a3b8-030014323293",
   "metadata": {
    "tags": []
   },
   "outputs": [],
   "source": [
    "my_fruits = [\"banana\", \"cherry\", \"apple\", \"watermelon\", \"grapes\"]"
   ]
  },
  {
   "cell_type": "code",
   "execution_count": 58,
   "id": "4ab2c46d-798d-4405-bf83-669f6701e217",
   "metadata": {
    "tags": []
   },
   "outputs": [
    {
     "data": {
      "text/plain": [
       "'grapes'"
      ]
     },
     "execution_count": 58,
     "metadata": {},
     "output_type": "execute_result"
    }
   ],
   "source": [
    "my_list[-1]"
   ]
  },
  {
   "cell_type": "code",
   "execution_count": 49,
   "id": "56720f85-d22c-4bf4-bd4f-20e90bad3bc7",
   "metadata": {
    "tags": []
   },
   "outputs": [
    {
     "data": {
      "text/plain": [
       "['banana', 'cherry', 'apple', 'cherry']"
      ]
     },
     "execution_count": 49,
     "metadata": {},
     "output_type": "execute_result"
    }
   ],
   "source": [
    "my_list"
   ]
  },
  {
   "cell_type": "code",
   "execution_count": 50,
   "id": "4016e3c6-fe7f-4766-8ee9-96c8f68bd2fd",
   "metadata": {
    "tags": []
   },
   "outputs": [
    {
     "data": {
      "text/plain": [
       "['banana', 'apple', 'cherry']"
      ]
     },
     "execution_count": 50,
     "metadata": {},
     "output_type": "execute_result"
    }
   ],
   "source": [
    "my_list.remove(\"cherry\")\n",
    "my_list"
   ]
  },
  {
   "cell_type": "code",
   "execution_count": 59,
   "id": "9804261e-85e8-4adf-90b0-cab5692cf368",
   "metadata": {
    "tags": []
   },
   "outputs": [
    {
     "data": {
      "text/plain": [
       "['banana', 'cherry', 'apple', 'watermelon', 'grapes']"
      ]
     },
     "execution_count": 59,
     "metadata": {},
     "output_type": "execute_result"
    }
   ],
   "source": [
    "my_list"
   ]
  },
  {
   "cell_type": "code",
   "execution_count": 60,
   "id": "7f978c22-e890-476f-90fd-e48fad767b74",
   "metadata": {
    "tags": []
   },
   "outputs": [],
   "source": [
    "del my_list[4]"
   ]
  },
  {
   "cell_type": "code",
   "execution_count": 62,
   "id": "0c275e1c-2859-471d-8140-67d0a473c18f",
   "metadata": {
    "tags": []
   },
   "outputs": [
    {
     "data": {
      "text/plain": [
       "['banana', 'cherry', 'apple', 'watermelon']"
      ]
     },
     "execution_count": 62,
     "metadata": {},
     "output_type": "execute_result"
    }
   ],
   "source": [
    "my_list"
   ]
  },
  {
   "cell_type": "code",
   "execution_count": 63,
   "id": "ff5b5a5f-1336-4c50-847d-1e9f6c406d11",
   "metadata": {
    "tags": []
   },
   "outputs": [
    {
     "name": "stdout",
     "output_type": "stream",
     "text": [
      "The first element is cherry\n"
     ]
    }
   ],
   "source": [
    "print('The first element is', my_list[1])"
   ]
  },
  {
   "cell_type": "code",
   "execution_count": 64,
   "id": "f10f9efb-714c-49a8-9ce1-50a378482415",
   "metadata": {
    "tags": []
   },
   "outputs": [
    {
     "name": "stdout",
     "output_type": "stream",
     "text": [
      "The first element is cherry\n"
     ]
    }
   ],
   "source": [
    "print(f'The first element is {my_list[1]}')"
   ]
  },
  {
   "cell_type": "code",
   "execution_count": 47,
   "id": "2f049768-360f-4660-9066-e74d43e1553d",
   "metadata": {
    "tags": []
   },
   "outputs": [
    {
     "data": {
      "text/plain": [
       "['apple']"
      ]
     },
     "execution_count": 47,
     "metadata": {},
     "output_type": "execute_result"
    }
   ],
   "source": [
    "my_list.pop(0)\n",
    "my_list"
   ]
  },
  {
   "cell_type": "code",
   "execution_count": 36,
   "id": "bb80dcd2-dc3f-424d-915c-4bfcd2948c1b",
   "metadata": {
    "tags": []
   },
   "outputs": [
    {
     "data": {
      "text/plain": [
       "[8, 3, -34, 0, 67, -5]"
      ]
     },
     "execution_count": 36,
     "metadata": {},
     "output_type": "execute_result"
    }
   ],
   "source": [
    "my_num_2=[-5, 67, 0, -34, 3, 8]\n",
    "my_num_2.reverse()\n",
    "my_num_2"
   ]
  },
  {
   "cell_type": "code",
   "execution_count": 17,
   "id": "937f551c-8809-46ab-85d7-8aa961b3b6dd",
   "metadata": {},
   "outputs": [
    {
     "data": {
      "text/plain": [
       "[-34, -5, 0, 3, 5, 5, 5, 8, 67]"
      ]
     },
     "execution_count": 17,
     "metadata": {},
     "output_type": "execute_result"
    }
   ],
   "source": [
    "#my_num.append(5)\n",
    "#my_num\n",
    "my_num.sort()\n",
    "my_num"
   ]
  },
  {
   "cell_type": "code",
   "execution_count": 18,
   "id": "87d23a31-3388-4a6e-87ef-b9622d960d8f",
   "metadata": {},
   "outputs": [],
   "source": [
    "del my_num[0]"
   ]
  },
  {
   "cell_type": "code",
   "execution_count": 19,
   "id": "4fed1ca8-2399-4c2a-b64b-ffc05e063301",
   "metadata": {},
   "outputs": [
    {
     "data": {
      "text/plain": [
       "[-5, 0, 3, 5, 5, 5, 8, 67]"
      ]
     },
     "execution_count": 19,
     "metadata": {},
     "output_type": "execute_result"
    }
   ],
   "source": [
    "my_num"
   ]
  },
  {
   "cell_type": "code",
   "execution_count": 20,
   "id": "90fb8ae1-4b9d-47e8-ad12-29422295b5fb",
   "metadata": {},
   "outputs": [
    {
     "data": {
      "text/plain": [
       "[-5, 0, 3, 8, 67]"
      ]
     },
     "execution_count": 20,
     "metadata": {},
     "output_type": "execute_result"
    }
   ],
   "source": [
    "del my_num[3:6]\n",
    "my_num"
   ]
  },
  {
   "cell_type": "code",
   "execution_count": 22,
   "id": "61e5fd90-4308-4cb3-89ff-03be16559356",
   "metadata": {},
   "outputs": [
    {
     "name": "stdout",
     "output_type": "stream",
     "text": [
      "the number of elements in my list is:  5\n"
     ]
    }
   ],
   "source": [
    "print(\"the number of elements in my list is: \", len(my_num))"
   ]
  },
  {
   "cell_type": "code",
   "execution_count": 41,
   "id": "7a94b99a-2dc8-44c6-b584-e9ac6d2cbf57",
   "metadata": {},
   "outputs": [
    {
     "name": "stdout",
     "output_type": "stream",
     "text": [
      "[-5, 67, 0, -34, 3, 8]\n",
      "[-34, -5, 0, 3, 8, 67]\n"
     ]
    }
   ],
   "source": [
    "my_num=[-5, 67, 0, -34, 3, 8]\n",
    "#sorted_my_num=my_num.sort()\n",
    "print(my_num)\n",
    "#print(sorted_my_num)\n",
    "sorted_list = (sorted(my_num))\n",
    "print(sorted_list)"
   ]
  },
  {
   "cell_type": "code",
   "execution_count": 65,
   "id": "77dddd79-d17f-4b9e-b6b6-afdb05978ad0",
   "metadata": {
    "tags": []
   },
   "outputs": [
    {
     "name": "stdout",
     "output_type": "stream",
     "text": [
      "[]\n",
      "[]\n"
     ]
    }
   ],
   "source": [
    "my_list=[]\n",
    "print(my_list)\n",
    "my_list_2=list()\n",
    "print(my_list_2)"
   ]
  },
  {
   "cell_type": "code",
   "execution_count": 66,
   "id": "747441ff-9917-4482-84dd-1de33ba63e62",
   "metadata": {
    "tags": []
   },
   "outputs": [
    {
     "name": "stdout",
     "output_type": "stream",
     "text": [
      "['carrot']\n"
     ]
    }
   ],
   "source": [
    "vegatables=[]\n",
    "vegatables.append(\"carrot\")\n",
    "print(vegatables)"
   ]
  },
  {
   "cell_type": "code",
   "execution_count": 67,
   "id": "44ddd0a5-471d-4b1b-bd3b-76c0b1a679b6",
   "metadata": {
    "tags": []
   },
   "outputs": [
    {
     "name": "stdout",
     "output_type": "stream",
     "text": [
      "['carrot', 'broccoli']\n"
     ]
    }
   ],
   "source": [
    "vegatables.append(\"broccoli\")\n",
    "print(vegatables)"
   ]
  },
  {
   "cell_type": "code",
   "execution_count": 69,
   "id": "afb667c4-78b6-4ef8-aa0c-20b605b1fc2c",
   "metadata": {
    "tags": []
   },
   "outputs": [],
   "source": [
    "my_numbers=[0,1,2,3,4,5]"
   ]
  },
  {
   "cell_type": "code",
   "execution_count": 68,
   "id": "c8722a80-8ba9-4fea-8bf3-478e93840316",
   "metadata": {
    "tags": []
   },
   "outputs": [
    {
     "data": {
      "text/plain": [
       "range(0, 5)"
      ]
     },
     "execution_count": 68,
     "metadata": {},
     "output_type": "execute_result"
    }
   ],
   "source": [
    "range(5)"
   ]
  },
  {
   "cell_type": "code",
   "execution_count": 72,
   "id": "c258f7cd-b9e6-465f-8517-2089013bbcb4",
   "metadata": {
    "tags": []
   },
   "outputs": [
    {
     "data": {
      "text/plain": [
       "[2, 3, 4, 5]"
      ]
     },
     "execution_count": 72,
     "metadata": {},
     "output_type": "execute_result"
    }
   ],
   "source": [
    "my_numbers=list(range(2,6))\n",
    "my_numbers"
   ]
  },
  {
   "cell_type": "code",
   "execution_count": 42,
   "id": "51548bd2-f9e1-4753-9496-3eb80e98cf5f",
   "metadata": {},
   "outputs": [
    {
     "data": {
      "text/plain": [
       "[-34, -5, 0, 3, 8, 67]"
      ]
     },
     "execution_count": 42,
     "metadata": {},
     "output_type": "execute_result"
    }
   ],
   "source": [
    "my_num2=my_num.copy()\n",
    "my_num2.sort()\n",
    "my_num2"
   ]
  },
  {
   "cell_type": "code",
   "execution_count": 38,
   "id": "a80b4bba-da7b-4891-a6b3-2ee9e9b1a963",
   "metadata": {},
   "outputs": [
    {
     "name": "stdout",
     "output_type": "stream",
     "text": [
      "range(0, 5)\n"
     ]
    }
   ],
   "source": [
    "print(range(5))"
   ]
  },
  {
   "cell_type": "code",
   "execution_count": 39,
   "id": "0b4a860e-0e01-4882-9a70-2b58c0fe7c77",
   "metadata": {},
   "outputs": [
    {
     "data": {
      "text/plain": [
       "[0, 1, 2, 3, 4]"
      ]
     },
     "execution_count": 39,
     "metadata": {},
     "output_type": "execute_result"
    }
   ],
   "source": [
    "list(range(5))"
   ]
  },
  {
   "cell_type": "code",
   "execution_count": null,
   "id": "39add777-140f-4c8a-b936-528991f771ee",
   "metadata": {},
   "outputs": [],
   "source": [
    "my_list=[0,1,2,3,4,5]"
   ]
  },
  {
   "cell_type": "code",
   "execution_count": 31,
   "id": "41b484fd-0dd3-475d-9482-edde612f6b81",
   "metadata": {},
   "outputs": [],
   "source": [
    "my_list2=list(range(2,8))"
   ]
  },
  {
   "cell_type": "code",
   "execution_count": 33,
   "id": "d9ec5fdb-5fcb-4556-91c0-1be78ed9b85d",
   "metadata": {},
   "outputs": [
    {
     "data": {
      "text/plain": [
       "[2, 3, 4, 5, 6, 7]"
      ]
     },
     "execution_count": 33,
     "metadata": {},
     "output_type": "execute_result"
    }
   ],
   "source": [
    "my_list2 #2,3,4,5,6,7"
   ]
  },
  {
   "cell_type": "code",
   "execution_count": 80,
   "id": "44aedad7-ab13-4c9f-b0dc-0631f15be8a3",
   "metadata": {
    "tags": []
   },
   "outputs": [],
   "source": [
    "orginal_list=list(range(5,10))"
   ]
  },
  {
   "cell_type": "code",
   "execution_count": 81,
   "id": "067f8c58-fa1f-4ad9-b527-6125b611c225",
   "metadata": {
    "tags": []
   },
   "outputs": [
    {
     "data": {
      "text/plain": [
       "[5, 6, 7, 8, 9]"
      ]
     },
     "execution_count": 81,
     "metadata": {},
     "output_type": "execute_result"
    }
   ],
   "source": [
    "orginal_list"
   ]
  },
  {
   "cell_type": "code",
   "execution_count": 82,
   "id": "33869500-a1dc-4717-b739-fbc8b680f628",
   "metadata": {
    "tags": []
   },
   "outputs": [],
   "source": [
    "second_list=orginal_list.copy"
   ]
  },
  {
   "cell_type": "code",
   "execution_count": 83,
   "id": "fb8ed01a-c1e4-4c08-b117-2599adea7cb7",
   "metadata": {
    "tags": []
   },
   "outputs": [
    {
     "data": {
      "text/plain": [
       "[5, 6, 7, 8, 9]"
      ]
     },
     "execution_count": 83,
     "metadata": {},
     "output_type": "execute_result"
    }
   ],
   "source": [
    "second_list"
   ]
  },
  {
   "cell_type": "code",
   "execution_count": 84,
   "id": "6112bfa0-611e-40a4-91e5-1db75bf4a23e",
   "metadata": {
    "tags": []
   },
   "outputs": [
    {
     "data": {
      "text/plain": [
       "[5, 60, 7, 8, 9]"
      ]
     },
     "execution_count": 84,
     "metadata": {},
     "output_type": "execute_result"
    }
   ],
   "source": [
    "second_list[1]=60\n",
    "second_list"
   ]
  },
  {
   "cell_type": "code",
   "execution_count": 86,
   "id": "4c299377-1591-431a-9283-4e57343b5d15",
   "metadata": {
    "tags": []
   },
   "outputs": [
    {
     "data": {
      "text/plain": [
       "[5, 60, 70, 8, 9]"
      ]
     },
     "execution_count": 86,
     "metadata": {},
     "output_type": "execute_result"
    }
   ],
   "source": [
    "orginal_list[2]=70\n",
    "orginal_list"
   ]
  },
  {
   "cell_type": "code",
   "execution_count": 87,
   "id": "d7bdd824-f3b0-445f-a682-de2290258ea4",
   "metadata": {
    "tags": []
   },
   "outputs": [
    {
     "data": {
      "text/plain": [
       "[5, 60, 70, 8, 9]"
      ]
     },
     "execution_count": 87,
     "metadata": {},
     "output_type": "execute_result"
    }
   ],
   "source": [
    "second_list"
   ]
  },
  {
   "cell_type": "code",
   "execution_count": 49,
   "id": "f3ab7835-f3a6-41be-b4e6-00ef6fd54f67",
   "metadata": {},
   "outputs": [
    {
     "name": "stdout",
     "output_type": "stream",
     "text": [
      "[1, 2, 3, 4, 5]\n",
      "[1, 2, 3, 4, 5]\n",
      "[1, 2, 128, 4, 5]\n"
     ]
    }
   ],
   "source": [
    "#Copy a list\n",
    "original_list = list(range(1, 6))\n",
    "print(original_list)\n",
    "new_list = original_list.copy()\n",
    "new_list[2] = 128 #changed 3rd value to 128\n",
    "print(original_list)\n",
    "print(new_list)"
   ]
  },
  {
   "cell_type": "code",
   "execution_count": 50,
   "id": "73ad1ab5-ceac-4ed1-a2d0-48d359ae6dd3",
   "metadata": {},
   "outputs": [
    {
     "name": "stdout",
     "output_type": "stream",
     "text": [
      "[1, 2, 3, 4, 5]\n",
      "[1, 2, 128, 4, 5]\n",
      "[1, 2, 128, 4, 5]\n"
     ]
    }
   ],
   "source": [
    "original_list = list(range(1, 6))\n",
    "print(original_list)\n",
    "new_list = original_list\n",
    "new_list[2] = 128\n",
    "print(original_list)\n",
    "print(new_list)"
   ]
  },
  {
   "cell_type": "code",
   "execution_count": 51,
   "id": "9e31d0fe-b5c2-4ac6-b3a2-2b758e4ec255",
   "metadata": {},
   "outputs": [],
   "source": [
    "new_list[]=new_list.append(15)"
   ]
  },
  {
   "cell_type": "code",
   "execution_count": 52,
   "id": "65980d0a-8448-4308-88b5-2883f6563577",
   "metadata": {},
   "outputs": [
    {
     "data": {
      "text/plain": [
       "[1, 2, 128, 4, 5, 15]"
      ]
     },
     "execution_count": 52,
     "metadata": {},
     "output_type": "execute_result"
    }
   ],
   "source": [
    "new_list"
   ]
  },
  {
   "cell_type": "code",
   "execution_count": 53,
   "id": "4c438af2-3645-4357-ba03-604f49677671",
   "metadata": {},
   "outputs": [],
   "source": [
    "new_list.insert(1,67)"
   ]
  },
  {
   "cell_type": "code",
   "execution_count": 54,
   "id": "aec9f9b3-b957-4622-865b-9d86b7249c8e",
   "metadata": {},
   "outputs": [
    {
     "data": {
      "text/plain": [
       "[1, 67, 2, 128, 4, 5, 15]"
      ]
     },
     "execution_count": 54,
     "metadata": {},
     "output_type": "execute_result"
    }
   ],
   "source": [
    "new_list"
   ]
  },
  {
   "cell_type": "code",
   "execution_count": 55,
   "id": "6ad45667-c8ff-432c-9b78-1510126e7dfc",
   "metadata": {},
   "outputs": [],
   "source": [
    "empty_list=[]\n",
    "empty_list2=list()"
   ]
  },
  {
   "cell_type": "code",
   "execution_count": 90,
   "id": "8fde2fbe-a722-4452-80a9-3f1ef77c64c7",
   "metadata": {
    "tags": []
   },
   "outputs": [
    {
     "name": "stdout",
     "output_type": "stream",
     "text": [
      "it is NOT in the my_fruit list\n"
     ]
    }
   ],
   "source": [
    "if \"strawberry\" in my_fruits:\n",
    "    print(\"it is in the my_fruit list\")\n",
    "else:\n",
    "    print(\"it is NOT in the my_fruit list\")"
   ]
  },
  {
   "cell_type": "code",
   "execution_count": 91,
   "id": "5ff50ba8-e2ae-4572-8725-d7fc679ce223",
   "metadata": {
    "tags": []
   },
   "outputs": [],
   "source": [
    "loc1 = (243567.23456, 87654.8765) #location1\n",
    "loc2 = (2435467.23456, 87654.8355) #location2\n",
    "..\n",
    "\n",
    "\n",
    "\n",
    "loc1000\n",
    "locations=[loc1, loc2, loc3,....,loc1000]"
   ]
  },
  {
   "cell_type": "code",
   "execution_count": 92,
   "id": "fe24f143-e966-4762-aedc-ecdc2460d6b7",
   "metadata": {
    "tags": []
   },
   "outputs": [],
   "source": [
    "my_tuple = (\"apple\", \"banana\", \"cherry\", \"orange\", \"kiwi\", \"melon\", \"mango\")"
   ]
  },
  {
   "cell_type": "code",
   "execution_count": 93,
   "id": "3deef52d-396e-41b8-a655-8cb068634863",
   "metadata": {
    "tags": []
   },
   "outputs": [
    {
     "data": {
      "text/plain": [
       "7"
      ]
     },
     "execution_count": 93,
     "metadata": {},
     "output_type": "execute_result"
    }
   ],
   "source": [
    "len(my_tuple)"
   ]
  },
  {
   "cell_type": "code",
   "execution_count": 94,
   "id": "8752cd00-96d1-4973-a61c-e1e8640d8aef",
   "metadata": {
    "tags": []
   },
   "outputs": [
    {
     "data": {
      "text/plain": [
       "'mango'"
      ]
     },
     "execution_count": 94,
     "metadata": {},
     "output_type": "execute_result"
    }
   ],
   "source": [
    "my_tuple[-1]"
   ]
  },
  {
   "cell_type": "code",
   "execution_count": 95,
   "id": "bbaaab76-fb3c-4a1f-a01d-d6ae8286c5c1",
   "metadata": {
    "tags": []
   },
   "outputs": [
    {
     "data": {
      "text/plain": [
       "('cherry', 'orange', 'kiwi', 'melon', 'mango')"
      ]
     },
     "execution_count": 95,
     "metadata": {},
     "output_type": "execute_result"
    }
   ],
   "source": [
    "my_tuple[2:]"
   ]
  },
  {
   "cell_type": "code",
   "execution_count": 96,
   "id": "7b2c6f54-de88-4047-8daa-53cc83e677c5",
   "metadata": {
    "tags": []
   },
   "outputs": [
    {
     "ename": "TypeError",
     "evalue": "'tuple' object does not support item assignment",
     "output_type": "error",
     "traceback": [
      "\u001b[0;31m---------------------------------------------------------------------------\u001b[0m",
      "\u001b[0;31mTypeError\u001b[0m                                 Traceback (most recent call last)",
      "Cell \u001b[0;32mIn[96], line 1\u001b[0m\n\u001b[0;32m----> 1\u001b[0m my_tuple[\u001b[38;5;241m2\u001b[39m]\u001b[38;5;241m=\u001b[39m\u001b[38;5;124m\"\u001b[39m\u001b[38;5;124mgrape\u001b[39m\u001b[38;5;124m\"\u001b[39m\n",
      "\u001b[0;31mTypeError\u001b[0m: 'tuple' object does not support item assignment"
     ]
    }
   ],
   "source": [
    "my_tuple[2]=\"grape\""
   ]
  },
  {
   "cell_type": "code",
   "execution_count": 97,
   "id": "1c27f695-a034-4361-b3b3-b5b729a934b7",
   "metadata": {
    "tags": []
   },
   "outputs": [
    {
     "data": {
      "text/plain": [
       "tuple"
      ]
     },
     "execution_count": 97,
     "metadata": {},
     "output_type": "execute_result"
    }
   ],
   "source": [
    "type(my_tuple)"
   ]
  },
  {
   "cell_type": "code",
   "execution_count": 98,
   "id": "d5781d06-7807-46b5-81a7-a49bcf730dd0",
   "metadata": {
    "tags": []
   },
   "outputs": [
    {
     "data": {
      "text/plain": [
       "['apple', 'banana', 'cherry', 'orange', 'kiwi', 'melon', 'mango']"
      ]
     },
     "execution_count": 98,
     "metadata": {},
     "output_type": "execute_result"
    }
   ],
   "source": [
    "my_list=list(my_tuple)\n",
    "my_list"
   ]
  },
  {
   "cell_type": "code",
   "execution_count": 99,
   "id": "acf5ba56-b505-4652-a55c-9818f1fdfbd2",
   "metadata": {
    "tags": []
   },
   "outputs": [
    {
     "data": {
      "text/plain": [
       "('apple', 'banana', 'grape', 'orange', 'kiwi', 'melon', 'mango')"
      ]
     },
     "execution_count": 99,
     "metadata": {},
     "output_type": "execute_result"
    }
   ],
   "source": [
    "my_list[2]=\"grape\"\n",
    "my_tuple=tuple(my_list)\n",
    "my_tuple"
   ]
  },
  {
   "cell_type": "code",
   "execution_count": 107,
   "id": "c968a1d9-b947-4b09-8688-3555668e3800",
   "metadata": {
    "tags": []
   },
   "outputs": [],
   "source": [
    "my_list=[\"apple\",\"banana\", \"melon\"]\n",
    "my_tuple=(\"apple\",\"banana\", \"melon\")\n",
    "my_set={\"apple\",\"banana\", \"melon\"}"
   ]
  },
  {
   "cell_type": "code",
   "execution_count": 109,
   "id": "e307d191-265b-4f07-987f-8a39a17842ab",
   "metadata": {
    "tags": []
   },
   "outputs": [],
   "source": [
    "my_list=list((\"apple\",\"banana\", \"melon\"))\n",
    "my_tuple=tuple((\"apple\",\"banana\", \"melon\"))\n",
    "my_set=set((\"apple\",\"banana\", \"melon\"))"
   ]
  },
  {
   "cell_type": "code",
   "execution_count": 108,
   "id": "07b63345-e9fc-4393-a61a-306833b78cb0",
   "metadata": {
    "tags": []
   },
   "outputs": [
    {
     "data": {
      "text/plain": [
       "set"
      ]
     },
     "execution_count": 108,
     "metadata": {},
     "output_type": "execute_result"
    }
   ],
   "source": [
    "type(my_set)"
   ]
  },
  {
   "cell_type": "code",
   "execution_count": 106,
   "id": "521f6263-36ea-49dc-8d5b-1ca3b45a9c63",
   "metadata": {
    "tags": []
   },
   "outputs": [
    {
     "ename": "TypeError",
     "evalue": "'set' object is not subscriptable",
     "output_type": "error",
     "traceback": [
      "\u001b[0;31m---------------------------------------------------------------------------\u001b[0m",
      "\u001b[0;31mTypeError\u001b[0m                                 Traceback (most recent call last)",
      "Cell \u001b[0;32mIn[106], line 1\u001b[0m\n\u001b[0;32m----> 1\u001b[0m my_set[\u001b[38;5;241m2\u001b[39m:]\n",
      "\u001b[0;31mTypeError\u001b[0m: 'set' object is not subscriptable"
     ]
    }
   ],
   "source": [
    "my_set[2:]"
   ]
  },
  {
   "cell_type": "code",
   "execution_count": 122,
   "id": "682ab858-7991-4fb4-97e1-36fd9b7b9ccc",
   "metadata": {
    "tags": []
   },
   "outputs": [
    {
     "data": {
      "text/plain": [
       "{'apple', 'banana', 'melon', 'orange'}"
      ]
     },
     "execution_count": 122,
     "metadata": {},
     "output_type": "execute_result"
    }
   ],
   "source": [
    "my_set={'apple','banana','melon'}\n",
    "type(my_set)\n",
    "my_set.add('orange')\n",
    "my_set"
   ]
  },
  {
   "cell_type": "code",
   "execution_count": 124,
   "id": "e72fdc16-7fba-4bb2-b675-4aae371b28e6",
   "metadata": {
    "tags": []
   },
   "outputs": [
    {
     "ename": "KeyError",
     "evalue": "'apple'",
     "output_type": "error",
     "traceback": [
      "\u001b[0;31m---------------------------------------------------------------------------\u001b[0m",
      "\u001b[0;31mKeyError\u001b[0m                                  Traceback (most recent call last)",
      "Cell \u001b[0;32mIn[124], line 1\u001b[0m\n\u001b[0;32m----> 1\u001b[0m my_set\u001b[38;5;241m.\u001b[39mremove(\u001b[38;5;124m'\u001b[39m\u001b[38;5;124mapple\u001b[39m\u001b[38;5;124m'\u001b[39m)\n\u001b[1;32m      2\u001b[0m my_set\n",
      "\u001b[0;31mKeyError\u001b[0m: 'apple'"
     ]
    }
   ],
   "source": [
    "my_set.remove('apple')\n",
    "my_set"
   ]
  },
  {
   "cell_type": "code",
   "execution_count": 128,
   "id": "d45218ea-1434-4672-98a1-5630f790c5f2",
   "metadata": {
    "tags": []
   },
   "outputs": [
    {
     "data": {
      "text/plain": [
       "{'melon', 'orange'}"
      ]
     },
     "execution_count": 128,
     "metadata": {},
     "output_type": "execute_result"
    }
   ],
   "source": [
    "my_set.discard('banana')\n",
    "my_set"
   ]
  },
  {
   "cell_type": "code",
   "execution_count": 129,
   "id": "16c9d61e-c41d-44d9-9c5e-70c994ca81d4",
   "metadata": {
    "tags": []
   },
   "outputs": [
    {
     "data": {
      "text/plain": [
       "['apple', 'banana', 'cherry', 'pineapple', 'mango', 'papaya']"
      ]
     },
     "execution_count": 129,
     "metadata": {},
     "output_type": "execute_result"
    }
   ],
   "source": [
    "my_fruits= [\"apple\", \"banana\", \"cherry\"]\n",
    "tropical = [\"pineapple\", \"mango\", \"papaya\"]\n",
    "\n",
    "my_fruits=my_fruits + tropical # equal to this my_fruits+= tropical\n",
    "my_fruits"
   ]
  },
  {
   "cell_type": "code",
   "execution_count": 130,
   "id": "47de8e52-b34d-483a-9a06-94d15ab84839",
   "metadata": {
    "tags": []
   },
   "outputs": [],
   "source": [
    "my_set.add('banana')"
   ]
  },
  {
   "cell_type": "code",
   "execution_count": 117,
   "id": "a6a0987f-51d3-4c87-bebe-9a52589642ba",
   "metadata": {
    "tags": []
   },
   "outputs": [
    {
     "ename": "AttributeError",
     "evalue": "'tuple' object has no attribute 'append'",
     "output_type": "error",
     "traceback": [
      "\u001b[0;31m---------------------------------------------------------------------------\u001b[0m",
      "\u001b[0;31mAttributeError\u001b[0m                            Traceback (most recent call last)",
      "Cell \u001b[0;32mIn[117], line 1\u001b[0m\n\u001b[0;32m----> 1\u001b[0m my_tuple\u001b[38;5;241m.\u001b[39mappend(\u001b[38;5;124m\"\u001b[39m\u001b[38;5;124mgrapes\u001b[39m\u001b[38;5;124m\"\u001b[39m)\n",
      "\u001b[0;31mAttributeError\u001b[0m: 'tuple' object has no attribute 'append'"
     ]
    }
   ],
   "source": [
    "my_tuple.append(\"grapes\")"
   ]
  },
  {
   "cell_type": "code",
   "execution_count": null,
   "id": "7fe15624-198b-4cb0-8a18-7a54d279c8dd",
   "metadata": {},
   "outputs": [],
   "source": [
    "print(len(tuple))  ## 3\n",
    "print(tuple[2])    ## hi\n",
    "\n",
    "print(thistuple[2:5])"
   ]
  },
  {
   "cell_type": "code",
   "execution_count": null,
   "id": "e2f6f837-f6c8-4afc-a2cb-09b4f9613d37",
   "metadata": {},
   "outputs": [],
   "source": [
    "my_list=[\"apple\", \"dog\", \"broccoli\"]\n",
    "my_list[0]  --> fruit\n",
    "my_list[1] -- animal\n",
    "my_list[2] --> vegatable"
   ]
  },
  {
   "cell_type": "code",
   "execution_count": 141,
   "id": "d10b1409-3549-4f91-9b84-89c9d17e7090",
   "metadata": {
    "tags": []
   },
   "outputs": [
    {
     "name": "stdout",
     "output_type": "stream",
     "text": [
      "{'fruit': 'apple', 'animal': 'dog', 'vegatable': 'broccoli'}\n",
      "grapes\n"
     ]
    }
   ],
   "source": [
    "my_dict={\"fruit\":\"apple\", \"animal\":\"dog\", \"vegatable\":\"broccoli\"}\n",
    "print(my_dict)\n",
    "fruit=\"grapes\"\n",
    "print(fruit)"
   ]
  },
  {
   "cell_type": "code",
   "execution_count": 137,
   "id": "f1e55380-e53b-4a72-926b-74152c402f62",
   "metadata": {
    "tags": []
   },
   "outputs": [
    {
     "data": {
      "text/plain": [
       "'dog'"
      ]
     },
     "execution_count": 137,
     "metadata": {},
     "output_type": "execute_result"
    }
   ],
   "source": [
    "my_dict[\"animal\"]"
   ]
  },
  {
   "cell_type": "code",
   "execution_count": 142,
   "id": "a400b3ff-25c7-4893-94af-2466655f4da7",
   "metadata": {
    "tags": []
   },
   "outputs": [],
   "source": [
    "my_dict={}"
   ]
  },
  {
   "cell_type": "code",
   "execution_count": 143,
   "id": "ccd4ad00-1610-4e8f-bd39-1a6b9cda491b",
   "metadata": {
    "tags": []
   },
   "outputs": [],
   "source": [
    "my_dict=dict()"
   ]
  },
  {
   "cell_type": "code",
   "execution_count": 144,
   "id": "c8d1799e-93ca-4a36-92af-76915f061ccb",
   "metadata": {
    "tags": []
   },
   "outputs": [
    {
     "data": {
      "text/plain": [
       "{'name': 'Rachel'}"
      ]
     },
     "execution_count": 144,
     "metadata": {},
     "output_type": "execute_result"
    }
   ],
   "source": [
    "my_dict[\"name\"]=\"Rachel\"\n",
    "my_dict"
   ]
  },
  {
   "cell_type": "code",
   "execution_count": 145,
   "id": "aba94929-e424-4b76-adfb-bd4433cd678f",
   "metadata": {
    "tags": []
   },
   "outputs": [
    {
     "data": {
      "text/plain": [
       "{'name': 'Rachel', 'surname': 'Danckwerts'}"
      ]
     },
     "execution_count": 145,
     "metadata": {},
     "output_type": "execute_result"
    }
   ],
   "source": [
    "my_dict[\"surname\"]=\"Danckwerts\"\n",
    "my_dict"
   ]
  },
  {
   "cell_type": "code",
   "execution_count": 147,
   "id": "3f2b234d-19ee-4d8a-ba7d-3cdb81097579",
   "metadata": {
    "tags": []
   },
   "outputs": [
    {
     "data": {
      "text/plain": [
       "{'name': 'Rachel', 'surname': 'Danckwerts', 'age': 28}"
      ]
     },
     "execution_count": 147,
     "metadata": {},
     "output_type": "execute_result"
    }
   ],
   "source": [
    "my_dict[\"age\"]=28\n",
    "my_dict"
   ]
  },
  {
   "cell_type": "code",
   "execution_count": 149,
   "id": "04680a5e-03e9-4b16-8278-17d4b3c4a0d9",
   "metadata": {
    "tags": []
   },
   "outputs": [
    {
     "data": {
      "text/plain": [
       "{'name': 'Nesli', 'surname': 'Blabla', 'age': 30}"
      ]
     },
     "execution_count": 149,
     "metadata": {},
     "output_type": "execute_result"
    }
   ],
   "source": [
    "second_dict={'name': 'Nesli', 'surname': 'Keskin', 'age': 30}\n",
    "second_dict[\"surname\"]=\"Blabla\"\n",
    "second_dict"
   ]
  },
  {
   "cell_type": "code",
   "execution_count": 152,
   "id": "5c343236-fc53-4bfc-906e-56d06201783f",
   "metadata": {
    "tags": []
   },
   "outputs": [
    {
     "data": {
      "text/plain": [
       "30"
      ]
     },
     "execution_count": 152,
     "metadata": {},
     "output_type": "execute_result"
    }
   ],
   "source": [
    "second_dict.get('age') ##second_dict['age']"
   ]
  },
  {
   "cell_type": "code",
   "execution_count": 153,
   "id": "5b259ce5-4022-4e32-a855-ba7f0b7104c1",
   "metadata": {
    "tags": []
   },
   "outputs": [
    {
     "data": {
      "text/plain": [
       "dict_keys(['name', 'surname', 'age'])"
      ]
     },
     "execution_count": 153,
     "metadata": {},
     "output_type": "execute_result"
    }
   ],
   "source": [
    "second_dict.keys()"
   ]
  },
  {
   "cell_type": "code",
   "execution_count": 154,
   "id": "29da3fa4-7b1a-4604-b45f-6406bced14b5",
   "metadata": {
    "tags": []
   },
   "outputs": [
    {
     "data": {
      "text/plain": [
       "dict_values(['Nesli', 'Blabla', 30])"
      ]
     },
     "execution_count": 154,
     "metadata": {},
     "output_type": "execute_result"
    }
   ],
   "source": [
    "second_dict.values()"
   ]
  },
  {
   "cell_type": "code",
   "execution_count": 155,
   "id": "adae4b69-f3e2-4afe-9f84-6b6d5e18d340",
   "metadata": {
    "tags": []
   },
   "outputs": [
    {
     "data": {
      "text/plain": [
       "dict_items([('name', 'Nesli'), ('surname', 'Blabla'), ('age', 30)])"
      ]
     },
     "execution_count": 155,
     "metadata": {},
     "output_type": "execute_result"
    }
   ],
   "source": [
    "second_dict.items()"
   ]
  },
  {
   "cell_type": "code",
   "execution_count": 135,
   "id": "a0319957-7674-49ee-b13a-a02a1010a6c3",
   "metadata": {
    "tags": []
   },
   "outputs": [
    {
     "data": {
      "text/plain": [
       "dict_values(['apple', 'dog', 'broccoli'])"
      ]
     },
     "execution_count": 135,
     "metadata": {},
     "output_type": "execute_result"
    }
   ],
   "source": [
    "my_list_copy=my_dict.values()\n",
    "my_list_copy"
   ]
  },
  {
   "cell_type": "code",
   "execution_count": 56,
   "id": "68478175-ff49-4458-be6a-87214ab318ba",
   "metadata": {},
   "outputs": [],
   "source": [
    "empty_dict={}"
   ]
  },
  {
   "cell_type": "code",
   "execution_count": 59,
   "id": "c1e3ee99-18cd-43a2-af1c-1cd3ab1060a2",
   "metadata": {},
   "outputs": [],
   "source": [
    "empty_dic2=dict()"
   ]
  },
  {
   "cell_type": "code",
   "execution_count": 57,
   "id": "7b46d73d-dfec-4c64-a247-247c4072e131",
   "metadata": {},
   "outputs": [],
   "source": [
    "my_dic={\"key\":\"value\"}"
   ]
  },
  {
   "cell_type": "code",
   "execution_count": 60,
   "id": "70a273a5-722d-4e0c-9e26-ee4cd43cffd3",
   "metadata": {},
   "outputs": [
    {
     "data": {
      "text/plain": [
       "'value'"
      ]
     },
     "execution_count": 60,
     "metadata": {},
     "output_type": "execute_result"
    }
   ],
   "source": [
    "my_dic[\"key\"]"
   ]
  },
  {
   "cell_type": "code",
   "execution_count": 156,
   "id": "4de6eed4-cc2f-4988-8251-dd9b54578287",
   "metadata": {
    "tags": []
   },
   "outputs": [
    {
     "name": "stdout",
     "output_type": "stream",
     "text": [
      "I want 42 copies of garfield\n"
     ]
    }
   ],
   "source": [
    "h = {}\n",
    "h['word'] = 'garfield'\n",
    "h['count'] = 42\n",
    "print(f\"I want {h['count']} copies of {h['word']}\")"
   ]
  },
  {
   "cell_type": "code",
   "execution_count": 69,
   "id": "2d364053-bb5d-4400-877c-0db8bd8be8fd",
   "metadata": {},
   "outputs": [],
   "source": [
    "x = {\"name\" : \"John\", \"age\" : 36}"
   ]
  },
  {
   "cell_type": "code",
   "execution_count": 71,
   "id": "700ed4d1-11c9-4520-81e1-75f0224078cc",
   "metadata": {},
   "outputs": [
    {
     "data": {
      "text/plain": [
       "'John'"
      ]
     },
     "execution_count": 71,
     "metadata": {},
     "output_type": "execute_result"
    }
   ],
   "source": [
    "x[\"name\"] #   my_dict['key']=value"
   ]
  },
  {
   "cell_type": "code",
   "execution_count": 63,
   "id": "75cc6438-059c-4f68-9e34-b4a3eb3bdde2",
   "metadata": {},
   "outputs": [
    {
     "name": "stdout",
     "output_type": "stream",
     "text": [
      "John\n"
     ]
    }
   ],
   "source": [
    "x[\"age\"]"
   ]
  },
  {
   "cell_type": "code",
   "execution_count": 72,
   "id": "799de999-b2a8-49bd-8bac-e58b05401dfb",
   "metadata": {},
   "outputs": [
    {
     "name": "stdout",
     "output_type": "stream",
     "text": [
      "John\n"
     ]
    }
   ],
   "source": [
    "print(x[\"name\"])"
   ]
  },
  {
   "cell_type": "code",
   "execution_count": 64,
   "id": "9fb4853e-14b1-4a6a-a8fb-7c1b7eba842f",
   "metadata": {},
   "outputs": [
    {
     "name": "stdout",
     "output_type": "stream",
     "text": [
      "36\n"
     ]
    }
   ],
   "source": [
    "print(x.get('age'))"
   ]
  },
  {
   "cell_type": "code",
   "execution_count": 65,
   "id": "b6cccb8a-0849-4fa4-953f-69628551e58b",
   "metadata": {},
   "outputs": [
    {
     "name": "stdout",
     "output_type": "stream",
     "text": [
      "36\n"
     ]
    }
   ],
   "source": [
    "print(x[\"age\"])"
   ]
  },
  {
   "cell_type": "code",
   "execution_count": 67,
   "id": "774d0fc4-a66a-44e1-b464-6ae70969a243",
   "metadata": {
    "tags": []
   },
   "outputs": [
    {
     "name": "stdout",
     "output_type": "stream",
     "text": [
      "{'name': 'John', 'age': 36, 'Job': 'teacher'}\n"
     ]
    }
   ],
   "source": [
    "x[\"Job\"]=\"teacher\"\n",
    "print(x)"
   ]
  },
  {
   "cell_type": "code",
   "execution_count": 73,
   "id": "ea25f28a-648e-44bf-b5b8-d34e249a08f7",
   "metadata": {},
   "outputs": [
    {
     "data": {
      "text/plain": [
       "'eggplant'"
      ]
     },
     "execution_count": 73,
     "metadata": {},
     "output_type": "execute_result"
    }
   ],
   "source": [
    "new_dict={\"vegatable\": \"eggplant\", \"fruits\": \"apple\"}\n",
    "new_dict[\"vegatable\"]"
   ]
  },
  {
   "cell_type": "code",
   "execution_count": 74,
   "id": "956bee61-450b-4278-b846-f8b470059fef",
   "metadata": {},
   "outputs": [
    {
     "name": "stdout",
     "output_type": "stream",
     "text": [
      "{'name': 'John', 'age': 36, 'Job': 'lawyer'}\n"
     ]
    }
   ],
   "source": [
    "x[\"Job\"]=\"lawyer\"\n",
    "print(x)"
   ]
  },
  {
   "cell_type": "code",
   "execution_count": 75,
   "id": "33c40304-87b7-4e18-a852-ed161f23dd0f",
   "metadata": {},
   "outputs": [
    {
     "name": "stdout",
     "output_type": "stream",
     "text": [
      "{'name': 'John', 'age': 36, 'Job': 'lawyer', 'gender': 'male'}\n"
     ]
    }
   ],
   "source": [
    "x[\"gender\"]=\"male\"\n",
    "print(x)"
   ]
  },
  {
   "cell_type": "code",
   "execution_count": 76,
   "id": "2ab0d328-74a8-42e8-9d9f-77b1b4e5197c",
   "metadata": {},
   "outputs": [
    {
     "data": {
      "text/plain": [
       "dict_keys(['name', 'age', 'Job', 'gender'])"
      ]
     },
     "execution_count": 76,
     "metadata": {},
     "output_type": "execute_result"
    }
   ],
   "source": [
    "x.keys()"
   ]
  },
  {
   "cell_type": "code",
   "execution_count": 77,
   "id": "2aa87e14-3091-49b5-bc1b-97958f033a9a",
   "metadata": {},
   "outputs": [
    {
     "data": {
      "text/plain": [
       "dict_values(['John', 36, 'lawyer', 'male'])"
      ]
     },
     "execution_count": 77,
     "metadata": {},
     "output_type": "execute_result"
    }
   ],
   "source": [
    "x.values()"
   ]
  },
  {
   "cell_type": "code",
   "execution_count": 78,
   "id": "a277fe0d-6faa-4f63-a5dc-732c4e5aa60a",
   "metadata": {},
   "outputs": [
    {
     "data": {
      "text/plain": [
       "dict_items([('name', 'John'), ('age', 36), ('Job', 'lawyer'), ('gender', 'male')])"
      ]
     },
     "execution_count": 78,
     "metadata": {},
     "output_type": "execute_result"
    }
   ],
   "source": [
    "x.items()"
   ]
  },
  {
   "cell_type": "code",
   "execution_count": 79,
   "id": "e708c563-f73b-434e-ba48-52ce9e1a9a5d",
   "metadata": {},
   "outputs": [
    {
     "data": {
      "text/plain": [
       "dict_items"
      ]
     },
     "execution_count": 79,
     "metadata": {},
     "output_type": "execute_result"
    }
   ],
   "source": [
    "my_dict=x.items()"
   ]
  },
  {
   "cell_type": "code",
   "execution_count": 80,
   "id": "05744d04-f62c-4404-8a3c-efa111a2deba",
   "metadata": {},
   "outputs": [],
   "source": [
    "my_bool=True\n"
   ]
  },
  {
   "cell_type": "code",
   "execution_count": 83,
   "id": "9794e0d8-9096-409d-bae5-fd0e2787d4ab",
   "metadata": {},
   "outputs": [
    {
     "data": {
      "text/plain": [
       "False"
      ]
     },
     "execution_count": 83,
     "metadata": {},
     "output_type": "execute_result"
    }
   ],
   "source": [
    "2==3"
   ]
  },
  {
   "cell_type": "code",
   "execution_count": null,
   "id": "67935161-954b-402d-aed8-c181d13a74fa",
   "metadata": {},
   "outputs": [],
   "source": [
    "a=2"
   ]
  },
  {
   "cell_type": "code",
   "execution_count": 84,
   "id": "c7423570-a1ac-4708-a9ea-b8b99573a51d",
   "metadata": {},
   "outputs": [
    {
     "data": {
      "text/plain": [
       "True"
      ]
     },
     "execution_count": 84,
     "metadata": {},
     "output_type": "execute_result"
    }
   ],
   "source": [
    "2!=3"
   ]
  },
  {
   "cell_type": "code",
   "execution_count": 85,
   "id": "748c4ca6-66c2-40c2-89d1-ad8659bfed8d",
   "metadata": {},
   "outputs": [
    {
     "data": {
      "text/plain": [
       "False"
      ]
     },
     "execution_count": 85,
     "metadata": {},
     "output_type": "execute_result"
    }
   ],
   "source": [
    "2>3"
   ]
  },
  {
   "cell_type": "code",
   "execution_count": 86,
   "id": "f166e036-cf68-4d2f-b483-ce4df073b8cf",
   "metadata": {},
   "outputs": [
    {
     "data": {
      "text/plain": [
       "True"
      ]
     },
     "execution_count": 86,
     "metadata": {},
     "output_type": "execute_result"
    }
   ],
   "source": [
    "3>2"
   ]
  },
  {
   "cell_type": "code",
   "execution_count": 87,
   "id": "20c211d8-1e45-4a7d-a05a-e2974a9f8ada",
   "metadata": {},
   "outputs": [],
   "source": [
    "a=50"
   ]
  },
  {
   "cell_type": "code",
   "execution_count": 88,
   "id": "c8d1a2eb-e2d3-437a-b599-199104e17690",
   "metadata": {},
   "outputs": [
    {
     "name": "stdout",
     "output_type": "stream",
     "text": [
      "a is greater than 5\n"
     ]
    }
   ],
   "source": [
    "if a>5:\n",
    "    print(\"a is greater than 5\")\n",
    "else:\n",
    "    print(\"a is not greater than 5\")\n"
   ]
  },
  {
   "cell_type": "code",
   "execution_count": 98,
   "id": "c7312121-8bfa-4081-951c-df7e7bda9d48",
   "metadata": {},
   "outputs": [],
   "source": [
    "a=50\n",
    "b=7"
   ]
  },
  {
   "cell_type": "code",
   "execution_count": 106,
   "id": "39d3e114-1cef-48dc-9eeb-f35d0df5d1c7",
   "metadata": {},
   "outputs": [
    {
     "name": "stdout",
     "output_type": "stream",
     "text": [
      "50 is greater than 7\n"
     ]
    }
   ],
   "source": [
    "if a>b: #condition 1\n",
    "    print(f\"{a} is greater than {b}\") #statement 1\n",
    "elif b>a: #condition 2\n",
    "    print(f\"{b} is greater than {a}\") #statement 2\n",
    "else: #when above conditons are False\n",
    "    print(f\"{a} is equal to {b}\") #statement of else"
   ]
  },
  {
   "cell_type": "code",
   "execution_count": 102,
   "id": "7c4c101b-3942-47bc-96f4-c496eef7d10f",
   "metadata": {},
   "outputs": [
    {
     "data": {
      "text/plain": [
       "'{a} is greater than {b}'"
      ]
     },
     "execution_count": 102,
     "metadata": {},
     "output_type": "execute_result"
    }
   ],
   "source": [
    "\"{a} is greater than {b}\""
   ]
  },
  {
   "cell_type": "code",
   "execution_count": 107,
   "id": "6175fd96-cba6-4a22-9e33-4089b651f922",
   "metadata": {},
   "outputs": [
    {
     "data": {
      "text/plain": [
       "1"
      ]
     },
     "execution_count": 107,
     "metadata": {},
     "output_type": "execute_result"
    }
   ],
   "source": [
    "a=5\n",
    "a%2"
   ]
  },
  {
   "cell_type": "code",
   "execution_count": 110,
   "id": "6541ebdb-8608-41ef-bb56-096b9ee55f02",
   "metadata": {},
   "outputs": [
    {
     "name": "stdout",
     "output_type": "stream",
     "text": [
      "5 is a odd number\n"
     ]
    }
   ],
   "source": [
    "if a%2==1:\n",
    "    print(f\"{a} is a odd number\")\n",
    "elif a%2==0:\n",
    "    print(f\"{a} is an even number\")"
   ]
  },
  {
   "cell_type": "code",
   "execution_count": 144,
   "id": "32fa7186-97af-4fc1-8ca8-03ce5ee53a1f",
   "metadata": {},
   "outputs": [],
   "source": [
    "a=9\n",
    "b=7"
   ]
  },
  {
   "cell_type": "code",
   "execution_count": 145,
   "id": "7589d16d-ef5d-4d4b-af2c-43c69567b4bd",
   "metadata": {},
   "outputs": [
    {
     "name": "stdout",
     "output_type": "stream",
     "text": [
      "9 is greater than 7 and 9 is an odd number\n"
     ]
    }
   ],
   "source": [
    "if a>b and a%2==1: #condition 1\n",
    "    print(f\"{a} is greater than {b} and {a} is an odd number\") #statement 1\n",
    "elif a>b and a%2==0: #condition 2\n",
    "    print(f\"{a} is greater than {b} and {a} is an even number\") #statement 2\n",
    "elif b>a and a%2==1: #condition 3\n",
    "    print(f\"{b} is greater than {a} and {a} is an odd number\") #statement 3\n",
    "elif b>a and a%2==0: #condition 4\n",
    "    print(f\"{b} is greater than {a} and {a} is an even number\") #statement 4\n",
    "else: #when above conditons are False\n",
    "    print(f\"{a} is equal to {b}\") #statement of else"
   ]
  },
  {
   "cell_type": "code",
   "execution_count": 131,
   "id": "e0e21477-a658-4858-8534-aa7996e3092f",
   "metadata": {},
   "outputs": [
    {
     "name": "stdout",
     "output_type": "stream",
     "text": [
      "apple is not a fruit not a vegatable\n"
     ]
    }
   ],
   "source": [
    "fruits= [\"banana\", \"watermelon\"]\n",
    "vegatables = [\"broccoli\", \"carots\", \"onions\"]\n",
    "\n",
    "if \"apple\" in fruits:\n",
    "    print(\"apple is a fruit\")\n",
    "elif \"apple\" in vegatables:\n",
    "    print(\"apple is a vegatable\")\n",
    "else:\n",
    "    print(\"apple is not a fruit not a vegatable\")"
   ]
  },
  {
   "cell_type": "code",
   "execution_count": 135,
   "id": "9e2f46ac-ce11-4e62-8d67-63a75f331532",
   "metadata": {},
   "outputs": [
    {
     "name": "stdout",
     "output_type": "stream",
     "text": [
      "Enter degrees (c):\n",
      " twenty\n"
     ]
    },
    {
     "ename": "ValueError",
     "evalue": "invalid literal for int() with base 10: 'twenty'",
     "output_type": "error",
     "traceback": [
      "\u001b[0;31m---------------------------------------------------------------------------\u001b[0m",
      "\u001b[0;31mValueError\u001b[0m                                Traceback (most recent call last)",
      "Input \u001b[0;32mIn [135]\u001b[0m, in \u001b[0;36m<cell line: 1>\u001b[0;34m()\u001b[0m\n\u001b[0;32m----> 1\u001b[0m degree \u001b[38;5;241m=\u001b[39m \u001b[38;5;28;43mint\u001b[39;49m\u001b[43m(\u001b[49m\u001b[38;5;28;43minput\u001b[39;49m\u001b[43m(\u001b[49m\u001b[38;5;124;43m'\u001b[39;49m\u001b[38;5;124;43mEnter degrees (c):\u001b[39;49m\u001b[38;5;130;43;01m\\n\u001b[39;49;00m\u001b[38;5;124;43m'\u001b[39;49m\u001b[43m)\u001b[49m\u001b[43m)\u001b[49m\n\u001b[1;32m      3\u001b[0m \u001b[38;5;28;01mif\u001b[39;00m degree \u001b[38;5;241m<\u001b[39m \u001b[38;5;241m0\u001b[39m:\n\u001b[1;32m      4\u001b[0m     \u001b[38;5;28mprint\u001b[39m(\u001b[38;5;124m\"\u001b[39m\u001b[38;5;124mIt\u001b[39m\u001b[38;5;124m'\u001b[39m\u001b[38;5;124ms cold, stay at home\u001b[39m\u001b[38;5;124m\"\u001b[39m)\n",
      "\u001b[0;31mValueError\u001b[0m: invalid literal for int() with base 10: 'twenty'"
     ]
    }
   ],
   "source": [
    "degree = int(input('Enter degrees (c):\\n'))\n",
    "\n",
    "if degree < 0:\n",
    "    print(\"It's cold, stay at home\")\n",
    "elif degree < 20:\n",
    "    print(\"Put a jacket on\")\n",
    "else:\n",
    "    print(\"It's a good weather for a T-shirt\")"
   ]
  },
  {
   "cell_type": "code",
   "execution_count": 140,
   "id": "8eabed32-907d-4690-906e-fd75ef1b6d72",
   "metadata": {},
   "outputs": [
    {
     "name": "stdout",
     "output_type": "stream",
     "text": [
      "Enter your age: 5\n",
      "What is the hour? (0-24)\n",
      " 23\n",
      "You should be sleeping ...\n"
     ]
    }
   ],
   "source": [
    "age = int(input('Enter your age:'))\n",
    "hour = int(input('What is the hour? (0-24)\\n'))\n",
    "\n",
    "is_late = hour >= 22\n",
    "is_too_young = age <= 12\n",
    "\n",
    "if is_late:\n",
    "    if is_too_young: #it is late and you are young\n",
    "        \n",
    "        print('You should be sleeping ...')\n",
    "    else: #it is late and you are not young\n",
    "        print('Want to watch a movie?') #it is late\n",
    "else: #it is not late\n",
    "    print('Go for a walk!')"
   ]
  },
  {
   "cell_type": "code",
   "execution_count": null,
   "id": "9dd86ba7-6213-4d82-b735-ca0b660d4f66",
   "metadata": {},
   "outputs": [],
   "source": []
  }
 ],
 "metadata": {
  "kernelspec": {
   "display_name": "Python 3 (ipykernel)",
   "language": "python",
   "name": "python3"
  },
  "language_info": {
   "codemirror_mode": {
    "name": "ipython",
    "version": 3
   },
   "file_extension": ".py",
   "mimetype": "text/x-python",
   "name": "python",
   "nbconvert_exporter": "python",
   "pygments_lexer": "ipython3",
   "version": "3.11.3"
  }
 },
 "nbformat": 4,
 "nbformat_minor": 5
}
