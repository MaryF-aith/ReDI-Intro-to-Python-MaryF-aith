{
 "cells": [
  {
   "cell_type": "markdown",
   "id": "4371f3fc-0348-4a96-98c7-eb0dd058339b",
   "metadata": {},
   "source": [
    "Exercise\n",
    "packages\n",
    "\n",
    "0. add required packages at the top of this script\n",
    "\n",
    "1. import dataset from subfolder \"data\"\n",
    "\n",
    "2. how many rows and columns does it have\n",
    "\n",
    "3. which columns does it have?\n",
    "\n",
    "4. There is a column named 'Unnamed: 0'. Please delete it.\n",
    "\n",
    "5. which levels does column cut have?\n",
    "\n",
    "6. create a barplot for diamonds and their cut's\n",
    "\n",
    "7. save the graph as png-file\n",
    "\n",
    "8. find out what the median price per cut is.\n",
    "\n",
    "9. Create two filtered dataframes which only have the cut 'Ideal' and 'Premium'. Store it in the dataframes 'df_cut_ideal' and 'df_cut_premium'\n",
    "\n",
    "10. stack the dataframes together to get a combined version df_cut_ideal_premium\n",
    "\n",
    "11. save the dataframe to a csv file in subfolder data: 'df_cut_ideal_premium.csv'"
   ]
  },
  {
   "cell_type": "code",
   "execution_count": null,
   "id": "dff6cd91-f79f-4636-8b2c-66b0ada24a51",
   "metadata": {},
   "outputs": [],
   "source": []
  }
 ],
 "metadata": {
  "kernelspec": {
   "display_name": "Python 3 (ipykernel)",
   "language": "python",
   "name": "python3"
  },
  "language_info": {
   "codemirror_mode": {
    "name": "ipython",
    "version": 3
   },
   "file_extension": ".py",
   "mimetype": "text/x-python",
   "name": "python",
   "nbconvert_exporter": "python",
   "pygments_lexer": "ipython3",
   "version": "3.11.3"
  }
 },
 "nbformat": 4,
 "nbformat_minor": 5
}
