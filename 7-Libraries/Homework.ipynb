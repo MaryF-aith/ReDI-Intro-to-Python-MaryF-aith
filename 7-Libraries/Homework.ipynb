{
 "cells": [
  {
   "cell_type": "markdown",
   "id": "4371f3fc-0348-4a96-98c7-eb0dd058339b",
   "metadata": {},
   "source": [
    "Exercise\n",
    "packages\n",
    "\n",
    "0. import pandas, and other necessary libraries\n",
    "\n",
    "1. import dataset called \"StudentsPerformance.csv \n",
    "\n",
    "    Note: This data set consists of the marks secured by the students in various subjects. reference: https://www.kaggle.com/datasets/spscientist/students-performance-in-exams/\n",
    "    \n",
    "2. print first 10 rows to get an idea about dataset\n",
    "\n",
    "3. how many rows and columns does it have\n",
    "\n",
    "3. which columns does it have?\n",
    "\n",
    "4. Print the number of unique value in each column \n",
    "\n",
    "5. Print the counts of each unique value in the column called 'gender' and assign this to a variable called 'gender_counts'\n",
    "\n",
    "6. There is a column named 'lunch'. Please delete it.\n",
    "\n",
    "7. Create a subset of df with the following columns and name it as df_2. columns: ['gender', 'race/ethnicity',  'math score'] and print first 5 rows of df_2\n",
    "\n",
    "8. Create a subset of df with all the columns but only row index number 10, 20,400 name it as df_3 and print df_3\n",
    "\n",
    "9. Create a subset of df which parental level of education is equal to 'high school' and name it df_4. how many rows df_4 does it have?\n",
    "\n",
    "10. Find out in which row the math score is equal to zero\n",
    "\n",
    "11. Find out the rows which has 100 for all the subjects\n",
    "\n",
    "12. Find out the rows which has 100 either for math or reading\n",
    "\n",
    "13. Save the df to a csv file as \"my_df.csv\"\n",
    "\n",
    "14. Create a bar chart by using \"plot\" for the gender_counts which illustrate the number of the rows per gender in a bar chart.\n",
    "\n",
    "15. Create a bar chart by using seaborn library to visualize parental level of education versus math score"
   ]
  }
 ],
 "metadata": {
  "kernelspec": {
   "display_name": "Python 3 (ipykernel)",
   "language": "python",
   "name": "python3"
  },
  "language_info": {
   "codemirror_mode": {
    "name": "ipython",
    "version": 3
   },
   "file_extension": ".py",
   "mimetype": "text/x-python",
   "name": "python",
   "nbconvert_exporter": "python",
   "pygments_lexer": "ipython3",
   "version": "3.11.3"
  }
 },
 "nbformat": 4,
 "nbformat_minor": 5
}
