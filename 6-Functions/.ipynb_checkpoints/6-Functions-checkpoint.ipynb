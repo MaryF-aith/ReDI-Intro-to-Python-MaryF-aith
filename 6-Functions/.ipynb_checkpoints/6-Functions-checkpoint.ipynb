{
 "cells": [
  {
   "cell_type": "markdown",
   "id": "28913e4f-5bfc-4118-97e2-fe7b9d84c1bb",
   "metadata": {},
   "source": [
    "## Functions\n",
    "\n",
    "- What is a **function**?\n",
    "- A function lets us create a set of instructions that we can run when needed. Functions are essential in Python and in many other programming languages. They help us create meaningful programs, because they allow us to decompose a program into manageable parts, and they promote readability and code reuse.\n",
    "\n",
    "\n",
    "  ```python\n",
    "  def my_test_function(a):\n",
    "      return a\n",
    "  ```\n",
    "\n",
    "\n",
    "  A **function** is a sequence of steps or tasks (written in a block of code), which may or may not take in `argument`. Whenever we _call_ a function, we execute this defined set of steps (with any _arguments_ passed in). The above example function takes in some value and simply _returns_, or gives us back, this value when we _call_ it like so: `my_test_function(12) # evaluates to 12`\n",
    "\n",
    "\n",
    "    ```python\n",
    "    #1. print a string\n",
    "    print(\"hello word\")\n",
    "\n",
    "    #2. print a string via variable\n",
    "    a=\"hello word\"\n",
    "    print(a)\n",
    "\n",
    "    #3. print a string via function\n",
    "    def redi():\n",
    "        print(\"hello world\")\n",
    "    redi()\n",
    "    ```"
   ]
  },
  {
   "cell_type": "code",
   "execution_count": 1,
   "id": "9f1eb808-bd5b-4bfe-95c4-392d9fa18444",
   "metadata": {
    "tags": []
   },
   "outputs": [
    {
     "name": "stdout",
     "output_type": "stream",
     "text": [
      "RediSchool\n"
     ]
    }
   ],
   "source": [
    "#1. print a string\n",
    "print(\"RediSchool\")"
   ]
  },
  {
   "cell_type": "code",
   "execution_count": 2,
   "id": "87250b9c-0053-481f-b0aa-2931bee623ec",
   "metadata": {
    "tags": []
   },
   "outputs": [
    {
     "name": "stdout",
     "output_type": "stream",
     "text": [
      "RediSchool\n"
     ]
    }
   ],
   "source": [
    "#2. print a string via variable\n",
    "my_variable=\"RediSchool\"\n",
    "print(my_variable)"
   ]
  },
  {
   "cell_type": "code",
   "execution_count": 5,
   "id": "c0506f42-0560-4170-80c3-7548126ff40a",
   "metadata": {
    "tags": []
   },
   "outputs": [],
   "source": [
    "#3. print a string via function\n",
    "def nesli():\n",
    "    return(\"RediSchool\")"
   ]
  },
  {
   "cell_type": "code",
   "execution_count": 6,
   "id": "daa6448e-5550-4f07-ae8d-01f9648264d4",
   "metadata": {
    "tags": []
   },
   "outputs": [
    {
     "data": {
      "text/plain": [
       "'RediSchool'"
      ]
     },
     "execution_count": 6,
     "metadata": {},
     "output_type": "execute_result"
    }
   ],
   "source": [
    "nesli()"
   ]
  },
  {
   "cell_type": "markdown",
   "id": "5d3f627a-66dd-40c1-a2ef-e60b8e95ec02",
   "metadata": {},
   "source": [
    "\n",
    "### Exercise 1: create and call a function that prints \"Hello, World!\"\n",
    "\n",
    "\n",
    "*Hint: Modify the code you wrote in the previous task so that this happens within a function that you define.*"
   ]
  },
  {
   "cell_type": "code",
   "execution_count": 7,
   "id": "deb23002-2195-45cc-9260-3d8216fdb4f0",
   "metadata": {
    "tags": []
   },
   "outputs": [
    {
     "name": "stdout",
     "output_type": "stream",
     "text": [
      "Hello World!\n"
     ]
    }
   ],
   "source": [
    "def hello_world():\n",
    "    print(\"Hello World!\")\n",
    "hello_world()"
   ]
  },
  {
   "cell_type": "markdown",
   "id": "ed823549-1783-45a0-baf0-1e00da23c021",
   "metadata": {},
   "source": [
    "### Exercise 2: create a function that returns the string \"Hello, World!\". Call this function and print the output."
   ]
  },
  {
   "cell_type": "code",
   "execution_count": 9,
   "id": "18101663-eb54-4bf5-87fe-e44119246624",
   "metadata": {
    "tags": []
   },
   "outputs": [
    {
     "data": {
      "text/plain": [
       "'Hello World!'"
      ]
     },
     "execution_count": 9,
     "metadata": {},
     "output_type": "execute_result"
    }
   ],
   "source": [
    "def hello_world_2():\n",
    "    return(\"Hello World!\")\n",
    "hello_world_2()"
   ]
  },
  {
   "cell_type": "markdown",
   "id": "1344d9e9-e9e8-460b-ba7b-c7a1f097fa45",
   "metadata": {},
   "source": [
    "### Exercise 3: modify your function so you can greet a specific name: \"Hello, Person\"\n",
    "\n",
    "In other words:\n",
    "\n",
    "```python\n",
    "greet(\"Nesli\")\n",
    "# expected output -> \"Hello, Nesli\"\n",
    "```\n"
   ]
  },
  {
   "cell_type": "code",
   "execution_count": 11,
   "id": "9047e434-f99e-4209-9a9c-1e75fcaab718",
   "metadata": {
    "tags": []
   },
   "outputs": [
    {
     "name": "stdout",
     "output_type": "stream",
     "text": [
      "hello Mary\n"
     ]
    }
   ],
   "source": [
    "name=\"Mary\"\n",
    "print(f\"hello {name}\")"
   ]
  },
  {
   "cell_type": "code",
   "execution_count": 34,
   "id": "503e14fe-b49d-4d59-a735-906354aaaf78",
   "metadata": {
    "tags": []
   },
   "outputs": [],
   "source": [
    "def my_first_func(name, surname):\n",
    "    my_var=f\"hello {name} {surname} \"\n",
    "    return(my_var)"
   ]
  },
  {
   "cell_type": "code",
   "execution_count": 40,
   "id": "e1d62a2c-3bec-4ea3-b99a-846617df570e",
   "metadata": {
    "tags": []
   },
   "outputs": [
    {
     "data": {
      "text/plain": [
       "'hello Deniz Kocaman '"
      ]
     },
     "execution_count": 40,
     "metadata": {},
     "output_type": "execute_result"
    }
   ],
   "source": [
    "my_first_func(surname=\"Kocaman\", name=\"Deniz\")"
   ]
  },
  {
   "cell_type": "code",
   "execution_count": 41,
   "id": "3cfa243d-d895-4ebd-81ca-116853b55c1c",
   "metadata": {
    "tags": []
   },
   "outputs": [],
   "source": [
    "def greet(name):\n",
    "    a=\"Hello, \" + name\n",
    "    return(a)"
   ]
  },
  {
   "cell_type": "code",
   "execution_count": 42,
   "id": "92fc84b0-5ff9-4c5e-b9bc-4425d1d2f424",
   "metadata": {
    "tags": []
   },
   "outputs": [
    {
     "data": {
      "text/plain": [
       "'Hello, Rachel'"
      ]
     },
     "execution_count": 42,
     "metadata": {},
     "output_type": "execute_result"
    }
   ],
   "source": [
    "greet(\"Rachel\")"
   ]
  },
  {
   "cell_type": "markdown",
   "id": "4c6f82e9-71f4-439e-be5b-f5ab22ac1346",
   "metadata": {},
   "source": [
    "### Function terms\n",
    "\n",
    "There is a `def` keyword, so that the Python interpreter knows that this is a function `def`inition, function name (`greet`), arguments (`name` in this case), and a body (the set of instructions, which is the part that follows the colon and is indented one level on the left).\n",
    "\n",
    "To run this function, we must call it. This is the syntax to call the function: `greet('Nesli')`\n",
    "We can execute this function as many times as we want to.\n",
    "\n",
    "The name of the function, `greet`, is very important. It should be descriptive,\n",
    "so anyone calling it can imagine what the function does.\n",
    "\n",
    "#### Parameters or Arguments\n",
    "\n",
    "The terms `parameter` and `argument` can be used for the same thing: information that are passed into a function. \n",
    "\n",
    "**From a function's perspective:**\n",
    "\n",
    "A `parameter` is the variable listed inside the parentheses in the function definition.\n",
    "\n",
    "```py\n",
    "def greet(name):\n",
    "    print('Hello, ' + name)\n",
    "```\n",
    "Above `name` is a parameter.\n",
    "\n",
    "An `argument` is the value that is sent to the function when it is called.\n",
    "\n",
    "```py\n",
    "greet(\"Nesli\")\n",
    "```\n",
    "Above `Nesli` is an argument.\n",
    "\n",
    "**Number of Arguments**\n",
    "- You must call the function with the number of arguments that your function expects (number of parameters that you defined), **not less, not more!!**\n",
    "\n",
    "```py\n",
    "def full_name(firstname, lastname): #2 parameters\n",
    "    print(firstname + \" \" + lastname)\n",
    "\n",
    "full_name(\"Neslihan\", \"Keskin\") #2 arguments\n",
    "\n",
    "Output: \"Neslihan Keskin\"\n",
    "```"
   ]
  },
  {
   "cell_type": "code",
   "execution_count": 44,
   "id": "4f436df8-3067-450c-a34d-3579c181820e",
   "metadata": {
    "tags": []
   },
   "outputs": [
    {
     "name": "stdout",
     "output_type": "stream",
     "text": [
      "neslihan keskin\n"
     ]
    }
   ],
   "source": [
    "def full_name(first, last):\n",
    "    print(first + \" \" + last)\n",
    "full_name(\"neslihan\", \"keskin\")"
   ]
  },
  {
   "cell_type": "code",
   "execution_count": 45,
   "id": "9599a639-fe8f-476f-baea-371adc853657",
   "metadata": {
    "tags": []
   },
   "outputs": [
    {
     "name": "stdout",
     "output_type": "stream",
     "text": [
      "Ying Liao\n"
     ]
    }
   ],
   "source": [
    "full_name(\"Ying\", \"Liao\")"
   ]
  },
  {
   "cell_type": "markdown",
   "id": "e2302b1f-94f7-4f74-95f7-2f2d67bf03a0",
   "metadata": {},
   "source": [
    "### Exercise 4: \n",
    "- Write a Python function called max_of_two expects two integer returns the bigger number. \n"
   ]
  },
  {
   "cell_type": "code",
   "execution_count": 46,
   "id": "76c65a75-890a-402c-b8d8-b8e08f913d88",
   "metadata": {
    "tags": []
   },
   "outputs": [],
   "source": [
    "def max_of_two(x, y):\n",
    "    if x>y:\n",
    "        return(x)\n",
    "    elif y>x:\n",
    "        return(y)   "
   ]
  },
  {
   "cell_type": "code",
   "execution_count": 52,
   "id": "e5076b1b-1c81-44a7-aa50-0e66ca9be208",
   "metadata": {
    "tags": []
   },
   "outputs": [
    {
     "data": {
      "text/plain": [
       "10"
      ]
     },
     "execution_count": 52,
     "metadata": {},
     "output_type": "execute_result"
    }
   ],
   "source": [
    "max_of_two(10,5)"
   ]
  },
  {
   "cell_type": "code",
   "execution_count": 50,
   "id": "8930cad1-88ca-4178-9aa3-84c446f2706c",
   "metadata": {
    "tags": []
   },
   "outputs": [
    {
     "data": {
      "text/plain": [
       "False"
      ]
     },
     "execution_count": 50,
     "metadata": {},
     "output_type": "execute_result"
    }
   ],
   "source": [
    "\"10\">\"5\""
   ]
  },
  {
   "cell_type": "code",
   "execution_count": 55,
   "id": "f6933314-34c9-42bb-af02-3922c9897bfa",
   "metadata": {
    "tags": []
   },
   "outputs": [
    {
     "ename": "ValueError",
     "evalue": "invalid literal for int() with base 10: 'nesli'",
     "output_type": "error",
     "traceback": [
      "\u001b[0;31m---------------------------------------------------------------------------\u001b[0m",
      "\u001b[0;31mValueError\u001b[0m                                Traceback (most recent call last)",
      "Cell \u001b[0;32mIn[55], line 1\u001b[0m\n\u001b[0;32m----> 1\u001b[0m max_of_two(\u001b[38;5;124m\"\u001b[39m\u001b[38;5;124mnesli\u001b[39m\u001b[38;5;124m\"\u001b[39m, \u001b[38;5;124m\"\u001b[39m\u001b[38;5;124maaaa\u001b[39m\u001b[38;5;124m\"\u001b[39m)\n",
      "Cell \u001b[0;32mIn[53], line 2\u001b[0m, in \u001b[0;36mmax_of_two\u001b[0;34m(x, y)\u001b[0m\n\u001b[1;32m      1\u001b[0m \u001b[38;5;28;01mdef\u001b[39;00m \u001b[38;5;21mmax_of_two\u001b[39m(x, y):\n\u001b[0;32m----> 2\u001b[0m     x\u001b[38;5;241m=\u001b[39m\u001b[38;5;28mint\u001b[39m(x)\n\u001b[1;32m      3\u001b[0m     y\u001b[38;5;241m=\u001b[39m\u001b[38;5;28mint\u001b[39m(y)\n\u001b[1;32m      4\u001b[0m     \u001b[38;5;28;01mif\u001b[39;00m x\u001b[38;5;241m>\u001b[39my:\n",
      "\u001b[0;31mValueError\u001b[0m: invalid literal for int() with base 10: 'nesli'"
     ]
    }
   ],
   "source": [
    "max_of_two(\"nesli\", \"aaaa\")"
   ]
  },
  {
   "cell_type": "code",
   "execution_count": 53,
   "id": "6d7e315a-a15f-4207-b496-1bb1f3a80d69",
   "metadata": {
    "tags": []
   },
   "outputs": [],
   "source": [
    "def max_of_two(x, y):\n",
    "    x=int(x)\n",
    "    y=int(y)\n",
    "    if x>y:\n",
    "        return(x)\n",
    "    elif y>x:\n",
    "        return(y) "
   ]
  },
  {
   "cell_type": "code",
   "execution_count": 54,
   "id": "6c32dcd5-8d2f-4653-9ac6-c5c46281c1dc",
   "metadata": {
    "tags": []
   },
   "outputs": [
    {
     "data": {
      "text/plain": [
       "10"
      ]
     },
     "execution_count": 54,
     "metadata": {},
     "output_type": "execute_result"
    }
   ],
   "source": [
    "max_of_two(\"10\",\"5\")"
   ]
  },
  {
   "cell_type": "markdown",
   "id": "8b4c2de7-e742-4564-b5df-374a34ba2f4f",
   "metadata": {},
   "source": [
    "### Exercise 5: \n",
    "- Create a function called `your_age` that expects an `age` argument and returns \"you are young\" if age is less than 30, otherwise \"your sipirit is still young ;)\n",
    "\"\n",
    "- Call this function twice, once with the value less than 30 and once with higher than 30 and print the outputs of these calls.\n"
   ]
  },
  {
   "cell_type": "code",
   "execution_count": 56,
   "id": "5572670a-7269-4e46-80bd-7d4c71411843",
   "metadata": {
    "tags": []
   },
   "outputs": [],
   "source": [
    "def your_age(age):\n",
    "    if age<30:\n",
    "        return (\"you are young\")\n",
    "    else:\n",
    "        return(\"your sipirit is still young ;) \") "
   ]
  },
  {
   "cell_type": "code",
   "execution_count": 36,
   "id": "c21dc403-df92-43f7-b420-ea77962da33a",
   "metadata": {},
   "outputs": [],
   "source": [
    "def your_age(age):\n",
    "    if age<30:\n",
    "        return(\"You are young\")\n",
    "    else:\n",
    "        return(\"your sipirit is still young ;) \")"
   ]
  },
  {
   "cell_type": "code",
   "execution_count": 58,
   "id": "9987d852-cfce-454e-87e2-5ba7648f05b9",
   "metadata": {
    "tags": []
   },
   "outputs": [
    {
     "data": {
      "text/plain": [
       "'you are young'"
      ]
     },
     "execution_count": 58,
     "metadata": {},
     "output_type": "execute_result"
    }
   ],
   "source": [
    "your_age(5)"
   ]
  },
  {
   "cell_type": "markdown",
   "id": "0c7377a1-baab-4d68-801e-e56ce7187795",
   "metadata": {},
   "source": [
    "- Modify the function by using `input` ask user to enter an age and apply the same logic above."
   ]
  },
  {
   "cell_type": "code",
   "execution_count": 39,
   "id": "4a292496-e730-4731-8139-463e13aafa38",
   "metadata": {},
   "outputs": [],
   "source": [
    "def your_age():\n",
    "    age=int(input(\"Enter your age: \"))\n",
    "    if age<30:\n",
    "        return(\"You are young\")\n",
    "    else:\n",
    "        return(\"your sipirit is still young ;) \")"
   ]
  },
  {
   "cell_type": "code",
   "execution_count": 40,
   "id": "b1d8d351-2919-4152-b3f7-db87b5313bd3",
   "metadata": {},
   "outputs": [
    {
     "name": "stdout",
     "output_type": "stream",
     "text": [
      "Enter your age:  25\n"
     ]
    },
    {
     "data": {
      "text/plain": [
       "'You are young'"
      ]
     },
     "execution_count": 40,
     "metadata": {},
     "output_type": "execute_result"
    }
   ],
   "source": [
    "your_age()"
   ]
  },
  {
   "cell_type": "markdown",
   "id": "3e347548-1ceb-4cbd-acb5-de4330c5a470",
   "metadata": {},
   "source": [
    "### Exercise 6: create a function that return circle area by given its radius as an argument.\n",
    "\n",
    "*Hint:*\n",
    "Formula: **\" circle area = 3.14 * radius<sup>2</sup> \"**"
   ]
  },
  {
   "cell_type": "code",
   "execution_count": 62,
   "id": "f21e0795-8cce-4308-90d9-82cec7d99863",
   "metadata": {
    "tags": []
   },
   "outputs": [],
   "source": [
    "def circle_area(radius):\n",
    "    #area= 3.14 * radius * radius\n",
    "    #area= 3.14 * (radius ** 2)\n",
    "    pi=3.14\n",
    "    area= pi * (radius ** 2)\n",
    "    return(area)"
   ]
  },
  {
   "cell_type": "code",
   "execution_count": 65,
   "id": "88f338e3-ccdc-47ec-ab3d-35ffce15a98d",
   "metadata": {
    "tags": []
   },
   "outputs": [
    {
     "data": {
      "text/plain": [
       "78.5"
      ]
     },
     "execution_count": 65,
     "metadata": {},
     "output_type": "execute_result"
    }
   ],
   "source": [
    "circle_area(5)"
   ]
  },
  {
   "cell_type": "code",
   "execution_count": 42,
   "id": "b8b89102-7ee7-4a3b-8e55-7139c5976137",
   "metadata": {},
   "outputs": [
    {
     "data": {
      "text/plain": [
       "28.259999999999998"
      ]
     },
     "execution_count": 42,
     "metadata": {},
     "output_type": "execute_result"
    }
   ],
   "source": [
    "3.14*3*3"
   ]
  },
  {
   "cell_type": "markdown",
   "id": "bfb7bda7-440e-4760-86ef-aa9103e239c4",
   "metadata": {},
   "source": [
    "### Exercise 7: function with for loop\n",
    "- Write a Python function to sum all the numbers in a list."
   ]
  },
  {
   "cell_type": "code",
   "execution_count": 72,
   "id": "08784bfd-56df-4eaa-9bec-0ac40c87bf00",
   "metadata": {
    "tags": []
   },
   "outputs": [
    {
     "name": "stdout",
     "output_type": "stream",
     "text": [
      "22\n"
     ]
    }
   ],
   "source": [
    "my_list=[2,4,6,2,8]\n",
    "mysum=0\n",
    "for num in my_list:\n",
    "    mysum= mysum + num # 2=0+2   6=2+4\n",
    "print(mysum)"
   ]
  },
  {
   "cell_type": "code",
   "execution_count": 81,
   "id": "249777a9-3ccc-4b1a-9047-d9f60c960f87",
   "metadata": {
    "tags": []
   },
   "outputs": [],
   "source": [
    "def sum_up(your_list):\n",
    "    mysum=0\n",
    "    for num in your_list:\n",
    "        mysum= mysum + num # 2=0+2   6=2+4\n",
    "    return(mysum)"
   ]
  },
  {
   "cell_type": "code",
   "execution_count": 82,
   "id": "e88bad2b-4fda-4639-b9e6-807bcd6221e6",
   "metadata": {
    "tags": []
   },
   "outputs": [
    {
     "data": {
      "text/plain": [
       "30"
      ]
     },
     "execution_count": 82,
     "metadata": {},
     "output_type": "execute_result"
    }
   ],
   "source": [
    "mary_list=[2,4,8,7,9]\n",
    "sum_up(mary_list)"
   ]
  },
  {
   "cell_type": "code",
   "execution_count": 83,
   "id": "dedfccdc-0e0d-4b36-88cc-efd36688d504",
   "metadata": {
    "tags": []
   },
   "outputs": [],
   "source": [
    "def summary(num_list):\n",
    "    total=0\n",
    "    for num in num_list:\n",
    "        total=total + num\n",
    "    return(total) "
   ]
  },
  {
   "cell_type": "code",
   "execution_count": 84,
   "id": "69756c97-8767-43aa-bce5-c0d519ee74e6",
   "metadata": {
    "tags": []
   },
   "outputs": [
    {
     "data": {
      "text/plain": [
       "26"
      ]
     },
     "execution_count": 84,
     "metadata": {},
     "output_type": "execute_result"
    }
   ],
   "source": [
    "my_num_list= [8,2,7,6,3]\n",
    "summary(my_num_list) #26 , "
   ]
  },
  {
   "cell_type": "markdown",
   "id": "d7f034c6-23cb-4427-b0ab-3ea88c497769",
   "metadata": {},
   "source": [
    "### Extra materials \n",
    "\n",
    "https://www.w3schools.com/python/python_functions.asp"
   ]
  },
  {
   "cell_type": "code",
   "execution_count": null,
   "id": "a8bf4e8d-b648-41d0-9c48-afa7f9d85b59",
   "metadata": {},
   "outputs": [],
   "source": []
  }
 ],
 "metadata": {
  "kernelspec": {
   "display_name": "Python 3 (ipykernel)",
   "language": "python",
   "name": "python3"
  },
  "language_info": {
   "codemirror_mode": {
    "name": "ipython",
    "version": 3
   },
   "file_extension": ".py",
   "mimetype": "text/x-python",
   "name": "python",
   "nbconvert_exporter": "python",
   "pygments_lexer": "ipython3",
   "version": "3.11.3"
  },
  "vscode": {
   "interpreter": {
    "hash": "2d63cf38a8ddc3101a2c0f32b71647b4096a78b8efd4c1bbcf73ffeaf57c27fa"
   }
  }
 },
 "nbformat": 4,
 "nbformat_minor": 5
}
