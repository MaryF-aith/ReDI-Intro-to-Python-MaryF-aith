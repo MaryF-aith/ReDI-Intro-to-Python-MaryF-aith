{
 "cells": [
  {
   "cell_type": "markdown",
   "id": "cc022903",
   "metadata": {},
   "source": [
    "# Homework 2"
   ]
  },
  {
   "cell_type": "markdown",
   "id": "34cdc05e",
   "metadata": {},
   "source": [
    "## Task 0 - Comments"
   ]
  },
  {
   "cell_type": "markdown",
   "id": "9b6008a3",
   "metadata": {},
   "source": [
    "Comments are lines of code that Python will intentionally ignore. Comments are a great way to leave notes to yourself and to other people who will later need to figure out what that code does.\n",
    "\n",
    "There are two ways to write comments in Python:\n",
    "\n",
    "Using # will tell Python to ignore the remainder of the text on the current line. This is an in-line comment:"
   ]
  },
  {
   "cell_type": "code",
   "execution_count": 107,
   "id": "5ae50d37",
   "metadata": {},
   "outputs": [
    {
     "name": "stdout",
     "output_type": "stream",
     "text": [
      "5\n"
     ]
    }
   ],
   "source": [
    "x=5\n",
    "print(x)"
   ]
  },
  {
   "cell_type": "markdown",
   "id": "7314381e",
   "metadata": {},
   "source": [
    "# Title"
   ]
  },
  {
   "cell_type": "markdown",
   "id": "3105e051",
   "metadata": {},
   "source": [
    "text "
   ]
  },
  {
   "cell_type": "code",
   "execution_count": null,
   "id": "115c9870",
   "metadata": {},
   "outputs": [],
   "source": [
    "# This is an in-line comment."
   ]
  },
  {
   "cell_type": "markdown",
   "id": "9de13137",
   "metadata": {},
   "source": [
    "NOTE: As you write code, you should regularly add comments to clarify the function of parts of your code. Good commenting can help communicate the intent of your code—both for others and for your future self.\n",
    "\n",
    "For each of the following tasks, add a comment about your code that states which task you are working on (ex. `# Code for task 12`). Once you have completed a task, you can comment out the printed value from that section, so that you do not continue to see the output of all the previous tasks each time. (There isn't a real output for this task!)"
   ]
  },
  {
   "cell_type": "markdown",
   "id": "5e122c25",
   "metadata": {},
   "source": [
    "## Task 1 - Declare Variables"
   ]
  },
  {
   "cell_type": "markdown",
   "id": "84da4db6",
   "metadata": {},
   "source": [
    "Last class, we went over several Python data types. A \"data type\" describes the quality or structure of a piece of information. Some of the data types that we saw last class include:\n",
    "\n",
    "- `int` for integers (1,0,-4),\n",
    "- `str` for strings ('asdf', 'b', '234'),\n",
    "- `float` for floating point numbers (1.2, 3.44444, 6.2837),\n",
    "- `bool` for booleans (True, False),\n",
    "- `list` for lists ([1,2,3], ['qw45', 134]),\n",
    "\n",
    "For example, computers distinguish between numbers, such as the number 12, and strings, such as \"12\", \"dog\", or \"123 cats\", which are collections of characters. Computers can perform mathematical operations on a number, but not on a string.\n",
    "\n",
    "Variables allow computers to store and manipulate data in a dynamic fashion. They do this by using a \"label\" to point to the data rather than using the data itself. Any of the data types may be stored in a variable, and the value of a variable can be modified.\n",
    "\n",
    "We can create a new Python variable by assigning a value to a label, using the = assignment operator."
   ]
  },
  {
   "cell_type": "code",
   "execution_count": 1,
   "id": "201f6300",
   "metadata": {},
   "outputs": [],
   "source": [
    "#Change \"tess\" with your own name and run it\n",
    "my_name = \"Neslihan\""
   ]
  },
  {
   "cell_type": "markdown",
   "id": "abd495de",
   "metadata": {},
   "source": [
    "creates a variable called my_name. A variable name can be composed of characters, numbers, and the _ underscore character. It can't start with a number.\n",
    "-  `Task 1` Create a variable called our_class and assign it the value \"Intro to CS\". Print the value of this variable to make sure that it has been set to Intro to CS."
   ]
  },
  {
   "cell_type": "code",
   "execution_count": 2,
   "id": "d5bef3d7",
   "metadata": {},
   "outputs": [
    {
     "name": "stdout",
     "output_type": "stream",
     "text": [
      "Intro to CS\n"
     ]
    }
   ],
   "source": [
    "#write your solution here for Task 1\n",
    "our_class=\"Intro to CS\"\n",
    "print(our_class)"
   ]
  },
  {
   "cell_type": "markdown",
   "id": "0e522b42",
   "metadata": {},
   "source": [
    "## Task 2 - Assign the value of one variable to another"
   ]
  },
  {
   "cell_type": "markdown",
   "id": "2e72ed7e",
   "metadata": {},
   "source": [
    "After a value is assigned to a variable using the assignment operator, you can assign the value of that variable to another variable using the assignment operator. Here's an example:"
   ]
  },
  {
   "cell_type": "code",
   "execution_count": 3,
   "id": "95c74a41",
   "metadata": {},
   "outputs": [
    {
     "name": "stdout",
     "output_type": "stream",
     "text": [
      "asdf\n"
     ]
    }
   ],
   "source": [
    "my_var = 'asdf'\n",
    "my_num = my_var\n",
    "print(my_num)\n",
    "# outputs 'asdf'"
   ]
  },
  {
   "cell_type": "markdown",
   "id": "b27284bf",
   "metadata": {},
   "source": [
    "- `Task 2`Create a variable a and assign it to the value of 5. Assign the contents of a to a new variable, b. Print the values of a and b and make sure these are the same."
   ]
  },
  {
   "cell_type": "code",
   "execution_count": 4,
   "id": "312d8b1c",
   "metadata": {},
   "outputs": [
    {
     "name": "stdout",
     "output_type": "stream",
     "text": [
      "5 5\n"
     ]
    }
   ],
   "source": [
    "#write your solution here for Task 2\n",
    "a=5\n",
    "b=5\n",
    "print(a,b)"
   ]
  },
  {
   "cell_type": "markdown",
   "id": "ee997dc1",
   "metadata": {},
   "source": [
    "## Task 3 - Adding"
   ]
  },
  {
   "cell_type": "markdown",
   "id": "0e0deba4",
   "metadata": {},
   "source": [
    "`Task 3`\n",
    "- Create a variable `c` and assign it to the value of two integers added together (i.e. `2 + 4`). Print `c` and make sure that this is equal to the sum of the two numbers you have added together.\n",
    "- Print the sum of `c` and `2`.\n",
    "- Using the variable `a` (value = 5) from Task 2, print the sum of `a` and `c`.\n",
    "- Increment (increase) the value of `c` by 2.\n",
    "\n",
    "Hint: you can increment the value of a variable by using either the `+=` operator (i.e. `my_var += 5`) or by reassigning the variable (i.e. `my_var = my_var + 5`)."
   ]
  },
  {
   "cell_type": "code",
   "execution_count": 8,
   "id": "8fae6753",
   "metadata": {},
   "outputs": [
    {
     "name": "stdout",
     "output_type": "stream",
     "text": [
      "6\n",
      "8\n",
      "11\n",
      "8\n"
     ]
    }
   ],
   "source": [
    "#write your solution here for Task 3\n",
    "c=2+4\n",
    "print(c)\n",
    "print(c+2)\n",
    "print(a+c)\n",
    "c+=2\n",
    "print(c)"
   ]
  },
  {
   "cell_type": "markdown",
   "id": "bb67024f",
   "metadata": {},
   "source": [
    "## Task 4 -  Subtracting"
   ]
  },
  {
   "cell_type": "markdown",
   "id": "f0bd496f",
   "metadata": {},
   "source": [
    "`Task 4`\n",
    "- Create a variable `d` and assign it to the value of an integer subtracted from another (i.e. `4 - 3`). Print `d` and make sure that this is equal to the difference of the two numbers.\n",
    "- Print the expression subtracting `d` from `a`.\n",
    "- Decrement (decrease) the value of `d` by 2.\n",
    "\n",
    "Hint: just like with `+=`, you can decrement by using the `-=` operator or by reassigning the variable (i.e. `my_var = my_var - 5`)."
   ]
  },
  {
   "cell_type": "code",
   "execution_count": 9,
   "id": "9f0af008",
   "metadata": {},
   "outputs": [
    {
     "name": "stdout",
     "output_type": "stream",
     "text": [
      "1\n",
      "-4\n",
      "-1\n"
     ]
    }
   ],
   "source": [
    "#write your solution here for Task 4\n",
    "d=4-3\n",
    "print(d)\n",
    "print(d-a)\n",
    "d-=2\n",
    "print(d)"
   ]
  },
  {
   "cell_type": "markdown",
   "id": "664ca090",
   "metadata": {},
   "source": [
    "## Task 5 - Multiplying"
   ]
  },
  {
   "cell_type": "markdown",
   "id": "ed68a964",
   "metadata": {},
   "source": [
    "`Task 5`\n",
    "- Create a variable `e` and assign it to the value of an integer multiplied by another (i.e. `3 * 9`). Print `e` and make sure that this is equal to the product of the two numbers you have multiplied.\n",
    "- Print the expression multiplying `e` with `a`.\n",
    "- Multiply the value of `e` by 2.\n",
    "\n",
    "Hint: just like with `-=`, you can multiply the value of a variable by using the `*=` operator or by reassigning the variable (i.e. `my_var = my_var * 5`)."
   ]
  },
  {
   "cell_type": "code",
   "execution_count": 10,
   "id": "30084840",
   "metadata": {},
   "outputs": [
    {
     "name": "stdout",
     "output_type": "stream",
     "text": [
      "27\n",
      "135\n",
      "54\n"
     ]
    }
   ],
   "source": [
    "#write your solution here for Task 5\n",
    "e=3*9\n",
    "print(e)\n",
    "print(e*a)\n",
    "e*=2\n",
    "print(e)"
   ]
  },
  {
   "cell_type": "markdown",
   "id": "949a8507",
   "metadata": {},
   "source": [
    "## Task 6 - Dividing"
   ]
  },
  {
   "cell_type": "markdown",
   "id": "3f3afea4",
   "metadata": {},
   "source": [
    "`Task 6`\n",
    "- Create a variable `f` and assign it to the value of a number divided by another (i.e. `3 / 9`). Print `f` and make sure that this is equal to the quotient (result of the division).\n",
    "- Print the expression dividing `f` by `a`.\n",
    "- Divide the value of `f` by 2.\n",
    "\n",
    "Hint: just like with `*=`, you can multiply the value of a variable by using the `/=` operator or by reassigning the variable (i.e. `my_var = my_var / 5`).\n",
    "\n",
    "Note that there are multiple \"types\" of division. In Python, `/` (as used above) divides as we normally think of division and can return a floating point value. There is a second operator, `//`, that performs what is called \"integer division\" which means that it discards the remainder (i.e. no value after the decimal point)."
   ]
  },
  {
   "cell_type": "code",
   "execution_count": 12,
   "id": "07bcd768",
   "metadata": {},
   "outputs": [
    {
     "name": "stdout",
     "output_type": "stream",
     "text": [
      "3.0\n",
      "0.6\n",
      "1.5\n"
     ]
    }
   ],
   "source": [
    "#write your solution here for Task 6\n",
    "f=9/3\n",
    "print(f)\n",
    "print(f/a)\n",
    "f/=2\n",
    "print(f)"
   ]
  },
  {
   "cell_type": "code",
   "execution_count": 15,
   "id": "0e93332d",
   "metadata": {},
   "outputs": [
    {
     "data": {
      "text/plain": [
       "5"
      ]
     },
     "execution_count": 15,
     "metadata": {},
     "output_type": "execute_result"
    }
   ],
   "source": [
    "11//2"
   ]
  },
  {
   "cell_type": "markdown",
   "id": "02f77c0b",
   "metadata": {},
   "source": [
    "## Task 7 - Modulo (remainder)"
   ]
  },
  {
   "cell_type": "markdown",
   "id": "0dbf82d8",
   "metadata": {},
   "source": [
    "The modulo (%) or remainder operator gives the remainder of the division of two numbers. Example:\n",
    "- 5 % 2 = 1 because\n",
    "- 2 * 2 = 4\n",
    "- 5 - 4 = 1 (Remainder)"
   ]
  },
  {
   "cell_type": "code",
   "execution_count": 16,
   "id": "385dbafe",
   "metadata": {},
   "outputs": [
    {
     "name": "stdout",
     "output_type": "stream",
     "text": [
      "1\n",
      "4\n",
      "1\n"
     ]
    }
   ],
   "source": [
    "print(5 % 2)\n",
    "print(2 * 2)\n",
    "print(5 - 4)"
   ]
  },
  {
   "cell_type": "markdown",
   "id": "6363a8ae",
   "metadata": {},
   "source": [
    "This can be useful to check, among other things, whether a number is even or odd, by checking the remainder of the division of the number by 2:\n",
    "- 17 % 2 = 1 (17 is Odd)\n",
    "- 48 % 2 = 0 (48 is Even)"
   ]
  },
  {
   "cell_type": "code",
   "execution_count": 17,
   "id": "cceb94f0",
   "metadata": {},
   "outputs": [
    {
     "name": "stdout",
     "output_type": "stream",
     "text": [
      "1\n",
      "0\n"
     ]
    }
   ],
   "source": [
    "print(17 % 2 )\n",
    "print(48 % 2 )"
   ]
  },
  {
   "cell_type": "markdown",
   "id": "c71e7671",
   "metadata": {},
   "source": [
    "`Task7`\n",
    "\n",
    "Copy the following code and replace `VALUE_HERE` with an integer so that the value of `mod_output` is equal to 3."
   ]
  },
  {
   "cell_type": "code",
   "execution_count": 20,
   "id": "17be39f8",
   "metadata": {},
   "outputs": [
    {
     "name": "stdout",
     "output_type": "stream",
     "text": [
      "3\n"
     ]
    }
   ],
   "source": [
    "#write your solution here for Task 7\n",
    "a = 6\n",
    "mod_output = 9 % a\n",
    "print(mod_output)"
   ]
  },
  {
   "cell_type": "markdown",
   "id": "acdcb91b",
   "metadata": {},
   "source": [
    "## Task 8 - String variables"
   ]
  },
  {
   "cell_type": "markdown",
   "id": "00797552",
   "metadata": {},
   "source": [
    "Recall that a string is a series of zero or more characters that are enclosed in either single or double quotes, or triple quotes (the same as with multiline comments). Valid strings in Python include:"
   ]
  },
  {
   "cell_type": "code",
   "execution_count": 21,
   "id": "502c419b",
   "metadata": {},
   "outputs": [
    {
     "data": {
      "text/plain": [
       "'asdf'"
      ]
     },
     "execution_count": 21,
     "metadata": {},
     "output_type": "execute_result"
    }
   ],
   "source": [
    "\"\"  # empty string\"'hello'\"\n",
    "'adf'\n",
    "'\"asdf\"'\n",
    "\"\"\"asdf\"\"\""
   ]
  },
  {
   "cell_type": "markdown",
   "id": "fa26326e",
   "metadata": {},
   "source": [
    "In Python, you can \"concatenate\", or join, two strings together using the `+` operator. In Python, `'hello' + ' world'` would equal `'hello world'`.\n",
    "\n",
    "`Task 8`\n",
    "\n",
    "- Create two new string variables: `my_first_name` and `my_last_name` and assign them to the values of your first and last name. Print out the value of each variable to confirm this.\n",
    "- Concatenate the two string variables and print this result. Additionally, try to add a space between the two. (Hint: you can concatenate more than one string in an expression, like: `'hello' + ',' + 'world'`).\n",
    "- Create a new variable called `my_fullname` and set this to the value of `my_first_name` concatenated with a space and then `my_last_name` (as in the exercise directly above this).\n",
    "- Recall the `+=` operator that we used to increment a variable. This can also be used to concatenate a string onto the end of a string variable. Try this operator out by adding the line: `my_first_name += ' is awesome'` and printing out `my_first_name`. Is this value what you expected?"
   ]
  },
  {
   "cell_type": "code",
   "execution_count": 27,
   "id": "4b1b0e99",
   "metadata": {},
   "outputs": [
    {
     "name": "stdout",
     "output_type": "stream",
     "text": [
      "Neslihan\n",
      "Keskin\n"
     ]
    }
   ],
   "source": [
    "#write your solution here for Task 8\n",
    "my_first_name= 'Neslihan'\n",
    "my_last_name= 'Keskin'\n",
    "print(my_first_name)\n",
    "print(my_last_name)"
   ]
  },
  {
   "cell_type": "code",
   "execution_count": 28,
   "id": "efa5e29c",
   "metadata": {},
   "outputs": [
    {
     "name": "stdout",
     "output_type": "stream",
     "text": [
      "Neslihan Keskin\n"
     ]
    }
   ],
   "source": [
    "my_fullname= my_first_name + ' ' +my_last_name\n",
    "print(my_fullname)"
   ]
  },
  {
   "cell_type": "code",
   "execution_count": 29,
   "id": "f005e86d",
   "metadata": {},
   "outputs": [
    {
     "name": "stdout",
     "output_type": "stream",
     "text": [
      "Neslihan is awesome\n"
     ]
    }
   ],
   "source": [
    "my_first_name += ' is awesome'\n",
    "print(my_first_name)"
   ]
  },
  {
   "cell_type": "markdown",
   "id": "c888cc30",
   "metadata": {},
   "source": [
    "## Task 9 - String lengths"
   ]
  },
  {
   "cell_type": "markdown",
   "id": "18946031",
   "metadata": {},
   "source": [
    "In Python, you can find the length of a String value by writing using the built-in len function. Example:"
   ]
  },
  {
   "cell_type": "code",
   "execution_count": 30,
   "id": "2ae9372c",
   "metadata": {},
   "outputs": [
    {
     "data": {
      "text/plain": [
       "4"
      ]
     },
     "execution_count": 30,
     "metadata": {},
     "output_type": "execute_result"
    }
   ],
   "source": [
    "len(\"redi\")\n",
    "# outputs 4\n"
   ]
  },
  {
   "cell_type": "code",
   "execution_count": 31,
   "id": "2f4607c3",
   "metadata": {},
   "outputs": [
    {
     "data": {
      "text/plain": [
       "12"
      ]
     },
     "execution_count": 31,
     "metadata": {},
     "output_type": "execute_result"
    }
   ],
   "source": [
    "len('hello, world')\n",
    "# outputs 12"
   ]
  },
  {
   "cell_type": "markdown",
   "id": "1278fad9",
   "metadata": {},
   "source": [
    "`Task 9`\n",
    "- Print the lengths of each of the following variables below\n",
    "- Write a line of code that defines the variable `total_length` as the sum of the lengths of all three variables below"
   ]
  },
  {
   "cell_type": "code",
   "execution_count": 32,
   "id": "a795de7a",
   "metadata": {},
   "outputs": [],
   "source": [
    "empty = ''\n",
    "language = \"Python\"\n",
    "sentence = \"I'm a really long sentence\""
   ]
  },
  {
   "cell_type": "code",
   "execution_count": 36,
   "id": "5052eb58",
   "metadata": {},
   "outputs": [
    {
     "name": "stdout",
     "output_type": "stream",
     "text": [
      "0\n",
      "6\n",
      "26\n",
      "32\n"
     ]
    }
   ],
   "source": [
    "#write your solution here for Task 9\n",
    "print(len(empty))\n",
    "print(len(language))\n",
    "print(len(sentence))\n",
    "total_lenght= len(empty) + len(language) + len(sentence)\n",
    "print(total_lenght)"
   ]
  },
  {
   "cell_type": "markdown",
   "id": "38fdfdfc",
   "metadata": {},
   "source": [
    "## Task 10 - Strings as iterables"
   ]
  },
  {
   "cell_type": "markdown",
   "id": "ea1c66f7",
   "metadata": {},
   "source": [
    "Bracket notation, or \"array indexing\" is a way to get a character at a specific index within a string. (This also works for lists and other ordered iterables). Most modern programming languages, like Python, don't start counting at 1 like humans do, but instead start at 0. This is referred to as \"zero-indexing\".\n",
    "\n",
    "For example, the character at the index 0 in the word `Hello` is `H`. So if `word = \"Hello\"`, you can get the value of the first letter of this string by using: `word[0]`.\n",
    "\n",
    "In Python, you can also use negative numbers to index backwards into a word. For example, `word[-1]` will get you the last letter in the word.\n",
    "\n",
    "\n",
    "`Task 10`\n",
    "\n",
    "- Use bracket notation to find the first character in `sentence` from task 9, and print this out.\n",
    "- Use bracket notation and the `len` operator to find the last letter in the word, and print this out. (Hint: the last index is equal to the length of the word - 1 (because of zero-indexing)).\n",
    "- Use the negative number indexing to find and print the second to last letter in `sentence`."
   ]
  },
  {
   "cell_type": "code",
   "execution_count": 37,
   "id": "bc5abfd3",
   "metadata": {},
   "outputs": [
    {
     "data": {
      "text/plain": [
       "'H'"
      ]
     },
     "execution_count": 37,
     "metadata": {},
     "output_type": "execute_result"
    }
   ],
   "source": [
    "word='Hello'\n",
    "word[0]"
   ]
  },
  {
   "cell_type": "code",
   "execution_count": 38,
   "id": "b02f40f7",
   "metadata": {},
   "outputs": [
    {
     "data": {
      "text/plain": [
       "'I'"
      ]
     },
     "execution_count": 38,
     "metadata": {},
     "output_type": "execute_result"
    }
   ],
   "source": [
    "#write your solution here for Task 10\n",
    "sentence[0]"
   ]
  },
  {
   "cell_type": "code",
   "execution_count": 40,
   "id": "0be53af0",
   "metadata": {},
   "outputs": [
    {
     "data": {
      "text/plain": [
       "26"
      ]
     },
     "execution_count": 40,
     "metadata": {},
     "output_type": "execute_result"
    }
   ],
   "source": [
    "len(sentence)"
   ]
  },
  {
   "cell_type": "code",
   "execution_count": 41,
   "id": "9e4ea7af",
   "metadata": {},
   "outputs": [
    {
     "data": {
      "text/plain": [
       "'e'"
      ]
     },
     "execution_count": 41,
     "metadata": {},
     "output_type": "execute_result"
    }
   ],
   "source": [
    "sentence[25] #alternatively sentence[-1]"
   ]
  },
  {
   "cell_type": "code",
   "execution_count": 42,
   "id": "3e7c6658",
   "metadata": {},
   "outputs": [
    {
     "data": {
      "text/plain": [
       "'c'"
      ]
     },
     "execution_count": 42,
     "metadata": {},
     "output_type": "execute_result"
    }
   ],
   "source": [
    "sentence[-2]"
   ]
  },
  {
   "cell_type": "markdown",
   "id": "f719d6eb",
   "metadata": {},
   "source": [
    "## Task 11 - Slicing strings"
   ]
  },
  {
   "cell_type": "markdown",
   "id": "63dee979",
   "metadata": {},
   "source": [
    "You can use the same principle we just used to retrieve a part of the string (sometimes referred to as a \"substring\"). Here are some examples (note: leaving the index off before or after the : is shorthand for the start and end of the word):"
   ]
  },
  {
   "cell_type": "code",
   "execution_count": 43,
   "id": "9a1ff50c",
   "metadata": {},
   "outputs": [
    {
     "data": {
      "text/plain": [
       "'e'"
      ]
     },
     "execution_count": 43,
     "metadata": {},
     "output_type": "execute_result"
    }
   ],
   "source": [
    "word = \"Hello!\"\n",
    "word[1:2]  # outputs: \"e\"\n"
   ]
  },
  {
   "cell_type": "code",
   "execution_count": 44,
   "id": "346836bf",
   "metadata": {},
   "outputs": [
    {
     "data": {
      "text/plain": [
       "'Hel'"
      ]
     },
     "execution_count": 44,
     "metadata": {},
     "output_type": "execute_result"
    }
   ],
   "source": [
    "word[0:3]  # outputs: \"Hel\"; equivalent to word[:3]\n"
   ]
  },
  {
   "cell_type": "code",
   "execution_count": 45,
   "id": "6fe464ec",
   "metadata": {},
   "outputs": [
    {
     "data": {
      "text/plain": [
       "'Hello!'"
      ]
     },
     "execution_count": 45,
     "metadata": {},
     "output_type": "execute_result"
    }
   ],
   "source": [
    "word[:]  # outputs: \"Hello!\""
   ]
  },
  {
   "cell_type": "code",
   "execution_count": 46,
   "id": "5e68b97e",
   "metadata": {},
   "outputs": [
    {
     "data": {
      "text/plain": [
       "'lo!'"
      ]
     },
     "execution_count": 46,
     "metadata": {},
     "output_type": "execute_result"
    }
   ],
   "source": [
    "word[3:6]  # outputs: \"lo!\"; equivalent to word[3:]"
   ]
  },
  {
   "cell_type": "code",
   "execution_count": 47,
   "id": "b20232c8",
   "metadata": {},
   "outputs": [
    {
     "data": {
      "text/plain": [
       "'lo!'"
      ]
     },
     "execution_count": 47,
     "metadata": {},
     "output_type": "execute_result"
    }
   ],
   "source": [
    " word[3:] "
   ]
  },
  {
   "cell_type": "code",
   "execution_count": 48,
   "id": "97e7238f",
   "metadata": {},
   "outputs": [
    {
     "data": {
      "text/plain": [
       "'ll'"
      ]
     },
     "execution_count": 48,
     "metadata": {},
     "output_type": "execute_result"
    }
   ],
   "source": [
    "word[2:-2]  # outputs: \"ll\"; equivalent to word[2:len(word) - 2]"
   ]
  },
  {
   "cell_type": "code",
   "execution_count": 49,
   "id": "70ffca22",
   "metadata": {},
   "outputs": [
    {
     "data": {
      "text/plain": [
       "'ll'"
      ]
     },
     "execution_count": 49,
     "metadata": {},
     "output_type": "execute_result"
    }
   ],
   "source": [
    "word[2:len(word) - 2]"
   ]
  },
  {
   "cell_type": "markdown",
   "id": "91d67800",
   "metadata": {},
   "source": [
    "`Task 11`\n",
    "- Using the variable `sentence` from task 9, `sentence = \"I'm a really long sentence\"`, create a new variable `only_really` that contains only the word `really` in the sentence, and print the value of this variable.\n",
    "- Using the variable `sentence` again, create a new variable called `first_letters` that contains the first 4 letters of `sentence`."
   ]
  },
  {
   "cell_type": "code",
   "execution_count": 53,
   "id": "4a883b82",
   "metadata": {},
   "outputs": [
    {
     "data": {
      "text/plain": [
       "'really'"
      ]
     },
     "execution_count": 53,
     "metadata": {},
     "output_type": "execute_result"
    }
   ],
   "source": [
    "#write your solution here for Task 11\n",
    "only_really=sentence[6:12]\n",
    "print(only_really)"
   ]
  },
  {
   "cell_type": "code",
   "execution_count": 56,
   "id": "e9bd3a75",
   "metadata": {},
   "outputs": [
    {
     "data": {
      "text/plain": [
       "\"I'm \""
      ]
     },
     "execution_count": 56,
     "metadata": {},
     "output_type": "execute_result"
    }
   ],
   "source": [
    "first_letters=sentence[0:4]\n",
    "first_letters"
   ]
  },
  {
   "cell_type": "markdown",
   "id": "15cebc21-ca90-4d99-9236-7958f5328c52",
   "metadata": {},
   "source": [
    "### Task 12 - Booleans\n",
    "\n",
    "- Create a variable called `boolean_var` and set it to `False`.\n",
    "- Print the value of the opposite of `boolean_var` (using `not`)."
   ]
  },
  {
   "cell_type": "code",
   "execution_count": 1,
   "id": "6e673c43-88f7-47e7-bcf1-98967ee1563f",
   "metadata": {
    "tags": []
   },
   "outputs": [
    {
     "name": "stdout",
     "output_type": "stream",
     "text": [
      "True\n"
     ]
    }
   ],
   "source": [
    "boolean_var=False\n",
    "print(not boolean_var)"
   ]
  },
  {
   "cell_type": "markdown",
   "id": "d9311143",
   "metadata": {},
   "source": [
    "### Task 12 - Comparisons"
   ]
  },
  {
   "cell_type": "markdown",
   "id": "b4dcdc07",
   "metadata": {},
   "source": [
    "There are many comparison operators in Python. All of these operators return a boolean `True` or `False` value. Here are some of these operators:\n",
    "\n",
    "- `==`: equality operator: compares two values and returns True if they're equivalent or False if they are not\n",
    "- `!=`: inequality operator: opposite of equality, returns True if two values are not equivalent and False if they are\n",
    "- `>`: greater than operator: returns True if the left side is greater than the right side and False if not\n",
    "- `<`: less than operator: returns True if the left side is less than the right side and False if not\n",
    "\n",
    "Note that you can assign a boolean expression to a variable:"
   ]
  },
  {
   "cell_type": "code",
   "execution_count": 83,
   "id": "4561f6ef",
   "metadata": {},
   "outputs": [
    {
     "name": "stdout",
     "output_type": "stream",
     "text": [
      "False\n"
     ]
    }
   ],
   "source": [
    "a = 1 > 2\n",
    "print(a)\n",
    "# outputs: False"
   ]
  },
  {
   "cell_type": "markdown",
   "id": "9680efc0",
   "metadata": {},
   "source": [
    "`Task 16`\n",
    "Assign these examples to variables and print them out:\n",
    "\n",
    "- `1 == 1`\n",
    "- `1 == '1'`\n",
    "- `2 != '2'`\n",
    "- `2 < 4`\n",
    "- `2 > 3`\n",
    "- `1 != True`\n",
    "- `0 != False`\n",
    "\n",
    "Were any of these results surprising?"
   ]
  },
  {
   "cell_type": "code",
   "execution_count": 84,
   "id": "174c8df4",
   "metadata": {},
   "outputs": [
    {
     "data": {
      "text/plain": [
       "True"
      ]
     },
     "execution_count": 84,
     "metadata": {},
     "output_type": "execute_result"
    }
   ],
   "source": [
    "#write your solution here for Task 16\n",
    "1==1"
   ]
  },
  {
   "cell_type": "code",
   "execution_count": 85,
   "id": "d8a96a35",
   "metadata": {},
   "outputs": [
    {
     "data": {
      "text/plain": [
       "False"
      ]
     },
     "execution_count": 85,
     "metadata": {},
     "output_type": "execute_result"
    }
   ],
   "source": [
    "1=='1'"
   ]
  },
  {
   "cell_type": "code",
   "execution_count": 86,
   "id": "79a0ffc0",
   "metadata": {},
   "outputs": [
    {
     "data": {
      "text/plain": [
       "True"
      ]
     },
     "execution_count": 86,
     "metadata": {},
     "output_type": "execute_result"
    }
   ],
   "source": [
    "2!='2'"
   ]
  },
  {
   "cell_type": "code",
   "execution_count": 87,
   "id": "3fe4c02d",
   "metadata": {},
   "outputs": [
    {
     "data": {
      "text/plain": [
       "True"
      ]
     },
     "execution_count": 87,
     "metadata": {},
     "output_type": "execute_result"
    }
   ],
   "source": [
    "2<4"
   ]
  },
  {
   "cell_type": "code",
   "execution_count": 88,
   "id": "63a82906",
   "metadata": {},
   "outputs": [
    {
     "data": {
      "text/plain": [
       "False"
      ]
     },
     "execution_count": 88,
     "metadata": {},
     "output_type": "execute_result"
    }
   ],
   "source": [
    "2>3"
   ]
  },
  {
   "cell_type": "code",
   "execution_count": 89,
   "id": "a4bbbbc8",
   "metadata": {},
   "outputs": [
    {
     "data": {
      "text/plain": [
       "False"
      ]
     },
     "execution_count": 89,
     "metadata": {},
     "output_type": "execute_result"
    }
   ],
   "source": [
    "1!= True"
   ]
  },
  {
   "cell_type": "code",
   "execution_count": 90,
   "id": "8ef4a5c0",
   "metadata": {},
   "outputs": [
    {
     "data": {
      "text/plain": [
       "False"
      ]
     },
     "execution_count": 90,
     "metadata": {},
     "output_type": "execute_result"
    }
   ],
   "source": [
    "0 != False"
   ]
  },
  {
   "cell_type": "code",
   "execution_count": 93,
   "id": "b69ab88c",
   "metadata": {},
   "outputs": [
    {
     "data": {
      "text/plain": [
       "True"
      ]
     },
     "execution_count": 93,
     "metadata": {},
     "output_type": "execute_result"
    }
   ],
   "source": [
    "0 == False"
   ]
  },
  {
   "cell_type": "markdown",
   "id": "61bebd9a",
   "metadata": {},
   "source": [
    "### Task 13 - Conditions"
   ]
  },
  {
   "cell_type": "markdown",
   "id": "bfcf2a97",
   "metadata": {},
   "source": [
    "(Note: `elif` stands for \"else if\", and you can have as many of these as you want in between the beginning `if` and ending `else` statements.)\n",
    "\n",
    "In this example, \"if `CONDITION_A` evaluates to `True`, then execute `STATEMENT_A` only. Otherwise (if `CONDITION_A` evaluates to `False`), then check if `CONDITION_B` evaluates to `True` and if so, execute `STATEMENT_B` only. If both `CONDITION_A` and `CONDITION_B` evaluate to `False`, then execute `STATEMENT_C`. Note that here, we are only ever execute one of the `STATEMENT_`'s, even if multiple conditions evaluate to `True`.\n",
    "\n",
    "`Task 13`\n",
    "\n",
    "- Use the definition: `my_list = [1, 2, 3]`. Create an if statement that checks if the last value of the list is equal to 3 and if so, prints \"the condition was true\".\n",
    "- Building off of the above exercise, make the condition false (so that \"the condition was true\" no longer prints).\n",
    "- Now, add an `else` clause that prints \"the condition was false\".\n",
    "- Now, add an `elif` condition that checks if the length of the list is equal to 3 and if so, prints \"the elif condition is true\"."
   ]
  },
  {
   "cell_type": "code",
   "execution_count": 96,
   "id": "e401abfa",
   "metadata": {},
   "outputs": [
    {
     "name": "stdout",
     "output_type": "stream",
     "text": [
      "the elif condition is true\n"
     ]
    }
   ],
   "source": [
    "#write your solution here for Task 13\n",
    "my_list=[1,2,3]\n",
    "\n",
    "if my_list[-1]==3:\n",
    "    print('the condition was true')\n",
    "elif len(my_list)==3:\n",
    "    print('the elif condition is true')\n",
    "else:\n",
    "    print('the condition was false')"
   ]
  },
  {
   "cell_type": "markdown",
   "id": "c1798cf5-6fcf-4b45-a7a5-f931b5310045",
   "metadata": {},
   "source": [
    "### Task 14\n",
    "- write a python script that checks if the entered value has 2 digits and print true if the condition is true, print false if else is True."
   ]
  },
  {
   "cell_type": "code",
   "execution_count": null,
   "id": "f4056c9a-c10a-4489-a189-8ccb54f600f9",
   "metadata": {},
   "outputs": [],
   "source": [
    "#First solution\n",
    "num=input(\"Enter any number: \")\n",
    "length=len(num) #2,3,4\n",
    "if length!=2:\n",
    "    print(False)\n",
    "else:\n",
    "    print(True)"
   ]
  },
  {
   "cell_type": "code",
   "execution_count": null,
   "id": "4f4bf65b-b102-4a0d-a8c8-59215f87d786",
   "metadata": {},
   "outputs": [],
   "source": [
    "#abs() function returns the absolute value of the specified number\n",
    "x=-24.5\n",
    "abs(x)"
   ]
  },
  {
   "cell_type": "code",
   "execution_count": null,
   "id": "44d0ddf7-d135-459d-a4b8-50c018428727",
   "metadata": {},
   "outputs": [],
   "source": [
    "#Second Solution\n",
    "num=int(input(\"Enter any number: \")) 25, 26, 27,\n",
    "if len(str(abs(num)))!=2:\n",
    "    print(False)\n",
    "else:\n",
    "    print(True)"
   ]
  },
  {
   "cell_type": "markdown",
   "id": "e9822daf-fe76-4c95-b2b9-3c2c1e8b66f4",
   "metadata": {},
   "source": [
    "### Task 15\n",
    "- write a python script that checks if the person is eligible for voting or not. Consider voting age is greater or equal to 18"
   ]
  },
  {
   "cell_type": "code",
   "execution_count": null,
   "id": "86f7b846-0e5d-475c-8d1b-a346d406323d",
   "metadata": {},
   "outputs": [],
   "source": [
    "age=int(input(\"how old are you? \"))\n",
    "if age>=18:\n",
    "    print(\"Eligible for voting\")\n",
    "else:\n",
    "    print(\"Not eligble for voting\")"
   ]
  },
  {
   "cell_type": "markdown",
   "id": "697aeb7e-ec8a-454e-9631-f8c0521ec696",
   "metadata": {},
   "source": [
    "### Task 16\n",
    "- write a python script that prints the lower number of the user entered"
   ]
  },
  {
   "cell_type": "code",
   "execution_count": null,
   "id": "d7b84f92-187c-4753-8bc4-b250cd2fb8fa",
   "metadata": {},
   "outputs": [],
   "source": [
    "num1= int(input(\"Enter the first number:\"))\n",
    "num2= int(input(\"Enter the seconf number:\"))\n",
    "if num1>num2:\n",
    "    print(\"Smaller number is:\", num2)   #or use f-string: print(f\"Smaller number is: {num2}\")\n",
    "else:\n",
    "    print(\"Smaller number is:\", num1)"
   ]
  },
  {
   "cell_type": "markdown",
   "id": "ff9a6e1b-47ab-472f-84dd-3e67f4dd1077",
   "metadata": {},
   "source": [
    "### Task 17\n",
    "- write a python script that checks if the entered number is positive or negative"
   ]
  },
  {
   "cell_type": "code",
   "execution_count": null,
   "id": "b4d8e3d7-fc81-4551-9039-d3f0193c5e18",
   "metadata": {},
   "outputs": [],
   "source": [
    "num= int(input(\"Enter any number:\"))\n",
    "if num>0:\n",
    "    print(f\"{num} is positive\")\n",
    "else:\n",
    "    print(f\"{num} is negative\")   "
   ]
  },
  {
   "cell_type": "markdown",
   "id": "f29146a3-261c-431d-9530-76499784b8b7",
   "metadata": {},
   "source": [
    "### Task 18\n",
    "- write a python script that checks if the entered number is divisible by 2 and 3"
   ]
  },
  {
   "cell_type": "code",
   "execution_count": null,
   "id": "7a6491ec-f1ec-4748-b8c0-32df5d48dcd8",
   "metadata": {},
   "outputs": [],
   "source": [
    "num= int(input(\"Enter any number:\"))\n",
    "if num%2==0 and num%3==0:\n",
    "    print(f\"{num} is divisible by 2 and 3\")\n",
    "else:\n",
    "    print(f\"{num} is not divisible by both\")  "
   ]
  },
  {
   "cell_type": "markdown",
   "id": "ae4a7c93-7f52-4c72-aa30-a53d87dc29ab",
   "metadata": {},
   "source": [
    "### Task 19\n",
    "\n",
    "- Fix the Exercise 3 from last lesson so that it works correctly if the hour input is 1. For example, if the hour is bigger than 22 or smaller than 7, the program should consider it to be late and so young users should sleep and older users still can watch a movie. \n",
    "\n",
    "```python\n",
    "age = int(input('Enter your age:\\n'))\n",
    "\n",
    "hour = int(input('What is the hour? (0-24)\\n'))\n",
    "\n",
    "is_late = hour >= 22\n",
    "\n",
    "is_too_young = age <= 12\n",
    "\n",
    "if is_late:\n",
    "    if is_too_young:\n",
    "        print('You should be sleeping ...')\n",
    "    else:\n",
    "        print('Want to watch a movie?')\n",
    "else:\n",
    "    print('Go for a walk!')\n",
    "```"
   ]
  },
  {
   "cell_type": "code",
   "execution_count": null,
   "id": "147471b4-15b0-4f24-88d9-7c2269b868af",
   "metadata": {},
   "outputs": [],
   "source": []
  },
  {
   "cell_type": "markdown",
   "id": "e6db7235-28fe-47f1-912f-588c46c83cea",
   "metadata": {},
   "source": [
    "### Task 20\n",
    "- Reimplement the Exercise 3 from last lesson so that it doesn’t contain nested conditions, e.g. there is no if conditional inside another if conditional. It’s possible to do using if-elif-else construction and logical operators: or, and, not\n",
    "\n",
    "```python\n",
    "age = int(input('Enter your age:\\n'))\n",
    "\n",
    "hour = int(input('What is the hour? (0-24)\\n'))\n",
    "\n",
    "is_late = hour >= 22\n",
    "\n",
    "is_too_young = age <= 12\n",
    "\n",
    "if is_late:\n",
    "    if is_too_young:\n",
    "        print('You should be sleeping ...')\n",
    "    else:\n",
    "        print('Want to watch a movie?')\n",
    "else:\n",
    "    print('Go for a walk!')\n",
    "```"
   ]
  },
  {
   "cell_type": "code",
   "execution_count": null,
   "id": "30bde352-4feb-4ae0-b360-6c363f0f54df",
   "metadata": {},
   "outputs": [],
   "source": []
  },
  {
   "cell_type": "markdown",
   "id": "ecdb394d-563c-458a-baf5-a1853e4eff3c",
   "metadata": {},
   "source": [
    "### Bonus\n",
    "- write a python script that checks if the entered number is divisible by 2 and 3\n",
    "- use nested if conditions to check 4 conditions below\n",
    "   * Number is divisible by 2 and 3\n",
    "   * Number is divisible by 2 but not by 3\n",
    "   * Number is divisible by 3 but not by 2\n",
    "   * Number is not divisible by both\n",
    "- Test your script by giving 5,6,8,9 numbers"
   ]
  },
  {
   "cell_type": "code",
   "execution_count": null,
   "id": "fbf41741-00dd-4346-8b09-ebabc49e68f5",
   "metadata": {
    "tags": []
   },
   "outputs": [],
   "source": [
    "#Challenge\n",
    "num= int(input(\"Enter any number:\"))\n",
    "if num%2==0:\n",
    "    if num%3==0:\n",
    "        print(f\"{num} is divisible by 2 and 3\")\n",
    "    else:\n",
    "        print(f\"{num} is divisible by 2 but not by 3\")     \n",
    "else:\n",
    "    if num%3==0:\n",
    "        print(f\"{num} is divisible by 3 but not by 2\")\n",
    "    else:\n",
    "        print(f\"{num} is not divisible by both\")  "
   ]
  },
  {
   "cell_type": "code",
   "execution_count": null,
   "id": "361e4275-5cd0-46cb-a17f-bc7c9331202d",
   "metadata": {},
   "outputs": [],
   "source": []
  }
 ],
 "metadata": {
  "kernelspec": {
   "display_name": "Python 3 (ipykernel)",
   "language": "python",
   "name": "python3"
  },
  "language_info": {
   "codemirror_mode": {
    "name": "ipython",
    "version": 3
   },
   "file_extension": ".py",
   "mimetype": "text/x-python",
   "name": "python",
   "nbconvert_exporter": "python",
   "pygments_lexer": "ipython3",
   "version": "3.11.3"
  }
 },
 "nbformat": 4,
 "nbformat_minor": 5
}
