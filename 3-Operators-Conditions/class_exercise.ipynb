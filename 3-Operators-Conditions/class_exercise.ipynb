{
 "cells": [
  {
   "cell_type": "code",
   "execution_count": 2,
   "id": "49b79ad1-70f2-4a55-a790-763a5def24db",
   "metadata": {
    "tags": []
   },
   "outputs": [
    {
     "name": "stdout",
     "output_type": "stream",
     "text": [
      "hello\n"
     ]
    }
   ],
   "source": [
    "a=\"hello\"\n",
    "print(a)"
   ]
  },
  {
   "cell_type": "code",
   "execution_count": 3,
   "id": "c129e1e1-e6a1-4a1d-809a-6f61d37851dc",
   "metadata": {
    "tags": []
   },
   "outputs": [
    {
     "data": {
      "text/plain": [
       "str"
      ]
     },
     "execution_count": 3,
     "metadata": {},
     "output_type": "execute_result"
    }
   ],
   "source": [
    "type(a)"
   ]
  },
  {
   "cell_type": "code",
   "execution_count": 4,
   "id": "ce25ee90-640d-426c-b4a7-4b71365f0f9d",
   "metadata": {
    "tags": []
   },
   "outputs": [],
   "source": [
    "a=\"hello, how are you today?\""
   ]
  },
  {
   "cell_type": "code",
   "execution_count": 5,
   "id": "0ecf8d38-4ec5-48cc-81c7-ec53b3b51637",
   "metadata": {
    "tags": []
   },
   "outputs": [
    {
     "data": {
      "text/plain": [
       "25"
      ]
     },
     "execution_count": 5,
     "metadata": {},
     "output_type": "execute_result"
    }
   ],
   "source": [
    "len(a)"
   ]
  },
  {
   "cell_type": "code",
   "execution_count": 6,
   "id": "10c7da52-79d4-431d-8211-c0dcc03c8b51",
   "metadata": {
    "tags": []
   },
   "outputs": [
    {
     "data": {
      "text/plain": [
       "','"
      ]
     },
     "execution_count": 6,
     "metadata": {},
     "output_type": "execute_result"
    }
   ],
   "source": [
    "a[5]"
   ]
  },
  {
   "cell_type": "code",
   "execution_count": 7,
   "id": "d922ba49-76b3-4174-9475-5cfbd6510221",
   "metadata": {
    "tags": []
   },
   "outputs": [
    {
     "name": "stdout",
     "output_type": "stream",
     "text": [
      "Enter your age\n"
     ]
    },
    {
     "name": "stdin",
     "output_type": "stream",
     "text": [
      " 7\n"
     ]
    },
    {
     "name": "stdout",
     "output_type": "stream",
     "text": [
      "<class 'int'>\n"
     ]
    }
   ],
   "source": [
    "print('Enter your age')\n",
    "age=input() #string\n",
    "age=int(age) #int\n",
    "print(type(age))"
   ]
  },
  {
   "cell_type": "code",
   "execution_count": null,
   "id": "78e65702-9ae2-4f70-a43f-ae362b17c307",
   "metadata": {
    "tags": []
   },
   "outputs": [],
   "source": [
    "print('Enter your age')\n",
    "age=int(str(int(input()))) #int\n",
    "print(type(age))"
   ]
  },
  {
   "cell_type": "code",
   "execution_count": null,
   "id": "23790140-7ae9-44da-af04-422028af0136",
   "metadata": {},
   "outputs": [],
   "source": [
    "print('Enter your name')\n",
    "name = input()\n",
    "print('Hello, ')\n",
    "print(name)"
   ]
  },
  {
   "cell_type": "code",
   "execution_count": null,
   "id": "dc1e53bc-c15e-41a1-b522-e228965ef6ef",
   "metadata": {
    "tags": []
   },
   "outputs": [],
   "source": [
    "print(a)"
   ]
  },
  {
   "cell_type": "code",
   "execution_count": null,
   "id": "74ff9bf5-043d-41ca-8f3b-5777ee8aec45",
   "metadata": {
    "tags": []
   },
   "outputs": [],
   "source": [
    "type(a)"
   ]
  },
  {
   "cell_type": "code",
   "execution_count": null,
   "id": "7bf2cfd9-4fa8-4d45-a76c-042c29fe1d10",
   "metadata": {
    "tags": []
   },
   "outputs": [],
   "source": [
    "b=25\n",
    "type(b)\n",
    "print(b)"
   ]
  },
  {
   "cell_type": "code",
   "execution_count": null,
   "id": "aabd4778-5fce-4317-afa4-fa75d04c699e",
   "metadata": {
    "tags": []
   },
   "outputs": [],
   "source": [
    "b=str(b)\n",
    "print(type(b))\n",
    "print(b)"
   ]
  },
  {
   "cell_type": "code",
   "execution_count": null,
   "id": "f0cd2d14-d445-4f82-b767-6a05ea9f135e",
   "metadata": {
    "tags": []
   },
   "outputs": [],
   "source": [
    "print(f\"Data type of b is {type(b)}\")"
   ]
  },
  {
   "cell_type": "code",
   "execution_count": null,
   "id": "5fc267ea-ef80-484c-90bf-f3cc8395ec45",
   "metadata": {
    "tags": []
   },
   "outputs": [],
   "source": [
    "print(\"Data type of b is\",type(b))"
   ]
  },
  {
   "cell_type": "code",
   "execution_count": null,
   "id": "e487d4f8-6279-4a53-92a6-24df81013564",
   "metadata": {
    "tags": []
   },
   "outputs": [],
   "source": [
    "print(\"Data type of b {} and data type of a {}\".format(type(b), type(a)))"
   ]
  },
  {
   "cell_type": "code",
   "execution_count": null,
   "id": "75210905-ed21-4884-b0f7-34b8a4025158",
   "metadata": {
    "tags": []
   },
   "outputs": [],
   "source": [
    "c=\"25\"\n",
    "type(c)"
   ]
  },
  {
   "cell_type": "code",
   "execution_count": null,
   "id": "d5f6ca41-2af2-4574-a8e7-122841d0c50d",
   "metadata": {
    "tags": []
   },
   "outputs": [],
   "source": [
    "c_new=int(c)\n",
    "type(c_new)"
   ]
  },
  {
   "cell_type": "code",
   "execution_count": null,
   "id": "2c7f2316-b792-462b-923a-9836c87b8806",
   "metadata": {
    "tags": []
   },
   "outputs": [],
   "source": [
    "d=34.45\n",
    "type(d)"
   ]
  },
  {
   "cell_type": "code",
   "execution_count": null,
   "id": "534b838b-e828-433d-bd5a-c15db2de6999",
   "metadata": {
    "tags": []
   },
   "outputs": [],
   "source": [
    "d=\"milena\""
   ]
  },
  {
   "cell_type": "code",
   "execution_count": null,
   "id": "20e58b51-d248-4f81-b913-961bc81c28d8",
   "metadata": {
    "tags": []
   },
   "outputs": [],
   "source": [
    "d_new=int(d)\n",
    "type(d_new)\n",
    "print(d_new)"
   ]
  },
  {
   "cell_type": "code",
   "execution_count": null,
   "id": "92846caf-164b-4714-98cb-39c9f76699f1",
   "metadata": {
    "tags": []
   },
   "outputs": [],
   "source": [
    "e=True\n",
    "type(e)"
   ]
  },
  {
   "cell_type": "code",
   "execution_count": null,
   "id": "c7473506-add4-4484-afdc-393e4728aaae",
   "metadata": {},
   "outputs": [],
   "source": [
    "len(a)"
   ]
  },
  {
   "cell_type": "code",
   "execution_count": null,
   "id": "a1ec304c-c3df-4ae9-9f14-caab3af4033c",
   "metadata": {},
   "outputs": [],
   "source": [
    "a[5]"
   ]
  },
  {
   "cell_type": "code",
   "execution_count": null,
   "id": "3cc56266-cfef-4572-91d7-fd63eba8f6a9",
   "metadata": {},
   "outputs": [],
   "source": [
    "print(\"hello, how are you today?\")"
   ]
  },
  {
   "cell_type": "code",
   "execution_count": null,
   "id": "c69b25aa-f35d-4ade-9d1e-a83711657c8d",
   "metadata": {},
   "outputs": [],
   "source": [
    "variable1= 25\n",
    "variable2= \"Beth\"\n",
    "variable3= True"
   ]
  },
  {
   "cell_type": "code",
   "execution_count": null,
   "id": "a2478780-ca8a-41ca-9f01-49f10b80beac",
   "metadata": {},
   "outputs": [],
   "source": [
    "variable4= \"25\""
   ]
  },
  {
   "cell_type": "code",
   "execution_count": null,
   "id": "5003cb14-011d-48a1-8c20-1b1170a64942",
   "metadata": {},
   "outputs": [],
   "source": [
    "print(variable2)"
   ]
  },
  {
   "cell_type": "code",
   "execution_count": null,
   "id": "35ff7674-bf3f-48aa-b21f-28f8d2f7e920",
   "metadata": {},
   "outputs": [],
   "source": [
    "type(variable3)"
   ]
  },
  {
   "cell_type": "code",
   "execution_count": 1,
   "id": "7aaff130-4a2b-44dc-bbce-8f5264ef3bab",
   "metadata": {},
   "outputs": [
    {
     "data": {
      "text/plain": [
       "float"
      ]
     },
     "execution_count": 1,
     "metadata": {},
     "output_type": "execute_result"
    }
   ],
   "source": [
    "variable5= 3.4\n",
    "type(variable5)"
   ]
  },
  {
   "cell_type": "code",
   "execution_count": null,
   "id": "ef324cbd-bee8-42ac-b217-81fa4e1c6aaa",
   "metadata": {},
   "outputs": [],
   "source": []
  }
 ],
 "metadata": {
  "kernelspec": {
   "display_name": "Python 3 (ipykernel)",
   "language": "python",
   "name": "python3"
  },
  "language_info": {
   "codemirror_mode": {
    "name": "ipython",
    "version": 3
   },
   "file_extension": ".py",
   "mimetype": "text/x-python",
   "name": "python",
   "nbconvert_exporter": "python",
   "pygments_lexer": "ipython3",
   "version": "3.11.3"
  }
 },
 "nbformat": 4,
 "nbformat_minor": 5
}
