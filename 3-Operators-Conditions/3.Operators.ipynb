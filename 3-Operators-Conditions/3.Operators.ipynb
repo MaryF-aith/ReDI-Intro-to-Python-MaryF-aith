{
 "cells": [
  {
   "cell_type": "markdown",
   "id": "jGwVgA_7fec6",
   "metadata": {
    "id": "jGwVgA_7fec6"
   },
   "source": [
    "# 3. Python Concepts - Sharing & Synthesizing\n",
    "We will go over many of these concepts in more detail in the coming weeks, so no problem if it takes a little time for them to make sense!\n",
    "\n",
    "One note about the code snippets below: in Python, we can write comments by using the # symbol; anything after this symbol is not interpreted as code or executed. This can be a really convenient way to write notes to yourselves (or future developers!) when trying to understand code you wrote.\n",
    "\n",
    "What observations did you have from the exercise?"
   ]
  },
  {
   "cell_type": "markdown",
   "id": "Rn28kQ0Rf-jG",
   "metadata": {
    "id": "Rn28kQ0Rf-jG"
   },
   "source": [
    "## Data Types\n",
    "What is a data type?\n",
    "\n",
    "What are examples of different data types that you saw?"
   ]
  },
  {
   "cell_type": "code",
   "execution_count": 18,
   "id": "TrXUJ0DngIDD",
   "metadata": {
    "colab": {
     "base_uri": "https://localhost:8080/"
    },
    "id": "TrXUJ0DngIDD",
    "outputId": "ba5dbcc0-7d87-4bf3-acf3-06b16df1ea0a"
   },
   "outputs": [
    {
     "name": "stdout",
     "output_type": "stream",
     "text": [
      "Python 3.9.12\n",
      "supported types: \n",
      "str\n",
      "int\n",
      "float\n",
      "complex\n",
      "list\n",
      "tuple\n",
      "range\n",
      "dict\n",
      "set\n",
      "frozenset\n",
      "bool\n",
      "bytes\n",
      "bytearray\n",
      "memoryview\n",
      "NoneType\n",
      "\n",
      "5\n"
     ]
    }
   ],
   "source": [
    "# strings (ex: 'asdf', 'hello my name is x', 'a', '123')\n",
    "language = \"Python\"\n",
    "\n",
    "# integers (ex: 1, -100, 1383234)\n",
    "major_version = 3\n",
    "\n",
    "# floats (floating point values) (ex: 1.0, -100.1234, 0.0000003, 1e5)\n",
    "minor_version = 9.12\n",
    "\n",
    "# booleans (ex: True, False)\n",
    "showTypes = True\n",
    "\n",
    "# lists (ex: [3, 1, 'r', 'e'], [], [3.2, 3, 4.5])\n",
    "types = [\"str\", \"int\", \"float\", \"complex\", \"list\", \"tuple\", \"range\", \"dict\", \"set\", \"frozenset\", \"bool\", \"bytes\", \"bytearray\", \"memoryview\", \"NoneType\"]\n",
    "\n",
    "# functions (ex: def my_function (a, b): ...)\n",
    "def add(a, b): return a+b\n",
    "\n",
    "\n",
    "# now we print all the variables from above\n",
    "print(\"{} {}.{}\".format(language, major_version, minor_version))\n",
    "if showTypes:\n",
    "  print(\"python types: \")\n",
    "  for t in types:\n",
    "    print(t)\n",
    "print()\n",
    "print(add(2,3))"
   ]
  },
  {
   "cell_type": "markdown",
   "id": "wrONmp_mki0F",
   "metadata": {
    "id": "wrONmp_mki0F"
   },
   "source": [
    "# Variables\n",
    "- What is a variable? What's an example?\n",
    "\n",
    "  Some word (starting with a letter, and can contain letters, numbers, and underscore _) that represents some value. We set the value of a variable with =, for example: test_var = 10 sets the variable test_var to be equal to the value of 10. Setting the value of a variable is often called assigning a variable.\n",
    "\n",
    "- “A bucket” where you can store some value for later use in your program\n",
    "\n",
    "- Has unique name\n",
    "  - Can contain letters, numbers or underscores, but can’t start from number\n",
    "  - Case-sensitive\n",
    "  - Can’t be the same as Python language keywords\n",
    "\n",
    "- Has type\n",
    "  - int, float, bool, string and some more will come later\n",
    "\n",
    "- Has value\n",
    "  - Python “guesses“ the type of the variable by the first value assigned to it\n",
    "- Valid variable names: name, last_name, _first_name, name1\n",
    "- Invalid variable names: 4name, -name, last_$name, 100"
   ]
  },
  {
   "cell_type": "code",
   "execution_count": 21,
   "id": "IlPbxT0PlSsY",
   "metadata": {
    "colab": {
     "base_uri": "https://localhost:8080/"
    },
    "id": "IlPbxT0PlSsY",
    "outputId": "8aef4286-4624-477a-a672-020e656f076b"
   },
   "outputs": [
    {
     "name": "stdout",
     "output_type": "stream",
     "text": [
      "3 <class 'int'>\n",
      "-5 <class 'int'>\n"
     ]
    }
   ],
   "source": [
    "num = 3\n",
    "print(num, type(num))\n",
    "# outputs: ->\n",
    "Num = -5\n",
    "print(Num, type(Num))"
   ]
  },
  {
   "cell_type": "code",
   "execution_count": 22,
   "id": "mUKgG2dkl6Gq",
   "metadata": {
    "colab": {
     "base_uri": "https://localhost:8080/"
    },
    "id": "mUKgG2dkl6Gq",
    "outputId": "0a82f18f-2da3-41e8-c814-5bf6c06fa55a"
   },
   "outputs": [
    {
     "name": "stdout",
     "output_type": "stream",
     "text": [
      "3.14 <class 'float'>\n",
      "3e-10 <class 'float'>\n"
     ]
    }
   ],
   "source": [
    "pi = 3.14\n",
    "print(pi, type(pi))\n",
    "# outputs: ->\n",
    "smallNumber = 3E-10\n",
    "print(smallNumber, type(smallNumber))"
   ]
  },
  {
   "cell_type": "code",
   "execution_count": 31,
   "id": "K4M9U030l9Ab",
   "metadata": {
    "colab": {
     "base_uri": "https://localhost:8080/"
    },
    "id": "K4M9U030l9Ab",
    "outputId": "c63ebed8-2f33-49cc-9fc5-b120dfb684b1"
   },
   "outputs": [
    {
     "name": "stdout",
     "output_type": "stream",
     "text": [
      "True <class 'bool'>\n",
      "False <class 'bool'>\n"
     ]
    },
    {
     "data": {
      "text/plain": [
       "11"
      ]
     },
     "execution_count": 31,
     "metadata": {},
     "output_type": "execute_result"
    }
   ],
   "source": [
    "b1 = True\n",
    "print(b1, type(b1))\n",
    "# outputs: ->\n",
    "b1 = False\n",
    "print(b1, type(b1))"
   ]
  },
  {
   "cell_type": "code",
   "execution_count": 24,
   "id": "FLH0d4xFmBcc",
   "metadata": {
    "colab": {
     "base_uri": "https://localhost:8080/"
    },
    "id": "FLH0d4xFmBcc",
    "outputId": "56871f68-e7be-4717-b26d-03237b089054"
   },
   "outputs": [
    {
     "name": "stdout",
     "output_type": "stream",
     "text": [
      "abcdefghijk <class 'str'>\n",
      "abcdefghijk <class 'str'>\n"
     ]
    }
   ],
   "source": [
    "letters = \"abcdefghijk\"\n",
    "newString = letters\n",
    "print(letters, type(letters))\n",
    "# outputs: ->\n",
    "print(newString, type(newString))"
   ]
  },
  {
   "cell_type": "markdown",
   "id": "7c47ca93",
   "metadata": {},
   "source": [
    "### Change DataTypes\n",
    "input function\n",
    "a=\"6\"\n",
    "b=5\n",
    "c=str(b)+a\n",
    "c"
   ]
  },
  {
   "cell_type": "markdown",
   "id": "dllKApR8nvrS",
   "metadata": {
    "id": "dllKApR8nvrS"
   },
   "source": [
    "### Iterables (lists, strings, ...)\n",
    "\n",
    "- What does the `len` keyword do? i.e. `len('asdf')` or `len([1,2,3,4])`\n",
    "\n",
    "  `len` gets the length of any \"iterable\" -- any \"thing\" that is made up of other things that you can \"iterate\" or count through: list, string, tuple, dictionary, set...\n",
    "\n",
    "- What does the `[#]` syntax do?\n",
    "\n",
    "  This _indexes_ into an iterable and gets you the `#` value of it. Note that the \"first\" index is \"0\", because we 0-index in Python. For example:\n"
   ]
  },
  {
   "cell_type": "code",
   "execution_count": 30,
   "id": "VMZSaMT2orEj",
   "metadata": {
    "colab": {
     "base_uri": "https://localhost:8080/"
    },
    "id": "VMZSaMT2orEj",
    "outputId": "f838a259-ae0f-4403-8e7a-b6695ba41f2a"
   },
   "outputs": [
    {
     "data": {
      "text/plain": [
       "77"
      ]
     },
     "execution_count": 30,
     "metadata": {},
     "output_type": "execute_result"
    }
   ],
   "source": [
    "text = \"This is a rather long sentence, but how many characters and blanks are in it?\"\n",
    "len(text)"
   ]
  },
  {
   "cell_type": "code",
   "execution_count": 28,
   "id": "m08jiOPToG_t",
   "metadata": {
    "colab": {
     "base_uri": "https://localhost:8080/",
     "height": 36
    },
    "id": "m08jiOPToG_t",
    "outputId": "96a05af6-aa15-46ef-e817-00c55ba3d62e"
   },
   "outputs": [
    {
     "data": {
      "application/vnd.google.colaboratory.intrinsic+json": {
       "type": "string"
      },
      "text/plain": [
       "'a'"
      ]
     },
     "execution_count": 28,
     "metadata": {},
     "output_type": "execute_result"
    }
   ],
   "source": [
    "a = 'asdf'\n",
    "b = [1,2,3,4]\n",
    "a[0]"
   ]
  },
  {
   "cell_type": "code",
   "execution_count": 29,
   "id": "tAVwDjlwoZrI",
   "metadata": {
    "colab": {
     "base_uri": "https://localhost:8080/"
    },
    "id": "tAVwDjlwoZrI",
    "outputId": "104f7fc9-3040-42e8-99f9-4459946095e0"
   },
   "outputs": [
    {
     "data": {
      "text/plain": [
       "4"
      ]
     },
     "execution_count": 29,
     "metadata": {},
     "output_type": "execute_result"
    }
   ],
   "source": [
    "b[3]"
   ]
  },
  {
   "cell_type": "markdown",
   "id": "kmpX_a0GpocI",
   "metadata": {
    "id": "kmpX_a0GpocI"
   },
   "source": [
    "## 2. Operators\n",
    "\n",
    "Go through [this Exercise](https://hourofcode.com/toxicodepython) at your own pace in your groups. Make sure you are all doing this together and asking questions.\n",
    "\n",
    "There is no rush -- **it is completely fine not to finish the whole exercise**!!\n",
    "\n",
    "The purpose here is to start getting familiar with Python syntax through trial-and-error (so getting things wrong is **completely expected** and **part of this process**!). After this section, we will go through the activity as a group and discuss our observations of rules and concepts from Python that we took from the exercise.\n",
    "\n",
    "When you get an answer wrong, make sure you look at the correct answer below and try to understand what the expression means from the correct answer.\n",
    "\n",
    "Refresher of some math operators that you will see:\n",
    "\n",
    "- `+`: addition\n",
    "- `-`: subtraction\n",
    "- `*`: multiplication\n",
    "- `a < b`: less than --> \"a is less than b\"\n",
    "- `a > b`: greater than --> \"a is greater than b\""
   ]
  },
  {
   "cell_type": "code",
   "execution_count": 32,
   "id": "0LBhHw4YvcCY",
   "metadata": {
    "colab": {
     "base_uri": "https://localhost:8080/"
    },
    "id": "0LBhHw4YvcCY",
    "outputId": "cd3772f6-e848-4392-c46b-f50fe236ab71"
   },
   "outputs": [
    {
     "name": "stdout",
     "output_type": "stream",
     "text": [
      "Line 1 - Value of c is  31\n",
      "Line 2 - Value of c is  11\n",
      "Line 3 - Value of c is  210\n",
      "Line 4 - Value of c is  2.1\n",
      "Line 5 - Value of c is  1\n",
      "Line 6 - Value of c is  8\n",
      "Line 7 - Value of c is  2\n"
     ]
    }
   ],
   "source": [
    "#Numbers Operators\n",
    "a = 21\n",
    "b = 10\n",
    "c = 0\n",
    "c = a + b\n",
    "print (\"Line 1 - Value of c is \", c)\n",
    "c = a - b\n",
    "print (\"Line 2 - Value of c is \", c )\n",
    "c = a * b\n",
    "print (\"Line 3 - Value of c is \", c)\n",
    "c = a / b\n",
    "print (\"Line 4 - Value of c is \", c )\n",
    "c = a % b\n",
    "print (\"Line 5 - Value of c is \", c)\n",
    "a = 2\n",
    "b = 3\n",
    "c = a**b\n",
    "print (\"Line 6 - Value of c is \", c)\n",
    "a = 10\n",
    "b = 5\n",
    "c = a//b\n",
    "print (\"Line 7 - Value of c is \", c)"
   ]
  },
  {
   "cell_type": "code",
   "execution_count": 33,
   "id": "oLOwELksvlGb",
   "metadata": {
    "colab": {
     "base_uri": "https://localhost:8080/"
    },
    "id": "oLOwELksvlGb",
    "outputId": "29463cea-0c66-4de8-8f09-390c875c6d0a"
   },
   "outputs": [
    {
     "name": "stdout",
     "output_type": "stream",
     "text": [
      "helloclass\n",
      "hellohellohellohellohello\n",
      "classclassclassclassclassclassclassclassclassclass\n"
     ]
    }
   ],
   "source": [
    "#String Operators\n",
    "a = 'hello'\n",
    "b = 'class'\n",
    "c = ''\n",
    "c = a + b\n",
    "print(c)\n",
    "c = a * 5\n",
    "print(c)\n",
    "c = 10 * b\n",
    "print(c)"
   ]
  },
  {
   "cell_type": "markdown",
   "id": "c733cef9",
   "metadata": {},
   "source": [
    "### 3. Boolean\n",
    "\n",
    "\n",
    "  Booleans may only be one of two values: `True` or `False`. These are like on-off switches, where True is on and False is off. These states are mutually exclusive -- a condition can only be either `True` or `False` but not both. You can use the `not` keyword to \"flip the switch\" of the boolean value.\n",
    "\n",
    "\n",
    "  ```python\n",
    "  #Boolean\n",
    "  x = True\n",
    "  type(x)\n",
    "  ```\n",
    "  ```py\n",
    "  val1 = True\n",
    "  val2 = not True\n",
    "  print(val2)\n",
    "  # outputs: False\n",
    "  ```\n",
    "\n",
    "  - What does the `==` symbol mean? What about `!=`?\n",
    "\n",
    "  `==` is \"equals\", `!=` is \"does not equal\".\n",
    "\n",
    "  - `==`: equality operator: compares two values and returns True if they're equivalent or False if they are not\n",
    "  - `!=`: inequality operator: opposite of equality, returns True if two values are not equivalent and False if they are\n",
    "\n",
    "  - What is the difference between `=` and `==`?\n",
    "\n",
    "  `=` is for assigning some value to a variable, while `==` is for testing for equality between the two sides.\n",
    "\n",
    "  - `>`: greater than operator: returns True if the left side is greater than the right side and False if not\n",
    "  - `<`: less than operator: returns True if the left side is less than the right side and False if not\n"
   ]
  },
  {
   "cell_type": "markdown",
   "id": "39608a34",
   "metadata": {},
   "source": [
    "### 4. Conditions\n",
    "\n",
    "\n",
    "- What does the `if` keyword do?\n",
    "\n",
    "  This is a conditional statement: `if CONDITION:` means: \"if `CONDITION` evaluates to `True`, then execute the code that follows directly after the statement\"\n",
    "\n",
    "- How about an `if ... else` statement?\n",
    "\n",
    "  ```python\n",
    "  if CONDITION_A:\n",
    "      STATEMENT_A\n",
    "  else:\n",
    "      STATEMENT_B\n",
    "  ```\n",
    "\n",
    "  In this example, \"if `CONDITION_A` evaluates to `True`, then execute `STATEMENT_A`. Otherwise (if `CONDITION_A` evaluates to `False`), then execute `STATEMENT_B`. -->\n",
    "\n",
    "- How about `if ... elif ... else`?\n",
    "\n",
    "  ```python\n",
    "  if CONDITION_A:\n",
    "      STATEMENT_A\n",
    "  elif CONDITION_B:\n",
    "      STATEMENT_B\n",
    "  else:\n",
    "      STATEMENT_C\n",
    "  ```\n",
    "\n",
    "  In this example, \"if `CONDITION_A` evaluates to `True`, then execute `STATEMENT_A` only. Otherwise (if `CONDITION_A` evaluates to `False`), then check if `CONDITION_B` evaluates to `True` and if so, execute `STATEMENT_B` only. If both `CONDITION_A` and `CONDITION_B` evaluate to `False`, then execute `STATEMENT_C`. Note that here, we are only ever execute one of the `STATEMENT_`'s, even if multiple conditions evaluate to `True`."
   ]
  },
  {
   "cell_type": "markdown",
   "id": "3770b5bb",
   "metadata": {},
   "source": [
    "### Exercise 1\n",
    "\n",
    "→ If-else statements are used to control the flow of your code.\n",
    "```python\n",
    "if condition:\n",
    "  # do something\n",
    "elif condition:\n",
    "  # do something\n",
    "else:\n",
    "  # do something\n",
    "```\n",
    "\n",
    "\n",
    "```python\n",
    "a = 100\n",
    "b = 33\n",
    "print('a is {0}'.format(a))\n",
    "print('b is {0}'.format(b))\n",
    "\n",
    "if b > a:\n",
    "    print(\"b is greater than a\")\n",
    "\n",
    "else:\n",
    "    print(\"b is not greater than a\")\n",
    "```\n",
    "\n",
    "```python\n",
    "a = 33\n",
    "b = 33\n",
    "print('a is {0}'.format(a))\n",
    "print('b is {0}'.format(b))\n",
    "\n",
    "if b > a:\n",
    "    print(\"b is greater than a\")\n",
    "elif b < a:\n",
    "    print(\"b is not greater than a\")\n",
    "else:\n",
    "    print(\"b is equal to a\")\n",
    "```"
   ]
  },
  {
   "cell_type": "code",
   "execution_count": 1,
   "id": "35147c11-670c-430b-80f9-eac588d29b33",
   "metadata": {
    "tags": []
   },
   "outputs": [
    {
     "name": "stdout",
     "output_type": "stream",
     "text": [
      "a is 100\n",
      "b is 33\n"
     ]
    }
   ],
   "source": [
    "a = 100\n",
    "b = 33\n",
    "print('a is {}'.format(a))\n",
    "print('b is {}'.format(b))"
   ]
  },
  {
   "cell_type": "code",
   "execution_count": 2,
   "id": "4cf73e8a-e414-46c7-926f-94ea99d8354e",
   "metadata": {
    "tags": []
   },
   "outputs": [
    {
     "name": "stdout",
     "output_type": "stream",
     "text": [
      "b 33 is not greater than a 100\n"
     ]
    }
   ],
   "source": [
    "if b > a: #False\n",
    "    print(f\"b {b} is greater than a {a}\") #Skip\n",
    "else:\n",
    "    print(f\"b {b} is not greater than a {a}\") #Execute"
   ]
  },
  {
   "cell_type": "code",
   "execution_count": 4,
   "id": "0ca76592-d0fd-4923-b34c-1f51772def4c",
   "metadata": {
    "tags": []
   },
   "outputs": [],
   "source": [
    "a=33"
   ]
  },
  {
   "cell_type": "code",
   "execution_count": 5,
   "id": "75dc7038-0071-43e8-aade-f3e6575f96b4",
   "metadata": {
    "tags": []
   },
   "outputs": [
    {
     "name": "stdout",
     "output_type": "stream",
     "text": [
      "b is equal to a\n"
     ]
    }
   ],
   "source": [
    "if b > a: #False\n",
    "    print(\"b is greater than a\")\n",
    "elif b < a: #False\n",
    "    print(\"b is not greater than a\")\n",
    "else: #True\n",
    "    print(\"b is equal to a\")"
   ]
  },
  {
   "cell_type": "code",
   "execution_count": 8,
   "id": "1ff19a69-9b30-4e0b-96a1-e06f0d50b38f",
   "metadata": {
    "tags": []
   },
   "outputs": [
    {
     "name": "stdout",
     "output_type": "stream",
     "text": [
      "apple is not a fruit\n"
     ]
    }
   ],
   "source": [
    "fruits=[\"apple\", \"banana\"]\n",
    "if \"apple\" in fruits:\n",
    "    print(\"apple is a fruit\")\n",
    "else:\n",
    "    print(\"apple is not a fruit\")"
   ]
  },
  {
   "cell_type": "code",
   "execution_count": 12,
   "id": "9cd9213b",
   "metadata": {
    "tags": []
   },
   "outputs": [
    {
     "name": "stdout",
     "output_type": "stream",
     "text": [
      "onions is a vegatable\n"
     ]
    }
   ],
   "source": [
    "fruits= [\"apple\", \"banana\", \"watermelon\"]\n",
    "vegatables = [\"broccoli\", \"carrots\", \"onions\"]\n",
    "\n",
    "my_item=\"onions\"\n",
    "\n",
    "if my_item in fruits:\n",
    "    print(f\"{my_item} is a fruit\")\n",
    "elif my_item in vegatables:\n",
    "    print(f\"{my_item} is a vegatable\")\n",
    "else:\n",
    "    print(f\"{my_item} is not a fruit not a vegatable\")"
   ]
  },
  {
   "cell_type": "code",
   "execution_count": 14,
   "id": "8d822f68-4e36-4f03-9f2d-a0c45e23607f",
   "metadata": {
    "tags": []
   },
   "outputs": [
    {
     "name": "stdin",
     "output_type": "stream",
     "text": [
      "Enter your name: \n",
      " Jack\n",
      "Enter name of your best friend: \n",
      " Paul\n"
     ]
    },
    {
     "name": "stdout",
     "output_type": "stream",
     "text": [
      "your name is Jack and the name of your friend is Paul Of course it is not the same name! Silly!\n"
     ]
    }
   ],
   "source": [
    "name1=input('Enter your name: \\n')\n",
    "name2=input('Enter name of your best friend: \\n')\n",
    "if name1==name2:\n",
    "    print(f\"you have the same names! You are both {name1}!\")\n",
    "else:\n",
    "    print(f\"your name is {name1} and the name of your friend is {name2} Of course it is not the same name! Silly!\")"
   ]
  },
  {
   "cell_type": "markdown",
   "id": "3200251a",
   "metadata": {},
   "source": [
    "### Exercise 2\n",
    "\n",
    "```python\n",
    "c = int(input('Enter degrees (c):\\n'))\n",
    "\n",
    "if c < 0:\n",
    "    print(\"It's cold, stay at home\")\n",
    "elif c < 20:\n",
    "    print(\"Put a jacket on\")\n",
    "else:\n",
    "    print(\"It's a good weather for a T-shirt\")\n",
    "```"
   ]
  },
  {
   "cell_type": "code",
   "execution_count": 19,
   "id": "6546160c-0178-4726-b2eb-7d840440460d",
   "metadata": {
    "tags": []
   },
   "outputs": [
    {
     "name": "stdin",
     "output_type": "stream",
     "text": [
      "what is the degree outside?:\n",
      " 45\n"
     ]
    },
    {
     "name": "stdout",
     "output_type": "stream",
     "text": [
      "It's a good weather for a T-shirt\n"
     ]
    }
   ],
   "source": [
    "c = int(input('what is the degree outside?:\\n'))\n",
    "\n",
    "if c < 0:\n",
    "    print(\"It's cold, stay at home\")\n",
    "elif c < 20:\n",
    "    print(\"Put a jacket on\")\n",
    "else:\n",
    "    print(\"It's a good weather for a T-shirt\")"
   ]
  },
  {
   "cell_type": "markdown",
   "id": "a21c3e36",
   "metadata": {},
   "source": [
    "### Exercise 3\n",
    "\n",
    "```python\n",
    "age = int(input('Enter your age:\\n'))\n",
    "hour = int(input('What is the hour? (0-24)\\n'))\n",
    "\n",
    "is_late = hour >= 22\n",
    "is_too_young = age <= 12\n",
    "\n",
    "if is_late:\n",
    "    if is_too_young:\n",
    "        print('You should be sleeping ...')\n",
    "    else:\n",
    "        print('Want to watch a movie?')\n",
    "else:\n",
    "    print('Go for a walk!')\n",
    "```"
   ]
  },
  {
   "cell_type": "code",
   "execution_count": 23,
   "id": "ea21a2c1-e5ad-4b41-ae6a-caa7d0d3b1d3",
   "metadata": {
    "tags": []
   },
   "outputs": [
    {
     "name": "stdin",
     "output_type": "stream",
     "text": [
      "Enter your age:\n",
      " 10\n",
      "What is the hour? (0-24)\n",
      " 23\n"
     ]
    },
    {
     "name": "stdout",
     "output_type": "stream",
     "text": [
      "You should be sleeping ...\n"
     ]
    }
   ],
   "source": [
    "age = int(input('Enter your age:\\n'))\n",
    "hour = int(input('What is the hour? (0-24)\\n'))\n",
    "\n",
    "is_late = hour >= 22 #22,23,24\n",
    "is_too_young = age <= 12  #0,1,2,3,4,5,6,7,8,9,10,11,12\n",
    "\n",
    "if is_late:\n",
    "    if is_too_young:\n",
    "        print('You should be sleeping ...')\n",
    "    else:\n",
    "        print('Want to watch a movie?')\n",
    "else:\n",
    "    print('Go for a walk!')"
   ]
  },
  {
   "cell_type": "markdown",
   "id": "371b5e6b-77e0-44fd-8e54-8d4817fca531",
   "metadata": {},
   "source": [
    "### Important Statements\n",
    "- try/except: The try-except clause is used to prevent our program from crashing if an exception is raised\n",
    "*Example:*\n",
    "\n",
    "```python\n",
    "try:\n",
    "    prtn(\"Hello world\")\n",
    "except:\n",
    "    print(\"you made a mistake\")\n",
    "```\n",
    "You should always try to use specific exception when working with try/except\n",
    "```python\n",
    "try:\n",
    "    prtn(\"Hello world\")\n",
    "except NameError:\n",
    "    print(\"you made a mistake\")\n",
    "```\n",
    "- try/except/else: We can also use the else statement if we only want to run certain code when we do not encounter an exception\n",
    "*Example:*\n",
    "```python\n",
    "try:\n",
    "    print(\"Hello world\")\n",
    "except:\n",
    "    print(\"you made a mistake\")\n",
    "else:\n",
    "    print(\"Gerat! no mistakes\")\n",
    "```\n",
    "- finally: The finally clause is a way to always execute code no matter if an exception occurs or not.\n",
    "*Example:*\n",
    "```python\n",
    "try:\n",
    "    prit(\"Hello world\")\n",
    "except:\n",
    "    print(\"you made a mistake\")\n",
    "finally:\n",
    "    print(\"I don't mind your above mistakes\")\n",
    "```\n",
    "\n",
    "- Pass: If you use an if statement and for some reason you want it to do nothing you can use the pass statement\n",
    "*Example:*\n",
    "```python\n",
    "a=10\n",
    "b=20\n",
    "if a>b:\n",
    "    pass\n",
    "```"
   ]
  },
  {
   "cell_type": "code",
   "execution_count": 21,
   "id": "e2314ce6-7e33-49e9-893d-3ca18bae610c",
   "metadata": {},
   "outputs": [
    {
     "name": "stdout",
     "output_type": "stream",
     "text": [
      "apple\n",
      "cherry\n"
     ]
    }
   ],
   "source": [
    "fruits = [\"apple\", \"banana\", \"cherry\"]\n",
    "for x in fruits:\n",
    "    if x == \"banana\":\n",
    "        continue\n",
    "    print(x)"
   ]
  },
  {
   "cell_type": "code",
   "execution_count": 22,
   "id": "aeccdbf3-bb08-442e-8209-e9aed1dcf858",
   "metadata": {},
   "outputs": [],
   "source": [
    "for x in [0, 1, 2]:\n",
    "    pass"
   ]
  },
  {
   "cell_type": "markdown",
   "id": "Uq2LryyuH4tC",
   "metadata": {
    "id": "Uq2LryyuH4tC"
   },
   "source": [
    "## Hands-on Python Tasks\n",
    "\n",
    "**Work in groups** to solve the following tasks in your new Python Dev setup. As a group exercise, we expect you to discuss with your group members to **solve the problems together**. This may mean having one person share their screen and talking through the code you will write together, and making sure you all understand before moving on to the next task. If you do not get through the exercises in class, please keep trying to work through them as homework.\n",
    "\n",
    "There are a lot of tasks, but they are each fairly short. The goal here is to get more practice with data types and the syntax that we learned.\n",
    "\n",
    "### Setup\n",
    "\n",
    "For each task, we recommend creating a new cell (block within the Colab notebook) and writing your code there. Make sure to evaluate the code in the cell (click the play button, or hit the keys: Shift-Enter or Ctrl-Enter) to check the outputs.\n",
    "\n",
    "In case you want to use an integrated development environmen, please set up your IDE:\n",
    "\n",
    "#### VSCode\n",
    "\n",
    "Create and save a new file (`File > New File`) -- you can call it something like `python_exercises_nov2.py` or whatever else you would like, but make sure it has the `.py` file extension. Make sure your Python interpreter is configured properly (according to the installation instructions). Enter the following line into your file: `print('hello')`. Then, try to find the play button in the top right corner and press that, or else right click somewhere within the file and select `Run Python File in Terminal`. Make sure you can see the output 'hello' in the terminal at the bottom.\n",
    "\n",
    "#### PyCharm\n",
    "\n",
    "You can use the project that you set up as part of installing PyCharm or create a new project, depending on how you would like to organize your work. Create a new file (`File > New`, or right-clicking on the left-hand bar and selecting `New > File`) -- you can call it something like `python_exercises_nov2.py` or whatever else you would like, but make sure it has the `.py` file extension. Enter the following line into your file: `print('hello')`. Then, right click on the file tab and select `Run 'YOUR_FILE_NAME'`. Make sure you can see the output 'hello' in the terminal at the bottom. After the first time, you can also simply click the green play button in the top right corner (and make sure the drop-down next to this shows the file name you want to run).\n",
    "\n",
    "#### Backup Option\n",
    "\n",
    "If your setup is not yet working properly, you can also use the IDLE terminal that comes with the Python installation or else the [Python playground](https://trinket.io/python/f7ad7f9864) from last class.\n"
   ]
  },
  {
   "cell_type": "markdown",
   "id": "IVB0Ewc-Kf0E",
   "metadata": {
    "id": "IVB0Ewc-Kf0E"
   },
   "source": [
    "## Task 1 - Comments\n",
    "\n",
    "Comments are lines of code that Python will intentionally ignore. Comments are a great way to leave notes to yourself and to other people who will later need to figure out what that code does.\n",
    "\n",
    "There are two ways to write comments in Python:\n",
    "\n",
    "Using # will tell Python to ignore the remainder of the text on the current line. This is an in-line comment:\n",
    "\n",
    "```py\n",
    "# This is an in-line comment.\n",
    "```\n",
    "\n",
    "You can also have comments that span multiple lines which are done with three single or double quotes to start and 3 to end.\n",
    "\n",
    "```py\n",
    "'''\n",
    "This is a mutiline comment\n",
    "'''\n",
    "```\n",
    "\n",
    "NOTE: As you write code, you should regularly add comments to clarify the function of parts of your code. Good commenting can help communicate the intent of your code—both for others and for your future self.\n",
    "\n",
    "For each of the following tasks, add a comment about your code that states which task you are working on (ex. `# Code for task 12`). Once you have completed a task, you can comment out the printed value from that section, so that you do not continue to see the output of all the previous tasks each time. (There isn't a real output for this task!)\n"
   ]
  },
  {
   "cell_type": "code",
   "execution_count": null,
   "id": "PWdP0aRHK4fN",
   "metadata": {
    "id": "PWdP0aRHK4fN"
   },
   "outputs": [],
   "source": []
  },
  {
   "cell_type": "markdown",
   "id": "6o9VuUiMK9ds",
   "metadata": {
    "id": "6o9VuUiMK9ds"
   },
   "source": [
    "### Task 2 - Declare variables\n",
    "\n",
    "Last class, we went over several Python data types. A \"data type\" describes the quality or structure of a piece of information. Some of the data types that we saw last class include:\n",
    "\n",
    "- `int` for integers (1,0,-4),\n",
    "- `str` for strings ('asdf', 'b', '234'),\n",
    "- `float` for floating point numbers (1.2, 3.44444, 6.2837),\n",
    "- `bool` for booleans (True, False),\n",
    "- `list` for lists ([1,2,3], ['qw45', 134]),\n",
    "\n",
    "For example, computers distinguish between numbers, such as the number 12, and strings, such as \"12\", \"dog\", or \"123 cats\", which are collections of characters. Computers can perform mathematical operations on a number, but not on a string.\n",
    "\n",
    "Variables allow computers to store and manipulate data in a dynamic fashion. They do this by using a \"label\" to point to the data rather than using the data itself. Any of the data types may be stored in a variable, and the value of a variable can be modified.\n",
    "\n",
    "We can create a new Python variable by assigning a value to a label, using the = assignment operator.\n",
    "\n",
    "```py\n",
    "my_name = \"tess\";\n",
    "type(my_name)\n",
    "```\n",
    "\n",
    "creates a variable called `my_name`. A variable name can be composed of characters, numbers, and the \\_ underscore character. It can't start with a number.\n",
    "\n",
    "Create a variable called `our_class` and assign it the value \"Intro to CS\". Print the value of this variable to make sure that it has been set to `Intro to CS`.\n"
   ]
  },
  {
   "cell_type": "code",
   "execution_count": null,
   "id": "1I0cECttLCjL",
   "metadata": {
    "id": "1I0cECttLCjL"
   },
   "outputs": [],
   "source": []
  },
  {
   "cell_type": "markdown",
   "id": "QGPSSJsALJGG",
   "metadata": {
    "id": "QGPSSJsALJGG"
   },
   "source": [
    "### Task 3 - Assign the value of one variable to another\n",
    "\n",
    "After a value is assigned to a variable using the assignment operator, you can assign the value of that variable to another variable using the assignment operator. Here's an example:\n",
    "\n",
    "```py\n",
    "my_var = 'asdf'\n",
    "my_num = my_var\n",
    "print(my_num)\n",
    "# outputs 'asdf'\n",
    "```\n",
    "\n",
    "Create a variable `a` and assign it to the value of 5. Assign the contents of `a` to a new variable, `b`. Print the values of `a` and `b` and make sure these are the same.\n"
   ]
  },
  {
   "cell_type": "code",
   "execution_count": null,
   "id": "tlliTj_RLKMP",
   "metadata": {
    "id": "tlliTj_RLKMP"
   },
   "outputs": [],
   "source": []
  },
  {
   "cell_type": "markdown",
   "id": "AysjTROTLN-o",
   "metadata": {
    "id": "AysjTROTLN-o"
   },
   "source": [
    "### Task 4 - Adding\n",
    "\n",
    "- Create a variable `c` and assign it to the value of two integers added together (i.e. `2 + 4`). Print `c` and make sure that this is equal to the sum of the two numbers you have added together.\n",
    "- Print the sum of `c` and `2`.\n",
    "- Using the variable `a` (value = 5) from Task 2, print the sum of `a` and `c`.\n",
    "- Increment (increase) the value of `c` by 2.\n",
    "\n",
    "Hint: you can increment the value of a variable by using either the `+=` operator (i.e. `my_var += 5`) or by reassigning the variable (i.e. `my_var = my_var + 5`).\n"
   ]
  },
  {
   "cell_type": "code",
   "execution_count": null,
   "id": "FN9lvGb9LOtu",
   "metadata": {
    "id": "FN9lvGb9LOtu"
   },
   "outputs": [],
   "source": []
  },
  {
   "cell_type": "markdown",
   "id": "3GZpPXK9LRfF",
   "metadata": {
    "id": "3GZpPXK9LRfF"
   },
   "source": [
    "### Task 5 - Subtracting\n",
    "\n",
    "- Create a variable `d` and assign it to the value of an integer subtracted from another (i.e. `4 - 3`). Print `d` and make sure that this is equal to the difference of the two numbers.\n",
    "- Print the expression subtracting `d` from `a`.\n",
    "- Decrement (decrease) the value of `d` by 2.\n",
    "\n",
    "Hint: just like with `+=`, you can decrement by using the `-=` operator or by reassigning the variable (i.e. `my_var = my_var - 5`).\n"
   ]
  },
  {
   "cell_type": "code",
   "execution_count": null,
   "id": "ruXdcLd-LSC_",
   "metadata": {
    "id": "ruXdcLd-LSC_"
   },
   "outputs": [],
   "source": []
  },
  {
   "cell_type": "markdown",
   "id": "LX6MBgMILUU7",
   "metadata": {
    "id": "LX6MBgMILUU7"
   },
   "source": [
    "### Task 6 - Multiplying\n",
    "\n",
    "- Create a variable `e` and assign it to the value of an integer multiplied by another (i.e. `3 * 9`). Print `e` and make sure that this is equal to the product of the two numbers you have multiplied.\n",
    "- Print the expression multiplying `e` with `a`.\n",
    "- Multiply the value of `e` by 2.\n",
    "\n",
    "Hint: just like with `-=`, you can multiply the value of a variable by using the `*=` operator or by reassigning the variable (i.e. `my_var = my_var * 5`).\n"
   ]
  },
  {
   "cell_type": "code",
   "execution_count": null,
   "id": "BGHnyrXmLWg0",
   "metadata": {
    "id": "BGHnyrXmLWg0"
   },
   "outputs": [],
   "source": []
  },
  {
   "cell_type": "markdown",
   "id": "v02AkD8uLWyG",
   "metadata": {
    "id": "v02AkD8uLWyG"
   },
   "source": [
    "### Task 7 - Dividing\n",
    "\n",
    "- Create a variable `f` and assign it to the value of a number divided by another (i.e. `3 / 9`). Print `f` and make sure that this is equal to the quotient (result of the division).\n",
    "- Print the expression dividing `f` by `a`.\n",
    "- Divide the value of `f` by 2.\n",
    "\n",
    "Hint: just like with `*=`, you can multiply the value of a variable by using the `/=` operator or by reassigning the variable (i.e. `my_var = my_var / 5`).\n",
    "\n",
    "Note that there are multiple \"types\" of division. In Python, `/` (as used above) divides as we normally think of division and can return a floating point value. There is a second operator, `//`, that performs what is called \"integer division\" which means that it discards the remainder (i.e. no value after the decimal point).\n"
   ]
  },
  {
   "cell_type": "code",
   "execution_count": null,
   "id": "IF7_rUhvLX48",
   "metadata": {
    "id": "IF7_rUhvLX48"
   },
   "outputs": [],
   "source": []
  },
  {
   "cell_type": "markdown",
   "id": "R__PZ_UMLcEq",
   "metadata": {
    "id": "R__PZ_UMLcEq"
   },
   "source": [
    "### Task 8 - Modulo (remainder)\n",
    "\n",
    "The modulo (%) or remainder operator gives the remainder of the division of two numbers.\n",
    "Example:\n",
    "\n",
    "```py\n",
    "5 % 2 = 1 because\n",
    "2 * 2 = 4\n",
    "5 - 4 = 1 (Remainder)\n",
    "```\n",
    "\n",
    "This can be useful to check, among other things, whether a number is even or odd, by checking the remainder of the division of the number by 2:\n",
    "\n",
    "```py\n",
    "17 % 2 = 1 (17 is Odd)\n",
    "48 % 2 = 0 (48 is Even)\n",
    "```\n",
    "\n",
    "Copy the following code and replace `VALUE_HERE` with an integer so that the value of `mod_output` is equal to 3.\n",
    "\n",
    "```py\n",
    "a = VALUE_HERE\n",
    "mod_output = 9 % a\n",
    "print(mod_output)\n",
    "```"
   ]
  },
  {
   "cell_type": "code",
   "execution_count": null,
   "id": "7hqlPa8DLecG",
   "metadata": {
    "id": "7hqlPa8DLecG"
   },
   "outputs": [],
   "source": []
  },
  {
   "cell_type": "markdown",
   "id": "LONOfe-vLhDD",
   "metadata": {
    "id": "LONOfe-vLhDD"
   },
   "source": [
    "### Task 9 - String variables\n",
    "\n",
    "Recall that a string is a series of zero or more characters that are enclosed in either single or double quotes, or triple quotes (the same as with multiline comments). Valid strings in Python include:\n",
    "\n",
    "```py\n",
    "\"\"  # empty string\n",
    "\"'hello'\"\n",
    "'adf'\n",
    "'\"asdf\"'\n",
    "\"\"\"asdf\"\"\"\n",
    "```\n",
    "\n",
    "In Python, you can \"concatenate\", or join, two strings together using the `+` operator. In Python, `'hello' + ' world'` would equal `'hello world'`.\n",
    "\n",
    "- Create two new string variables: `my_first_name` and `my_last_name` and assign them to the values of your first and last name. Print out the value of each variable to confirm this.\n",
    "- Concatenate the two string variables and print this result. Additionally, try to add a space between the two. (Hint: you can concatenate more than one string in an expression, like: `'hello' + ',' + 'world'`).\n",
    "- Create a new variable called `my_fullname` and set this to the value of `my_first_name` concatenated with a space and then `my_last_name` (as in the exercise directly above this).\n",
    "- Recall the `+=` operator that we used to increment a variable. This can also be used to concatenate a string onto the end of a string variable. Try this operator out by adding the line: `my_first_name += ' is awesome'` and printing out `my_first_name`. Is this value what you expected?\n"
   ]
  },
  {
   "cell_type": "code",
   "execution_count": null,
   "id": "tLYmF6F2Lh6h",
   "metadata": {
    "id": "tLYmF6F2Lh6h"
   },
   "outputs": [],
   "source": []
  },
  {
   "cell_type": "markdown",
   "id": "JbZMw2NgLlAE",
   "metadata": {
    "id": "JbZMw2NgLlAE"
   },
   "source": [
    "### Task 10 - String lengths\n",
    "\n",
    "In Python, you can find the length of a String value by writing using the built-in `len` function. Example:\n",
    "\n",
    "```py\n",
    "len(\"redi\")\n",
    "# outputs 4\n",
    "len('hello, world')\n",
    "# outputs 12\n",
    "```\n",
    "\n",
    "- Copy the following snippet into your file, and then print the lengths of each of the following variables:\n",
    "\n",
    "```py\n",
    "empty = ''\n",
    "language = \"Python\"\n",
    "sentence = \"I'm a really long sentence\"\n",
    "```\n",
    "\n",
    "- Write a line of code that defines the variable `total_length` as the sum of the lengths of all three variables above.\n"
   ]
  },
  {
   "cell_type": "code",
   "execution_count": null,
   "id": "A3n0ZiWBLmDC",
   "metadata": {
    "id": "A3n0ZiWBLmDC"
   },
   "outputs": [],
   "source": []
  },
  {
   "cell_type": "markdown",
   "id": "Nv4w449LLujN",
   "metadata": {
    "id": "Nv4w449LLujN"
   },
   "source": [
    "### Task 11 - Strings as iterables\n",
    "\n",
    "Bracket notation, or \"array indexing\" is a way to get a character at a specific index within a string. (This also works for lists and other ordered iterables). Most modern programming languages, like Python, don't start counting at 1 like humans do, but instead start at 0. This is referred to as \"zero-indexing\".\n",
    "\n",
    "For example, the character at the index 0 in the word `Hello` is `H`. So if `word = \"Hello\"`, you can get the value of the first letter of this string by using: `word[0]`.\n",
    "\n",
    "In Python, you can also use negative numbers to index backwards into a word. For example, `word[-1]` will get you the last letter in the word.\n",
    "\n",
    "- Use bracket notation to find the first character in `sentence` from task 9, and print this out.\n",
    "- Use bracket notation and the `len` operator to find the last letter in the word, and print this out. (Hint: the last index is equal to the length of the word - 1 (because of zero-indexing)).\n",
    "- Use the negative number indexing to find and print the second to last letter in `sentence`.\n"
   ]
  },
  {
   "cell_type": "code",
   "execution_count": null,
   "id": "3f3d8eihLvki",
   "metadata": {
    "id": "3f3d8eihLvki"
   },
   "outputs": [],
   "source": []
  },
  {
   "cell_type": "markdown",
   "id": "xww94c0qLyc5",
   "metadata": {
    "id": "xww94c0qLyc5"
   },
   "source": [
    "### Task 12 - Slicing strings\n",
    "\n",
    "You can use the same principle we just used to retrieve a part of the string (sometimes referred to as a \"substring\"). Here are some examples (note: leaving the index off before or after the `:` is shorthand for the start and end of the word):\n",
    "\n",
    "```py\n",
    "word = \"Hello!\"\n",
    "word[1:2]  # outputs: \"e\"\n",
    "word[0:3]  # outputs: \"Hel\"; equivalent to word[:3]\n",
    "word[:]  # outputs: \"Hello!\"\n",
    "word[3:6]  # outputs: \"lo!\"; equivalent to word[3:]\n",
    "word[2:-2]  # outputs: \"ll\"; equivalent to word[2:len(word) - 2]\n",
    "```\n",
    "\n",
    "- Using the variable `sentence` from task 9, `sentence = \"I'm a really long sentence\"`, create a new variable `only_really` that contains only the word `really` in the sentence, and print the value of this variable.\n",
    "- Using the variable `sentence` again, create a new variable called `first_letters` that contains the first 4 letters of `sentence`.\n"
   ]
  },
  {
   "cell_type": "code",
   "execution_count": null,
   "id": "RcU9kr46L5uq",
   "metadata": {
    "id": "RcU9kr46L5uq"
   },
   "outputs": [],
   "source": []
  },
  {
   "cell_type": "markdown",
   "id": "yFKXBBSsL_TC",
   "metadata": {
    "id": "yFKXBBSsL_TC"
   },
   "source": [
    "## Extra resources and references from class\n",
    "\n",
    "- [Python playground](https://trinket.io/python/f7ad7f9864)\n",
    "- [\"Hello, World!\" on Wikipedia](https://en.wikipedia.org/wiki/%22Hello,_World!%22_program)\n",
    "- [Silent Teacher exercise from class](https://hourofcode.com/toxicodepython)\n",
    "- [Python foundation docs](https://www.python.org/doc/essays/blurb/)\n",
    "- [List of some open source Python projects](https://data-flair.training/blogs/python-open-source-projects/)"
   ]
  }
 ],
 "metadata": {
  "colab": {
   "provenance": []
  },
  "kernelspec": {
   "display_name": "Python 3 (ipykernel)",
   "language": "python",
   "name": "python3"
  },
  "language_info": {
   "codemirror_mode": {
    "name": "ipython",
    "version": 3
   },
   "file_extension": ".py",
   "mimetype": "text/x-python",
   "name": "python",
   "nbconvert_exporter": "python",
   "pygments_lexer": "ipython3",
   "version": "3.11.3"
  },
  "vscode": {
   "interpreter": {
    "hash": "916dbcbb3f70747c44a77c7bcd40155683ae19c65e1c03b4aa3499c5328201f1"
   }
  }
 },
 "nbformat": 4,
 "nbformat_minor": 5
}
