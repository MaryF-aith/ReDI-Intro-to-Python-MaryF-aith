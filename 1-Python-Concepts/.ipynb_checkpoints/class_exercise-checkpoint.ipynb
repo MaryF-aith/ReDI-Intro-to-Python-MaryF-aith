{
 "cells": [
  {
   "cell_type": "code",
   "execution_count": null,
   "id": "49b79ad1-70f2-4a55-a790-763a5def24db",
   "metadata": {
    "tags": []
   },
   "outputs": [],
   "source": [
    "a=\"hello\"\n",
    "print(a)"
   ]
  },
  {
   "cell_type": "code",
   "execution_count": null,
   "id": "c129e1e1-e6a1-4a1d-809a-6f61d37851dc",
   "metadata": {
    "tags": []
   },
   "outputs": [],
   "source": [
    "type(a)"
   ]
  },
  {
   "cell_type": "code",
   "execution_count": null,
   "id": "2e1df39c-8689-4aca-85a1-17b0921f9a31",
   "metadata": {
    "tags": []
   },
   "outputs": [],
   "source": [
    "my_list=[\"hello\",25,True,\"Nesli\",45.5]\n",
    "type(my_list)"
   ]
  },
  {
   "cell_type": "code",
   "execution_count": null,
   "id": "648e93c0-d67c-4fb4-9386-ec27d269948a",
   "metadata": {
    "tags": []
   },
   "outputs": [],
   "source": [
    "len(my_list)"
   ]
  },
  {
   "cell_type": "code",
   "execution_count": null,
   "id": "f3512a92-057e-44b0-b364-5900ba04ce56",
   "metadata": {
    "tags": []
   },
   "outputs": [],
   "source": [
    "my_list[-1]"
   ]
  },
  {
   "cell_type": "code",
   "execution_count": null,
   "id": "ce25ee90-640d-426c-b4a7-4b71365f0f9d",
   "metadata": {
    "tags": []
   },
   "outputs": [],
   "source": [
    "a=\"hello, how are you today?\""
   ]
  },
  {
   "cell_type": "code",
   "execution_count": null,
   "id": "0ecf8d38-4ec5-48cc-81c7-ec53b3b51637",
   "metadata": {
    "tags": []
   },
   "outputs": [],
   "source": [
    "len(a)"
   ]
  },
  {
   "cell_type": "code",
   "execution_count": null,
   "id": "10c7da52-79d4-431d-8211-c0dcc03c8b51",
   "metadata": {
    "tags": []
   },
   "outputs": [],
   "source": [
    "a[5]"
   ]
  },
  {
   "cell_type": "code",
   "execution_count": null,
   "id": "d922ba49-76b3-4174-9475-5cfbd6510221",
   "metadata": {
    "tags": []
   },
   "outputs": [],
   "source": [
    "print('Enter your age')\n",
    "age=input() #string\n",
    "age=int(age) #int\n",
    "print(type(age))"
   ]
  },
  {
   "cell_type": "code",
   "execution_count": null,
   "id": "78e65702-9ae2-4f70-a43f-ae362b17c307",
   "metadata": {
    "tags": []
   },
   "outputs": [],
   "source": [
    "print('Enter your age')\n",
    "age=int(str(int(input()))) #int\n",
    "print(type(age))"
   ]
  },
  {
   "cell_type": "code",
   "execution_count": null,
   "id": "23790140-7ae9-44da-af04-422028af0136",
   "metadata": {},
   "outputs": [],
   "source": [
    "print('Enter your name')\n",
    "name = input()\n",
    "print('Hello, ')\n",
    "print(name)"
   ]
  },
  {
   "cell_type": "code",
   "execution_count": null,
   "id": "dc1e53bc-c15e-41a1-b522-e228965ef6ef",
   "metadata": {
    "tags": []
   },
   "outputs": [],
   "source": [
    "print(a)"
   ]
  },
  {
   "cell_type": "code",
   "execution_count": null,
   "id": "74ff9bf5-043d-41ca-8f3b-5777ee8aec45",
   "metadata": {
    "tags": []
   },
   "outputs": [],
   "source": [
    "type(a)"
   ]
  },
  {
   "cell_type": "code",
   "execution_count": null,
   "id": "7bf2cfd9-4fa8-4d45-a76c-042c29fe1d10",
   "metadata": {
    "tags": []
   },
   "outputs": [],
   "source": [
    "b=25\n",
    "type(b)\n",
    "print(b)"
   ]
  },
  {
   "cell_type": "code",
   "execution_count": null,
   "id": "aabd4778-5fce-4317-afa4-fa75d04c699e",
   "metadata": {
    "tags": []
   },
   "outputs": [],
   "source": [
    "b=str(b)\n",
    "print(type(b))\n",
    "print(b)"
   ]
  },
  {
   "cell_type": "code",
   "execution_count": null,
   "id": "f0cd2d14-d445-4f82-b767-6a05ea9f135e",
   "metadata": {
    "tags": []
   },
   "outputs": [],
   "source": [
    "print(f\"Data type of b is {type(b)}\")"
   ]
  },
  {
   "cell_type": "code",
   "execution_count": null,
   "id": "5fc267ea-ef80-484c-90bf-f3cc8395ec45",
   "metadata": {
    "tags": []
   },
   "outputs": [],
   "source": [
    "print(\"Data type of b is\",type(b))"
   ]
  },
  {
   "cell_type": "code",
   "execution_count": null,
   "id": "e487d4f8-6279-4a53-92a6-24df81013564",
   "metadata": {
    "tags": []
   },
   "outputs": [],
   "source": [
    "print(\"Data type of b {} and data type of a {}\".format(type(b), type(a)))"
   ]
  },
  {
   "cell_type": "code",
   "execution_count": null,
   "id": "75210905-ed21-4884-b0f7-34b8a4025158",
   "metadata": {
    "tags": []
   },
   "outputs": [],
   "source": [
    "c=\"25\"\n",
    "type(c)"
   ]
  },
  {
   "cell_type": "code",
   "execution_count": null,
   "id": "d5f6ca41-2af2-4574-a8e7-122841d0c50d",
   "metadata": {
    "tags": []
   },
   "outputs": [],
   "source": [
    "c_new=int(c)\n",
    "type(c_new)"
   ]
  },
  {
   "cell_type": "code",
   "execution_count": null,
   "id": "2c7f2316-b792-462b-923a-9836c87b8806",
   "metadata": {
    "tags": []
   },
   "outputs": [],
   "source": [
    "d=34.45\n",
    "type(d)"
   ]
  },
  {
   "cell_type": "code",
   "execution_count": null,
   "id": "534b838b-e828-433d-bd5a-c15db2de6999",
   "metadata": {
    "tags": []
   },
   "outputs": [],
   "source": [
    "d=\"milena\""
   ]
  },
  {
   "cell_type": "code",
   "execution_count": null,
   "id": "20e58b51-d248-4f81-b913-961bc81c28d8",
   "metadata": {
    "tags": []
   },
   "outputs": [],
   "source": [
    "d_new=int(d)\n",
    "type(d_new)\n",
    "print(d_new)"
   ]
  },
  {
   "cell_type": "code",
   "execution_count": null,
   "id": "92846caf-164b-4714-98cb-39c9f76699f1",
   "metadata": {
    "tags": []
   },
   "outputs": [],
   "source": [
    "e=True\n",
    "type(e)"
   ]
  },
  {
   "cell_type": "code",
   "execution_count": null,
   "id": "c7473506-add4-4484-afdc-393e4728aaae",
   "metadata": {},
   "outputs": [],
   "source": [
    "len(a)"
   ]
  },
  {
   "cell_type": "code",
   "execution_count": null,
   "id": "a1ec304c-c3df-4ae9-9f14-caab3af4033c",
   "metadata": {},
   "outputs": [],
   "source": [
    "a[5]"
   ]
  },
  {
   "cell_type": "code",
   "execution_count": null,
   "id": "3cc56266-cfef-4572-91d7-fd63eba8f6a9",
   "metadata": {},
   "outputs": [],
   "source": [
    "print(\"hello, how are you today?\")"
   ]
  },
  {
   "cell_type": "code",
   "execution_count": null,
   "id": "c69b25aa-f35d-4ade-9d1e-a83711657c8d",
   "metadata": {},
   "outputs": [],
   "source": [
    "variable1= 25\n",
    "variable2= \"Beth\"\n",
    "variable3= True"
   ]
  },
  {
   "cell_type": "code",
   "execution_count": null,
   "id": "a2478780-ca8a-41ca-9f01-49f10b80beac",
   "metadata": {},
   "outputs": [],
   "source": [
    "variable4= \"25\""
   ]
  },
  {
   "cell_type": "code",
   "execution_count": null,
   "id": "5003cb14-011d-48a1-8c20-1b1170a64942",
   "metadata": {},
   "outputs": [],
   "source": [
    "print(variable2)"
   ]
  },
  {
   "cell_type": "code",
   "execution_count": null,
   "id": "35ff7674-bf3f-48aa-b21f-28f8d2f7e920",
   "metadata": {},
   "outputs": [],
   "source": [
    "type(variable3)"
   ]
  },
  {
   "cell_type": "code",
   "execution_count": null,
   "id": "7aaff130-4a2b-44dc-bbce-8f5264ef3bab",
   "metadata": {},
   "outputs": [],
   "source": [
    "variable5= 3.4\n",
    "type(variable5)"
   ]
  },
  {
   "cell_type": "code",
   "execution_count": null,
   "id": "3286925b-4332-43bd-94bf-1b970bd6847c",
   "metadata": {},
   "outputs": [],
   "source": [
    "my_list= [25, \"Beth\", True, 3.2, \"hello\", \"Ivan\", 34, False]\n",
    "print(my_list)"
   ]
  },
  {
   "cell_type": "code",
   "execution_count": null,
   "id": "7f9919e3-45eb-48e9-80b9-4aa66dcf5082",
   "metadata": {},
   "outputs": [],
   "source": [
    "my_list[0]"
   ]
  },
  {
   "cell_type": "code",
   "execution_count": null,
   "id": "3adb5d1e-bde1-4b83-b332-c3976951c16f",
   "metadata": {},
   "outputs": [],
   "source": [
    "my_list[2]"
   ]
  },
  {
   "cell_type": "code",
   "execution_count": null,
   "id": "c422aa95-0125-4ff9-bb77-a5e9e586c8b1",
   "metadata": {},
   "outputs": [],
   "source": [
    "len(my_list)"
   ]
  },
  {
   "cell_type": "code",
   "execution_count": null,
   "id": "3f9dd654-c760-401b-924b-192f9d8ee1e8",
   "metadata": {},
   "outputs": [],
   "source": [
    "a=30"
   ]
  },
  {
   "cell_type": "code",
   "execution_count": null,
   "id": "a7ef230a-26b5-4c0f-b39e-cbcb6c09dd13",
   "metadata": {},
   "outputs": [],
   "source": [
    "print(a)"
   ]
  },
  {
   "cell_type": "code",
   "execution_count": 51,
   "id": "18c6ce01-bcce-4236-86ba-42cc201484f6",
   "metadata": {
    "tags": []
   },
   "outputs": [],
   "source": [
    "a = 34\n",
    "b = 4\n",
    "c = 0"
   ]
  },
  {
   "cell_type": "code",
   "execution_count": 52,
   "id": "41740851-3bbb-493f-b02d-a90820fe6553",
   "metadata": {
    "tags": []
   },
   "outputs": [
    {
     "data": {
      "text/plain": [
       "38"
      ]
     },
     "execution_count": 52,
     "metadata": {},
     "output_type": "execute_result"
    }
   ],
   "source": [
    "c = a + b\n",
    "c"
   ]
  },
  {
   "cell_type": "code",
   "execution_count": 53,
   "id": "7008f332-e670-41a6-9e1b-d179a76491af",
   "metadata": {
    "tags": []
   },
   "outputs": [
    {
     "data": {
      "text/plain": [
       "30"
      ]
     },
     "execution_count": 53,
     "metadata": {},
     "output_type": "execute_result"
    }
   ],
   "source": [
    "c =a - b\n",
    "c"
   ]
  },
  {
   "cell_type": "code",
   "execution_count": 57,
   "id": "cf662b11-abf5-4a5e-ade2-554648aadc11",
   "metadata": {
    "tags": []
   },
   "outputs": [
    {
     "name": "stdout",
     "output_type": "stream",
     "text": [
      "136 <class 'int'>\n"
     ]
    }
   ],
   "source": [
    "c = a * b\n",
    "print(c,type(c))"
   ]
  },
  {
   "cell_type": "code",
   "execution_count": 58,
   "id": "82ac45de-4a00-4d6d-9c8f-1a1eb6e3dce5",
   "metadata": {
    "tags": []
   },
   "outputs": [
    {
     "name": "stdout",
     "output_type": "stream",
     "text": [
      "8.5 <class 'float'>\n"
     ]
    }
   ],
   "source": [
    "c= a / b\n",
    "print(c,type(c))"
   ]
  },
  {
   "cell_type": "code",
   "execution_count": null,
   "id": "cebac357-a93b-40f3-889e-967cc82965a8",
   "metadata": {},
   "outputs": [],
   "source": [
    "type(c)"
   ]
  },
  {
   "cell_type": "code",
   "execution_count": 59,
   "id": "51e2e286-0456-4b1f-bf0d-7d5fcc94d24e",
   "metadata": {
    "tags": []
   },
   "outputs": [],
   "source": [
    "a=2\n",
    "b=3"
   ]
  },
  {
   "cell_type": "code",
   "execution_count": 60,
   "id": "87d469f4-9f46-4703-9849-8a170be9d535",
   "metadata": {
    "tags": []
   },
   "outputs": [
    {
     "data": {
      "text/plain": [
       "6"
      ]
     },
     "execution_count": 60,
     "metadata": {},
     "output_type": "execute_result"
    }
   ],
   "source": [
    "a*b   2*3"
   ]
  },
  {
   "cell_type": "code",
   "execution_count": 61,
   "id": "c9569515-db87-4fc4-b971-7767fe64abc4",
   "metadata": {
    "tags": []
   },
   "outputs": [
    {
     "data": {
      "text/plain": [
       "8"
      ]
     },
     "execution_count": 61,
     "metadata": {},
     "output_type": "execute_result"
    }
   ],
   "source": [
    "a**b  # 2*2*2   # a*a*a"
   ]
  },
  {
   "cell_type": "code",
   "execution_count": 62,
   "id": "bc53f776-d0b9-4ad7-bfff-38aa0bc1697a",
   "metadata": {
    "tags": []
   },
   "outputs": [
    {
     "data": {
      "text/plain": [
       "8"
      ]
     },
     "execution_count": 62,
     "metadata": {},
     "output_type": "execute_result"
    }
   ],
   "source": [
    "a*a*a"
   ]
  },
  {
   "cell_type": "code",
   "execution_count": 63,
   "id": "833e40b4-921d-4270-92df-db67a0fd3d03",
   "metadata": {
    "tags": []
   },
   "outputs": [
    {
     "data": {
      "text/plain": [
       "1"
      ]
     },
     "execution_count": 63,
     "metadata": {},
     "output_type": "execute_result"
    }
   ],
   "source": [
    "5%2"
   ]
  },
  {
   "cell_type": "code",
   "execution_count": null,
   "id": "4c695622-5119-49c8-bdc0-98716a5e406d",
   "metadata": {},
   "outputs": [],
   "source": [
    "c%a"
   ]
  },
  {
   "cell_type": "code",
   "execution_count": 64,
   "id": "6f6c1971-dfd3-4477-9980-30477c418ad1",
   "metadata": {
    "tags": []
   },
   "outputs": [
    {
     "data": {
      "text/plain": [
       "1"
      ]
     },
     "execution_count": 64,
     "metadata": {},
     "output_type": "execute_result"
    }
   ],
   "source": [
    "9%2"
   ]
  },
  {
   "cell_type": "code",
   "execution_count": 68,
   "id": "45749ff8-7ce9-4910-a00e-073be68e5dd7",
   "metadata": {
    "tags": []
   },
   "outputs": [
    {
     "data": {
      "text/plain": [
       "'Milena'"
      ]
     },
     "execution_count": 68,
     "metadata": {},
     "output_type": "execute_result"
    }
   ],
   "source": [
    "a=\"Mile\"\n",
    "b=\"na\"\n",
    "a+b"
   ]
  },
  {
   "cell_type": "code",
   "execution_count": 67,
   "id": "d448d27b-690b-4a56-aecd-a9a6d60b6b54",
   "metadata": {
    "tags": []
   },
   "outputs": [
    {
     "data": {
      "text/plain": [
       "'65'"
      ]
     },
     "execution_count": 67,
     "metadata": {},
     "output_type": "execute_result"
    }
   ],
   "source": [
    "a=\"6\" #str\n",
    "b=5 #int\n",
    "a+str(b)"
   ]
  },
  {
   "cell_type": "code",
   "execution_count": 66,
   "id": "e3e7c7c7-81cb-41bb-8b14-1373f26d6be0",
   "metadata": {
    "tags": []
   },
   "outputs": [
    {
     "data": {
      "text/plain": [
       "11"
      ]
     },
     "execution_count": 66,
     "metadata": {},
     "output_type": "execute_result"
    }
   ],
   "source": [
    "a=\"6\"\n",
    "b=5\n",
    "int(a)+b"
   ]
  },
  {
   "cell_type": "code",
   "execution_count": null,
   "id": "7c77df23-af5c-41a9-a774-e561af66eb62",
   "metadata": {},
   "outputs": [],
   "source": [
    "a=\"6\"\n",
    "b=5\n",
    "c=str(b)+a\n",
    "c"
   ]
  },
  {
   "cell_type": "code",
   "execution_count": 69,
   "id": "2df1e68e-3cfc-4eef-9213-ac599f53b7f8",
   "metadata": {
    "tags": []
   },
   "outputs": [
    {
     "name": "stdout",
     "output_type": "stream",
     "text": [
      "2 string 15\n"
     ]
    }
   ],
   "source": [
    "a=\"2\"  #string\n",
    "b= 5\n",
    "print(a+\" string\",b+10)"
   ]
  },
  {
   "cell_type": "code",
   "execution_count": null,
   "id": "c9aea33c-6c72-45c6-9396-ada28f53078a",
   "metadata": {},
   "outputs": [],
   "source": [
    "c+2"
   ]
  },
  {
   "cell_type": "code",
   "execution_count": 73,
   "id": "271e6bfb-17b9-473a-9bea-73f91b5fa958",
   "metadata": {
    "tags": []
   },
   "outputs": [
    {
     "data": {
      "text/plain": [
       "'Hello Olivia and Deniz'"
      ]
     },
     "execution_count": 73,
     "metadata": {},
     "output_type": "execute_result"
    }
   ],
   "source": [
    "a= \"Olivia\"\n",
    "b= \"Deniz\"\n",
    "c= \"Hello \"+a+\" and \"+b\n",
    "c"
   ]
  },
  {
   "cell_type": "code",
   "execution_count": 74,
   "id": "791fc8c6-1840-4c62-b6d0-ec391b178caf",
   "metadata": {
    "tags": []
   },
   "outputs": [
    {
     "name": "stdout",
     "output_type": "stream",
     "text": [
      "Hello Olivia and Deniz\n",
      "Hello Oksana and Deniz\n"
     ]
    }
   ],
   "source": [
    "c= \"Hello \"+a+\" and \"+b\n",
    "print(c)\n",
    "a=\"Oksana\"\n",
    "c= \"Hello \"+a+\" and \"+b\n",
    "print(c)"
   ]
  },
  {
   "cell_type": "code",
   "execution_count": null,
   "id": "15dc7394-6e29-438b-9584-120dc17f18f0",
   "metadata": {},
   "outputs": [],
   "source": [
    "a=50\n",
    "b=7"
   ]
  },
  {
   "cell_type": "code",
   "execution_count": null,
   "id": "5fac5072",
   "metadata": {},
   "outputs": [],
   "source": []
  },
  {
   "cell_type": "code",
   "execution_count": null,
   "id": "bad7fdd7",
   "metadata": {},
   "outputs": [],
   "source": [
    "if a>b: #condition 1\n",
    "    print(f\"{a} is greater than {b}\") #statement 1\n",
    "elif b>a: #condition 2\n",
    "    print(f\"{b} is greater than {a}\") #statement 2\n",
    "else: #when above conditons are False\n",
    "    print(f\"{a} is equal to {b}\") #statement of else"
   ]
  },
  {
   "cell_type": "code",
   "execution_count": null,
   "id": "65f78b32",
   "metadata": {},
   "outputs": [],
   "source": [
    "a=5\n",
    "a%2"
   ]
  },
  {
   "cell_type": "code",
   "execution_count": 77,
   "id": "c7184884-6d1c-4fb1-8028-24b5e634cc8e",
   "metadata": {
    "tags": []
   },
   "outputs": [
    {
     "data": {
      "text/plain": [
       "True"
      ]
     },
     "execution_count": 77,
     "metadata": {},
     "output_type": "execute_result"
    }
   ],
   "source": [
    "a=5\n",
    "b=3\n",
    "a=b\n",
    "a==b"
   ]
  },
  {
   "cell_type": "code",
   "execution_count": 86,
   "id": "e7eafdc3-9b51-4da0-81fd-dcb49ce5bf7b",
   "metadata": {
    "tags": []
   },
   "outputs": [
    {
     "data": {
      "text/plain": [
       "True"
      ]
     },
     "execution_count": 86,
     "metadata": {},
     "output_type": "execute_result"
    }
   ],
   "source": [
    "a=5\n",
    "b=5\n",
    "a>=b"
   ]
  },
  {
   "cell_type": "code",
   "execution_count": 87,
   "id": "66b0011f-2e91-4422-819a-81ddc16261ed",
   "metadata": {
    "tags": []
   },
   "outputs": [
    {
     "data": {
      "text/plain": [
       "False"
      ]
     },
     "execution_count": 87,
     "metadata": {},
     "output_type": "execute_result"
    }
   ],
   "source": [
    "a=11\n",
    "b=5\n",
    "c=a%b   #11%5   --> 1 ##> c=1\n",
    "c>4"
   ]
  },
  {
   "cell_type": "code",
   "execution_count": 92,
   "id": "c3d2bbac-c269-41be-a5c2-5d660173b4ed",
   "metadata": {
    "tags": []
   },
   "outputs": [
    {
     "data": {
      "text/plain": [
       "'olivia olivia olivia olivia '"
      ]
     },
     "execution_count": 92,
     "metadata": {},
     "output_type": "execute_result"
    }
   ],
   "source": [
    "a=\"olivia \"\n",
    "a*4"
   ]
  },
  {
   "cell_type": "code",
   "execution_count": 97,
   "id": "582f8b44-6027-4911-89bf-38c0c4e4fa50",
   "metadata": {
    "tags": []
   },
   "outputs": [
    {
     "name": "stdout",
     "output_type": "stream",
     "text": [
      "I don't know what you have as a pet\n"
     ]
    }
   ],
   "source": [
    "pet=\"poodle\"\n",
    "if pet==\"dog\":\n",
    "    print(\"you have a dog\")\n",
    "elif pet==\"cat\":\n",
    "    print(\"you have a cat\")\n",
    "elif pet==\"fish\":\n",
    "    print(\"you have a fish\")\n",
    "else:\n",
    "    print(\"I don't know what you have as a pet\")"
   ]
  },
  {
   "cell_type": "code",
   "execution_count": 103,
   "id": "ca8bffbe-0a59-42ca-8f2d-290172426ce5",
   "metadata": {
    "tags": []
   },
   "outputs": [
    {
     "data": {
      "text/plain": [
       "3"
      ]
     },
     "execution_count": 103,
     "metadata": {},
     "output_type": "execute_result"
    }
   ],
   "source": [
    "len(pet)-3"
   ]
  },
  {
   "cell_type": "code",
   "execution_count": 102,
   "id": "0e940623-ff7e-4ba2-80c4-a966c867b978",
   "metadata": {
    "tags": []
   },
   "outputs": [
    {
     "name": "stdout",
     "output_type": "stream",
     "text": [
      "get a driving license\n",
      "go out with friends\n",
      "you are out of our range\n"
     ]
    }
   ],
   "source": [
    "age=20\n",
    "if age>=18:\n",
    "    print(\"get a driving license\")\n",
    "    \n",
    "if age>=16:\n",
    "    print(\"go out with friends\")\n",
    "\n",
    "if age<10:\n",
    "    print(\"stay at home\")\n",
    "else:\n",
    "    print(\"you are out of our range\")"
   ]
  },
  {
   "cell_type": "code",
   "execution_count": null,
   "id": "88c00085",
   "metadata": {},
   "outputs": [],
   "source": [
    "if a%2==1:\n",
    "    print(f\"{a} is a odd number\")\n",
    "elif a%2==0:\n",
    "    print(f\"{a} is an even number\")"
   ]
  },
  {
   "cell_type": "code",
   "execution_count": null,
   "id": "88cb0139",
   "metadata": {},
   "outputs": [],
   "source": [
    "fruits= [\"banana\", \"watermelon\"]\n",
    "vegatables = [\"broccoli\", \"carots\", \"onions\"]\n",
    "\n",
    "if \"apple\" in fruits:\n",
    "    print(\"apple is a fruit\")\n",
    "elif \"apple\" in vegatables:\n",
    "    print(\"apple is a vegatable\")\n",
    "else:\n",
    "    print(\"apple is not a fruit not a vegatable\")"
   ]
  },
  {
   "cell_type": "code",
   "execution_count": null,
   "id": "8b3da5de",
   "metadata": {},
   "outputs": [],
   "source": [
    "degree = int(input('Enter degrees (c):\\n'))\n",
    "\n",
    "if degree < 0:\n",
    "    print(\"It's cold, stay at home\")\n",
    "elif degree < 20:\n",
    "    print(\"Put a jacket on\")\n",
    "else:\n",
    "    print(\"It's a good weather for a T-shirt\")"
   ]
  }
 ],
 "metadata": {
  "kernelspec": {
   "display_name": "Python 3 (ipykernel)",
   "language": "python",
   "name": "python3"
  },
  "language_info": {
   "codemirror_mode": {
    "name": "ipython",
    "version": 3
   },
   "file_extension": ".py",
   "mimetype": "text/x-python",
   "name": "python",
   "nbconvert_exporter": "python",
   "pygments_lexer": "ipython3",
   "version": "3.11.3"
  }
 },
 "nbformat": 4,
 "nbformat_minor": 5
}
