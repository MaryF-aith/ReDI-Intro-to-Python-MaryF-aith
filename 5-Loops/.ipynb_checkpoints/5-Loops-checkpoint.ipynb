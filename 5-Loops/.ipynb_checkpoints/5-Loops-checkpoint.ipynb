{
 "cells": [
  {
   "cell_type": "markdown",
   "id": "b94ee548",
   "metadata": {
    "pycharm": {
     "name": "#%% md\n"
    }
   },
   "source": [
    "## 1. Check-In\n",
    "\n",
    "- Are there any remaining questions from last class?\n",
    "- What exercises were the most challenging? (Respond in the chat)\n",
    "\n",
    "## 2. for and while loops\n",
    "\n",
    "Loops are a tool that help us execute a block of code a specified amount of times or based on a condition. In Python, there are two loops: `for` and `while` loops.\n",
    "\n",
    "### while loops\n",
    "\n",
    "`while` loops allow us to execute a block of code as long as the condition evaluates to `True`.\n",
    "\n",
    "![loop diagram](../images/loop_diagram.png)\n",
    "\n",
    "_Please excuse the ugly diagram :)_\n",
    "\n",
    "Syntax:\n",
    "\n",
    "```python\n",
    "while condition:\n",
    "    # do things\n",
    "```\n",
    "Examples:\n",
    "```python\n",
    "# This is called an \"infinite loop\" since the condition is always True!!\n",
    "while True:\n",
    "    print(\"I'm an infinite loop! I won't stop unless I'm forced to!\")\n",
    "```"
   ]
  },
  {
   "cell_type": "code",
   "execution_count": null,
   "id": "01d8f39f",
   "metadata": {
    "collapsed": false,
    "jupyter": {
     "outputs_hidden": false
    },
    "pycharm": {
     "name": "#%%\n"
    }
   },
   "outputs": [],
   "source": [
    "count = 0\n",
    "while count < 10:\n",
    "    print(\"hello #\", count)\n",
    "    # increment the value of `count`\n",
    "    count += 1"
   ]
  },
  {
   "cell_type": "code",
   "execution_count": null,
   "id": "7895760d",
   "metadata": {
    "collapsed": false,
    "jupyter": {
     "outputs_hidden": false
    },
    "pycharm": {
     "name": "#%%\n"
    }
   },
   "outputs": [],
   "source": [
    "text = ''\n",
    "while text != 'stop':\n",
    "    text = input('Tell me something:\\n')\n",
    "    print('you told me:', text)\n",
    "print('... and I\\'m stopping')"
   ]
  },
  {
   "cell_type": "code",
   "execution_count": null,
   "id": "88ef7a85-1e14-481c-9d6a-bdc4a739fa5d",
   "metadata": {
    "collapsed": false,
    "jupyter": {
     "outputs_hidden": false
    },
    "pycharm": {
     "name": "#%%\n"
    }
   },
   "outputs": [],
   "source": [
    "text = ''\n",
    "while text != 'stop':\n",
    "    text = input('Tell me something:\\n')\n",
    "    print('you told me:', text)\n",
    "else:\n",
    "    print('... and I\\'m stopping')"
   ]
  },
  {
   "cell_type": "markdown",
   "id": "3d3d5d74",
   "metadata": {
    "pycharm": {
     "name": "#%% md\n"
    }
   },
   "source": [
    "Check-in question: can someone explain what's going on in each of these examples?"
   ]
  },
  {
   "cell_type": "code",
   "execution_count": null,
   "id": "a71ac3b1-dd1f-4b6b-ab86-6d315a2a5fbc",
   "metadata": {},
   "outputs": [],
   "source": [
    "#Print a message once the condition is false with else\n",
    "i = 1\n",
    "while i < 6:\n",
    "    print(i)\n",
    "    i += 1\n",
    "else:\n",
    "    print(\"i is no longer less than 6\")"
   ]
  },
  {
   "cell_type": "markdown",
   "id": "ab32ee15-7b5a-426b-9865-667ff1a56d47",
   "metadata": {},
   "source": [
    "### Exercise 1\n",
    "Write a Python program to guess a number between 1 to 9.\n",
    "\n",
    "Note : User is prompted to enter a guess. If the user guesses wrong then the prompt appears again until the guess is correct, on successful guess, user will get a \"Well guessed!\" message, and the program will exit.\n",
    "\n",
    "![guessnumber](../images/guessnumber.png)"
   ]
  },
  {
   "cell_type": "code",
   "execution_count": null,
   "id": "6b84375b-bf46-4b5a-b0e5-880d642d2ec6",
   "metadata": {},
   "outputs": [],
   "source": [
    "import random\n",
    "target_num=random.randint(1,9)\n",
    "guess_num=\"\"\n",
    "while target_num!=guess_num: #false\n",
    "    guess_num=int(input(\"Guess a number between 1 and 9 untill you get it right:\"))\n",
    "else:\n",
    "    print(target_num)\n",
    "    print(\"Well guessed!\")  "
   ]
  },
  {
   "cell_type": "code",
   "execution_count": null,
   "id": "94d1eefc-adfe-4a23-88db-42ea099dbb4c",
   "metadata": {},
   "outputs": [],
   "source": [
    "int(\"one\")"
   ]
  },
  {
   "cell_type": "code",
   "execution_count": null,
   "id": "ea507f07-533b-414f-af20-1356ce342a1c",
   "metadata": {},
   "outputs": [],
   "source": [
    "import random\n",
    "target_num = random.randint(1, 10)\n",
    "guess_num=0\n",
    "while target_num != guess_num:\n",
    "    guess_num = int(input('Guess a number between 1 and 10 until you get it right : '))\n",
    "print('Well guessed!')"
   ]
  },
  {
   "cell_type": "markdown",
   "id": "41769827",
   "metadata": {
    "pycharm": {
     "name": "#%% md\n"
    }
   },
   "source": [
    "### for loops\n",
    "\n",
    "`for` loops provide a way to go through each value (or set of values) in an iterable (e.g. a list, string, dictionary, etc.) and execute a block of code that uses that value.\n",
    "\n",
    "Syntax:\n",
    "\n",
    "```python\n",
    "for variable(s) in iterable:\n",
    "    # do things\n",
    "```\n",
    "\n",
    "Examples: (feel free to try executing these in your IDLE terminal, notebook cell (in Colab), VSCode, or PyCharm :)\n"
   ]
  },
  {
   "cell_type": "code",
   "execution_count": null,
   "id": "cd6237d1",
   "metadata": {
    "collapsed": false,
    "jupyter": {
     "outputs_hidden": false
    },
    "pycharm": {
     "name": "#%%\n"
    }
   },
   "outputs": [],
   "source": [
    "for num in [1, 2, 3]:\n",
    "    print(num)"
   ]
  },
  {
   "cell_type": "markdown",
   "id": "233ac07f",
   "metadata": {
    "pycharm": {
     "name": "#%% md\n"
    }
   },
   "source": [
    "→ with the help of the `for` loop we can for example iterate over a list.\n",
    "```python\n",
    "for item in list:\n",
    "  # do something\n",
    "```"
   ]
  },
  {
   "cell_type": "code",
   "execution_count": null,
   "id": "c9b579ae-ea7a-4176-be23-83fc875e6c6d",
   "metadata": {},
   "outputs": [],
   "source": [
    "fruits = [\"apple\", \"banana\", \"cherry\"]\n",
    "for x in fruits:\n",
    "    print(x)"
   ]
  },
  {
   "cell_type": "code",
   "execution_count": null,
   "id": "8cbe618a",
   "metadata": {
    "collapsed": false,
    "jupyter": {
     "outputs_hidden": false
    },
    "pycharm": {
     "name": "#%%\n"
    }
   },
   "outputs": [],
   "source": [
    "#for loop over a list\n",
    "l = [12, 3, -11, 12.5, 146, 33.82]\n",
    "for num in l:\n",
    "    num += 50\n",
    "    print(num)"
   ]
  },
  {
   "cell_type": "code",
   "execution_count": null,
   "id": "945b362a-9858-4a0b-aeca-327c4ca31dd5",
   "metadata": {},
   "outputs": [],
   "source": [
    "#for loop over a list and store as a list\n",
    "l = [12, 3, -11, 12.5, 146, 33.82]\n",
    "l_new=[]\n",
    "for num in l:\n",
    "    num += 50\n",
    "    l_new.append(num)\n",
    "    #print(l_new)\n",
    "print(l_new)"
   ]
  },
  {
   "cell_type": "code",
   "execution_count": null,
   "id": "86e746d3-5c2e-4d6e-92f0-3112fca01561",
   "metadata": {},
   "outputs": [],
   "source": [
    "#for loop over a string\n",
    "for x in \"banana\":\n",
    "    print(x)"
   ]
  },
  {
   "cell_type": "code",
   "execution_count": null,
   "id": "d639970a",
   "metadata": {
    "collapsed": false,
    "jupyter": {
     "outputs_hidden": false
    },
    "pycharm": {
     "name": "#%%\n"
    }
   },
   "outputs": [],
   "source": [
    "#for loop over a string\n",
    "for letter in 'word':\n",
    "    new_word = letter + '!!'\n",
    "    print(new_word)"
   ]
  },
  {
   "cell_type": "code",
   "execution_count": null,
   "id": "1f7f17ae",
   "metadata": {
    "collapsed": false,
    "jupyter": {
     "outputs_hidden": false
    },
    "pycharm": {
     "name": "#%%\n"
    }
   },
   "outputs": [],
   "source": [
    "# tuples in a list and assignment to multiple variables\n",
    "for num, letter in [(1, 'a'), (2, 'b')]:\n",
    "    # Here, we convert number to string using `str` before concatenating with another string\n",
    "    print(str(num) + letter)"
   ]
  },
  {
   "cell_type": "markdown",
   "id": "e1c4a37b-948a-479d-bfa2-dbb938f715c2",
   "metadata": {},
   "source": [
    "### Exercise 2\n",
    "Write a Python program that prints each item and its corresponding type from the following list.\n",
    "\n",
    "Sample List : datalist = [1452, 11.23, 1+2j, True, 'w3resource', (0, -1), [5, 12], {\"class\":'V', \"section\":'A'}]\n",
    "\n",
    "![itemtypes](../images/itemtypes.png)"
   ]
  },
  {
   "cell_type": "code",
   "execution_count": null,
   "id": "a102dded-6ad5-4db8-b48f-4c13a29952e5",
   "metadata": {},
   "outputs": [],
   "source": [
    "datalist = [1452, 11.23, 1+2j, True, 'w3resource', (0, -1), [5, 12], {\"class\":'V', \"section\":'A'}]\n",
    "for item in datalist:\n",
    "    print(\"Type of \",item, \" is \", type(item))"
   ]
  },
  {
   "cell_type": "markdown",
   "id": "1b1016a2",
   "metadata": {
    "pycharm": {
     "name": "#%% md\n"
    }
   },
   "source": [
    "#### Range Function\n",
    "With `for` loops, it can also be useful to use the `range` operator in Python which creates an iterable of numbers. \n",
    "To loop through a set of code a specified number of times, we can use the range() function,\n",
    "The range() function returns a sequence of numbers, starting from 0 by default, and increments by 1 (by default), and ends at a specified number.\n",
    "The syntax of this is `range(start, end, step)`, but you will also see this as just `range(start, end)` or `range(end)` (in this last case, the `start` is assumed to be 0). Note that the `end` value is not included (in other words, \"numbers starting with `start` up until (not through) `end`\"). Here are some examples:"
   ]
  },
  {
   "cell_type": "code",
   "execution_count": null,
   "id": "9fb83aa4",
   "metadata": {
    "collapsed": false,
    "jupyter": {
     "outputs_hidden": false
    },
    "pycharm": {
     "name": "#%%\n"
    }
   },
   "outputs": [],
   "source": [
    "for i in range(3):\n",
    "    print(i)"
   ]
  },
  {
   "cell_type": "code",
   "execution_count": null,
   "id": "5663afb4",
   "metadata": {
    "collapsed": false,
    "jupyter": {
     "outputs_hidden": false
    },
    "pycharm": {
     "name": "#%%\n"
    }
   },
   "outputs": [],
   "source": [
    "# we can create a list out of a `range`\n",
    "list(range(1, 4))"
   ]
  },
  {
   "cell_type": "code",
   "execution_count": null,
   "id": "f51356ec",
   "metadata": {
    "collapsed": false,
    "jupyter": {
     "outputs_hidden": false
    },
    "pycharm": {
     "name": "#%%\n"
    }
   },
   "outputs": [],
   "source": [
    "list(range(-1, 9, 3))  # here, the step (space between values) is 3"
   ]
  },
  {
   "cell_type": "markdown",
   "id": "3a65db62-17d7-4620-8559-5ccd98050466",
   "metadata": {},
   "source": [
    "### Important Statements\n",
    "- Break: With the break statement we can stop the loop before it has looped through all the items\n",
    "*Example:*\n",
    "Exit the loop when x is \"banana\":\n",
    "```python\n",
    "fruits = [\"apple\", \"banana\", \"cherry\"]\n",
    "for x in fruits:\n",
    "    print(x)\n",
    "    if x == \"banana\":\n",
    "    break\n",
    "```\n",
    "- Continue: With the continue statement we can stop the current iteration of the loop, and continue with the next\n",
    "*Example:*\n",
    "Do not print banana:\n",
    "```python\n",
    "fruits = [\"apple\", \"banana\", \"cherry\"]\n",
    "for x in fruits:\n",
    "    if x == \"banana\":\n",
    "        continue\n",
    "    print(x)\n",
    "```\n",
    "- Pass: for loops cannot be empty, but if you for some reason have a for loop with no content, put in the pass statement to avoid getting an error.\n",
    "*Example:*\n",
    "```python\n",
    "for x in [0, 1, 2]:\n",
    "    pass\n",
    "```"
   ]
  },
  {
   "cell_type": "code",
   "execution_count": null,
   "id": "46a3c536-f31d-4e3d-9594-ded5704d29bd",
   "metadata": {},
   "outputs": [],
   "source": [
    "fruits = [\"apple\", \"banana\", \"cherry\"]\n",
    "for x in fruits:\n",
    "    if x == \"banana\":\n",
    "        continue\n",
    "    print(x)"
   ]
  },
  {
   "cell_type": "code",
   "execution_count": null,
   "id": "946fe729-e2e1-408b-9128-b920b513df65",
   "metadata": {},
   "outputs": [],
   "source": [
    "for x in [0, 1, 2]:\n",
    "    pass"
   ]
  },
  {
   "cell_type": "markdown",
   "id": "4d29697c-69bd-4683-b713-e65fd8ff5de3",
   "metadata": {},
   "source": [
    "### Exercise 3\n",
    "Write a Python program that prints all the numbers from 0 to 6 except 3 and 6.\n",
    "\n",
    "Note : Use 'continue' statement.\n",
    "\n",
    "![exercise3](../images/exercise3.png)"
   ]
  },
  {
   "cell_type": "code",
   "execution_count": null,
   "id": "6f87db3f-f47b-4c84-bfef-c94bb51c6ce8",
   "metadata": {},
   "outputs": [],
   "source": [
    "for i in range(6):\n",
    "    if (i == 3 or i == 6):\n",
    "        continue\n",
    "    print(i, end=\"/\")\n",
    "#print(\"\\n\")"
   ]
  },
  {
   "cell_type": "code",
   "execution_count": null,
   "id": "f8140ac4-eb92-4223-9665-999c35afba05",
   "metadata": {},
   "outputs": [],
   "source": [
    "for x in range(6):\n",
    "    if (x == 3 or x==6):\n",
    "        continue\n",
    "    print(x,end=' ')\n",
    "print(\"\\n\")\n",
    "\n"
   ]
  },
  {
   "cell_type": "markdown",
   "id": "00e4e0c1",
   "metadata": {
    "pycharm": {
     "name": "#%% md\n"
    }
   },
   "source": [
    "### Exercise 4\n",
    "Write a Python program that counts character \"a\" in a given string"
   ]
  },
  {
   "cell_type": "code",
   "execution_count": null,
   "id": "a55d3ad2",
   "metadata": {
    "collapsed": false,
    "jupyter": {
     "outputs_hidden": false
    },
    "pycharm": {
     "name": "#%%\n"
    }
   },
   "outputs": [],
   "source": [
    "s = 'this is a random string with several letters \\'e\\''\n",
    "counter = 0\n",
    "for character in s:\n",
    "    if character == 's':\n",
    "        counter += 1 \n",
    "print('Found', counter, 'letters \\'e\\' in the given string')"
   ]
  },
  {
   "cell_type": "markdown",
   "id": "f0351ca9-8232-4969-92e7-ed43dddb555a",
   "metadata": {},
   "source": [
    "### Exercise 5\n",
    "Write a Python program to count the number of even and odd numbers from a series of numbers.\n",
    "\n",
    "![exercise5-1](../images/exercise5-1.png)\n",
    "![exercise5-2](../images/exercise5-2.png)\n",
    "\n",
    "![exercise5-flowchart](../images/exercise5-flowchart.png)"
   ]
  },
  {
   "cell_type": "code",
   "execution_count": null,
   "id": "077bcc12-efca-40fd-b8b3-b0d2b2992142",
   "metadata": {},
   "outputs": [],
   "source": [
    "numbers = (1, 2, 3, 4, 5, 6, 7, 8, 9) # Declaring the tuple\n",
    "count_odd = 0\n",
    "count_even = 0\n",
    "even=[]\n",
    "odd=[]\n",
    "for x in numbers:\n",
    "        if not x % 2:\n",
    "            count_even+=1\n",
    "            print(\"Even\", x)  \n",
    "        else:\n",
    "            count_odd+=1\n",
    "            print(\"Odd\",x)                  \n",
    "print(\"Number of even numbers :\",count_even)\n",
    "print(\"Number of odd numbers :\",count_odd)\n",
    "#output: even=[2,4,6,8]"
   ]
  },
  {
   "cell_type": "markdown",
   "id": "cce5ac08-75ec-4919-bd5f-2d4eb56c6682",
   "metadata": {},
   "source": [
    "## Take-away\n",
    "- If you have to perform the same set of instructions (may be for different data) several times - you should think about using one of the loops\n",
    "- If you have a sequence and you have to do the same operations for every element of the sequence - it’s `for loop`\n",
    "- If you don’t have a sequence, but when you think of your algorithm, you’re using the words 'while' or 'until' - it’s `while loop`"
   ]
  },
  {
   "cell_type": "markdown",
   "id": "23b77952",
   "metadata": {
    "pycharm": {
     "name": "#%% md\n"
    }
   },
   "source": [
    "## Additional Resources\n",
    "\n",
    "- [W3 schools Python while loops](https://www.w3schools.com/python/python_while_loops.asp)\n",
    "- [W3 schools Python for loops](https://www.w3schools.com/python/python_for_loops.asp)\n",
    "- [Tutorialspoint loops in Python](https://www.tutorialspoint.com/python3/python_loops.htm)\n",
    "- [additional practice problems on loops and conditions (note: some are challenging!)](https://www.w3resource.com/python-exercises/python-conditional-statements-and-loop-exercises.php)\n",
    "- [additional practice problems (note: challenging!)](https://www.practicepython.org/)\n"
   ]
  },
  {
   "cell_type": "code",
   "execution_count": null,
   "id": "f4ac69a7-c814-43d0-b57e-0ff45162e92e",
   "metadata": {},
   "outputs": [],
   "source": []
  }
 ],
 "metadata": {
  "kernelspec": {
   "display_name": "Python 3 (ipykernel)",
   "language": "python",
   "name": "python3"
  },
  "language_info": {
   "codemirror_mode": {
    "name": "ipython",
    "version": 3
   },
   "file_extension": ".py",
   "mimetype": "text/x-python",
   "name": "python",
   "nbconvert_exporter": "python",
   "pygments_lexer": "ipython3",
   "version": "3.11.3"
  },
  "vscode": {
   "interpreter": {
    "hash": "2d63cf38a8ddc3101a2c0f32b71647b4096a78b8efd4c1bbcf73ffeaf57c27fa"
   }
  }
 },
 "nbformat": 4,
 "nbformat_minor": 5
}
