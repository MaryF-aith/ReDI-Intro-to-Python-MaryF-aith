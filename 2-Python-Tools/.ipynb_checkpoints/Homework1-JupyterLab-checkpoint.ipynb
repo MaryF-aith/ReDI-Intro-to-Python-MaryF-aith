{
  "cells": [
    {
      "cell_type": "markdown",
      "id": "8d44c10e",
      "metadata": {
        "id": "8d44c10e"
      },
      "source": [
        "### Task 1\n",
        "Create a markdown cell below and give a title as Homework1 - yourname"
      ]
    },
    {
      "cell_type": "markdown",
      "source": [
        "**Homework1 - Mary**"
      ],
      "metadata": {
        "id": "hP7a2R2WyDan"
      },
      "id": "hP7a2R2WyDan"
    },
    {
      "cell_type": "markdown",
      "id": "dce947ac",
      "metadata": {
        "id": "dce947ac"
      },
      "source": [
        "### Task 2\n",
        "Run the below cell and check the outcome. Note: to run a cell, click to cell and Shift + Enter"
      ]
    },
    {
      "cell_type": "code",
      "execution_count": 43,
      "id": "a47b4f74-9853-464b-861f-4b9d62fe07fd",
      "metadata": {
        "tags": [],
        "colab": {
          "base_uri": "https://localhost:8080/"
        },
        "id": "a47b4f74-9853-464b-861f-4b9d62fe07fd",
        "outputId": "711f526a-4419-451d-b270-22b33e8b8c32"
      },
      "outputs": [
        {
          "output_type": "stream",
          "name": "stdout",
          "text": [
            "Hello Intro to Computer Science\n"
          ]
        }
      ],
      "source": [
        "print(\"Hello Intro to Computer Science\")"
      ]
    },
    {
      "cell_type": "markdown",
      "id": "15d8c5eb",
      "metadata": {
        "id": "15d8c5eb"
      },
      "source": [
        "### Task 3\n",
        "Create a code cell and write print statement with your name as a string"
      ]
    },
    {
      "cell_type": "code",
      "execution_count": 44,
      "id": "dec8667e-3ea6-4064-94ab-e07862be9494",
      "metadata": {
        "colab": {
          "base_uri": "https://localhost:8080/"
        },
        "id": "dec8667e-3ea6-4064-94ab-e07862be9494",
        "outputId": "d06c93fa-c44c-4e52-a108-fc91a5b83137"
      },
      "outputs": [
        {
          "output_type": "stream",
          "name": "stdout",
          "text": [
            "Mary\n"
          ]
        }
      ],
      "source": [
        "print (\"Mary\")"
      ]
    },
    {
      "cell_type": "markdown",
      "id": "36eba1b8",
      "metadata": {
        "id": "36eba1b8"
      },
      "source": [
        "### Task 4\n",
        "Assing your name to a variable which is called myname, then print the variable\n"
      ]
    },
    {
      "cell_type": "code",
      "execution_count": 45,
      "id": "b9d4b93c",
      "metadata": {
        "colab": {
          "base_uri": "https://localhost:8080/"
        },
        "id": "b9d4b93c",
        "outputId": "21298f1a-030e-4cb8-a2ac-c165b37d038f"
      },
      "outputs": [
        {
          "output_type": "stream",
          "name": "stdout",
          "text": [
            "Mary\n"
          ]
        }
      ],
      "source": [
        "myname = \"Mary\"\n",
        "print (myname)"
      ]
    },
    {
      "cell_type": "markdown",
      "id": "c4769a69",
      "metadata": {
        "id": "c4769a69"
      },
      "source": [
        "### Task 5\n",
        "Write a print statement which prints \"Hello, yourname\" by combining string and variable. Remember f-string"
      ]
    },
    {
      "cell_type": "code",
      "execution_count": 46,
      "id": "01a807d5-8849-44ee-b6be-5bcd09032c55",
      "metadata": {
        "colab": {
          "base_uri": "https://localhost:8080/"
        },
        "id": "01a807d5-8849-44ee-b6be-5bcd09032c55",
        "outputId": "59abaf67-e9e2-462f-f083-679811ae24dd"
      },
      "outputs": [
        {
          "output_type": "stream",
          "name": "stdout",
          "text": [
            "Hello, Mary\n"
          ]
        }
      ],
      "source": [
        "print (f\"Hello, {myname}\")\n",
        "\n",
        "\n"
      ]
    },
    {
      "cell_type": "markdown",
      "id": "5aba3207",
      "metadata": {
        "id": "5aba3207"
      },
      "source": [
        "### Task 6\n",
        "\n",
        "Run all the cells in the order.\n",
        "Move the order of the cells, and try to run them again.\n",
        "What is your observation?"
      ]
    },
    {
      "cell_type": "markdown",
      "source": [],
      "metadata": {
        "id": "-yJYmWRiJxgU"
      },
      "id": "-yJYmWRiJxgU"
    }
  ],
  "metadata": {
    "kernelspec": {
      "display_name": "Python 3 (ipykernel)",
      "language": "python",
      "name": "python3"
    },
    "language_info": {
      "codemirror_mode": {
        "name": "ipython",
        "version": 3
      },
      "file_extension": ".py",
      "mimetype": "text/x-python",
      "name": "python",
      "nbconvert_exporter": "python",
      "pygments_lexer": "ipython3",
      "version": "3.11.3"
    },
    "colab": {
      "provenance": []
    }
  },
  "nbformat": 4,
  "nbformat_minor": 5
}