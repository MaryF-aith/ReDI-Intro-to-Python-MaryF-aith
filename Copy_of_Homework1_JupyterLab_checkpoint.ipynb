{
  "cells": [
    {
      "cell_type": "markdown",
      "metadata": {
        "id": "view-in-github",
        "colab_type": "text"
      },
      "source": [
        "<a href=\"https://colab.research.google.com/github/MaryF-aith/ReDI-Intro-to-Python-MaryF-aith/blob/main/Copy_of_Homework1_JupyterLab_checkpoint.ipynb\" target=\"_parent\"><img src=\"https://colab.research.google.com/assets/colab-badge.svg\" alt=\"Open In Colab\"/></a>"
      ]
    },
    {
      "cell_type": "markdown",
      "id": "8d44c10e",
      "metadata": {
        "id": "8d44c10e"
      },
      "source": [
        "### Task 1\n",
        "Create a markdown cell below and give a title as Homework1 - yourname"
      ]
    },
    {
      "cell_type": "markdown",
      "source": [
        "**Homework1 - Mary**"
      ],
      "metadata": {
        "id": "hP7a2R2WyDan"
      },
      "id": "hP7a2R2WyDan"
    },
    {
      "cell_type": "markdown",
      "id": "dce947ac",
      "metadata": {
        "id": "dce947ac"
      },
      "source": [
        "### Task 2\n",
        "Run the below cell and check the outcome. Note: to run a cell, click to cell and Shift + Enter"
      ]
    },
    {
      "cell_type": "code",
      "execution_count": null,
      "id": "a47b4f74-9853-464b-861f-4b9d62fe07fd",
      "metadata": {
        "tags": [],
        "id": "a47b4f74-9853-464b-861f-4b9d62fe07fd",
        "outputId": "38f76260-689c-41e3-d3e9-cac00a52c72d",
        "colab": {
          "base_uri": "https://localhost:8080/"
        }
      },
      "outputs": [
        {
          "output_type": "stream",
          "name": "stdout",
          "text": [
            "Hello Intro to Computer Science\n"
          ]
        }
      ],
      "source": [
        "print(\"Hello Intro to Computer Science\")"
      ]
    },
    {
      "cell_type": "markdown",
      "id": "15d8c5eb",
      "metadata": {
        "id": "15d8c5eb"
      },
      "source": [
        "### Task 3\n",
        "Create a code cell and write print statement with your name as a string"
      ]
    },
    {
      "cell_type": "code",
      "execution_count": null,
      "id": "dec8667e-3ea6-4064-94ab-e07862be9494",
      "metadata": {
        "id": "dec8667e-3ea6-4064-94ab-e07862be9494",
        "outputId": "e3f06899-d370-4a7f-c5a0-598bedd3b642",
        "colab": {
          "base_uri": "https://localhost:8080/"
        }
      },
      "outputs": [
        {
          "output_type": "stream",
          "name": "stdout",
          "text": [
            "Mary\n"
          ]
        }
      ],
      "source": [
        "print (\"Mary\")"
      ]
    },
    {
      "cell_type": "markdown",
      "id": "36eba1b8",
      "metadata": {
        "id": "36eba1b8"
      },
      "source": [
        "### Task 4\n",
        "Assing your name to a variable which is called myname, then print the variable\n"
      ]
    },
    {
      "cell_type": "code",
      "execution_count": null,
      "id": "b9d4b93c",
      "metadata": {
        "id": "b9d4b93c",
        "outputId": "807e205b-2f1a-4cb9-eaa2-6da2794654b9",
        "colab": {
          "base_uri": "https://localhost:8080/"
        }
      },
      "outputs": [
        {
          "output_type": "stream",
          "name": "stdout",
          "text": [
            "Hello, Mary\n"
          ]
        }
      ],
      "source": [
        "myname = \"Mary\"\n",
        "print (myname)"
      ]
    },
    {
      "cell_type": "markdown",
      "id": "c4769a69",
      "metadata": {
        "id": "c4769a69"
      },
      "source": [
        "### Task 5\n",
        "Write a print statement which prints \"Hello, yourname\" by combining string and variable. Remember f-string"
      ]
    },
    {
      "cell_type": "code",
      "execution_count": null,
      "id": "01a807d5-8849-44ee-b6be-5bcd09032c55",
      "metadata": {
        "id": "01a807d5-8849-44ee-b6be-5bcd09032c55"
      },
      "outputs": [],
      "source": [
        "print (f\"Hello, {myname}\")\n",
        "\n",
        "\n"
      ]
    },
    {
      "cell_type": "markdown",
      "id": "5aba3207",
      "metadata": {
        "id": "5aba3207"
      },
      "source": [
        "### Task 6\n",
        "\n",
        "Run all the cells in the order.\n",
        "Move the order of the cells, and try to run them again.\n",
        "What is your observation?"
      ]
    },
    {
      "cell_type": "markdown",
      "source": [],
      "metadata": {
        "id": "-yJYmWRiJxgU"
      },
      "id": "-yJYmWRiJxgU"
    }
  ],
  "metadata": {
    "kernelspec": {
      "display_name": "Python 3 (ipykernel)",
      "language": "python",
      "name": "python3"
    },
    "language_info": {
      "codemirror_mode": {
        "name": "ipython",
        "version": 3
      },
      "file_extension": ".py",
      "mimetype": "text/x-python",
      "name": "python",
      "nbconvert_exporter": "python",
      "pygments_lexer": "ipython3",
      "version": "3.11.3"
    },
    "colab": {
      "provenance": [],
      "include_colab_link": true
    }
  },
  "nbformat": 4,
  "nbformat_minor": 5
}